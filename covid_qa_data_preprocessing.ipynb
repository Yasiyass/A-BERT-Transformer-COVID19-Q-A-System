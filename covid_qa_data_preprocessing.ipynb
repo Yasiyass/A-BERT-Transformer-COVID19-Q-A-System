{
 "cells": [
  {
   "cell_type": "markdown",
   "metadata": {
    "colab_type": "text",
    "id": "view-in-github"
   },
   "source": [
    "<a href=\"https://colab.research.google.com/github/deeplearn-ai/covid-qa-udemy/blob/main/Section3_Data_Pre-Processing/covid_qa_data_preprocessing.ipynb\" target=\"_parent\"><img src=\"https://colab.research.google.com/assets/colab-badge.svg\" alt=\"Open In Colab\"/></a>"
   ]
  },
  {
   "cell_type": "markdown",
   "metadata": {
    "id": "lDCybMxqzQ8o"
   },
   "source": [
    "**Installing and importing libraries**\n",
    "lecture 19"
   ]
  },
  {
   "cell_type": "code",
   "execution_count": null,
   "metadata": {
    "colab": {
     "base_uri": "https://localhost:8080/"
    },
    "id": "QShOgmwxjjxR",
    "outputId": "cc3e70a0-14c4-4e9b-a786-1533edfe8891"
   },
   "outputs": [],
   "source": [
    "#!pip3 install pandas==1.3.1\n",
    "#!pip3 install numpy==1.21.1"
   ]
  },
  {
   "cell_type": "code",
   "execution_count": 1,
   "metadata": {
    "colab": {
     "base_uri": "https://localhost:8080/"
    },
    "id": "taKuWoSOoXPs",
    "outputId": "8685b1b9-1ab4-4d8c-a82a-4e062eac241c"
   },
   "outputs": [
    {
     "name": "stdout",
     "output_type": "stream",
     "text": [
      "Python 3.9.13\r\n"
     ]
    }
   ],
   "source": [
    "#check your python version\n",
    "!python3 --version"
   ]
  },
  {
   "cell_type": "code",
   "execution_count": 3,
   "metadata": {},
   "outputs": [],
   "source": [
    "#!pip install pickle5"
   ]
  },
  {
   "cell_type": "code",
   "execution_count": 2,
   "metadata": {
    "colab": {
     "base_uri": "https://localhost:8080/"
    },
    "id": "FwXMHbcGoKit",
    "outputId": "41b0e09a-d5da-4b16-e539-7e5d073a9372"
   },
   "outputs": [],
   "source": [
    "#for colab users and python<3.8\n",
    "#!pip install pickle\n",
    "import pickle \n",
    "\n",
    "#for python >= 3.8 RUN below command and comment above command\n",
    "#import pickle"
   ]
  },
  {
   "cell_type": "code",
   "execution_count": 3,
   "metadata": {
    "id": "XO3nYJ8uz-22"
   },
   "outputs": [],
   "source": [
    "import pandas as pd\n",
    "import numpy as np"
   ]
  },
  {
   "cell_type": "markdown",
   "metadata": {
    "id": "2RDPTgYZ0n-9"
   },
   "source": [
    "**Accessing the course dataset**"
   ]
  },
  {
   "cell_type": "code",
   "execution_count": 6,
   "metadata": {
    "colab": {
     "base_uri": "https://localhost:8080/"
    },
    "id": "o7aERVEv0kFu",
    "outputId": "0f15cc0a-31f2-420f-ead8-cc164f864f12"
   },
   "outputs": [],
   "source": [
    "#!wget https://storage.googleapis.com/deep-learn-public/metadata_sample.pickle\n",
    "#!wget https://storage.googleapis.com/deep-learn-public/json_pdf_sample.pickle\n",
    "#!wget https://storage.googleapis.com/deep-learn-public/json_pmc_sample.pickle"
   ]
  },
  {
   "cell_type": "code",
   "execution_count": 4,
   "metadata": {
    "id": "AwC1R5tHzz47"
   },
   "outputs": [],
   "source": [
    "# Accessing the research papers and data\n",
    "\n",
    "with open('metadata_sample.pickle', 'rb') as f:\n",
    "  df_metadata = pickle.load(f)\n",
    "with open('json_pdf_sample.pickle', 'rb') as f:\n",
    "  df_pdf = pickle.load(f)\n",
    "with open('json_pmc_sample.pickle', 'rb') as f:\n",
    "  df_pmc = pickle.load(f)"
   ]
  },
  {
   "cell_type": "code",
   "execution_count": 6,
   "metadata": {
    "colab": {
     "base_uri": "https://localhost:8080/",
     "height": 547
    },
    "id": "fNKMWxKG0IMk",
    "outputId": "d05c925d-b9bb-49b0-d2a2-b8d97102c98c"
   },
   "outputs": [
    {
     "data": {
      "text/html": [
       "<div>\n",
       "<style scoped>\n",
       "    .dataframe tbody tr th:only-of-type {\n",
       "        vertical-align: middle;\n",
       "    }\n",
       "\n",
       "    .dataframe tbody tr th {\n",
       "        vertical-align: top;\n",
       "    }\n",
       "\n",
       "    .dataframe thead th {\n",
       "        text-align: right;\n",
       "    }\n",
       "</style>\n",
       "<table border=\"1\" class=\"dataframe\">\n",
       "  <thead>\n",
       "    <tr style=\"text-align: right;\">\n",
       "      <th></th>\n",
       "      <th>cord_uid</th>\n",
       "      <th>sha</th>\n",
       "      <th>source_x</th>\n",
       "      <th>title</th>\n",
       "      <th>doi</th>\n",
       "      <th>pmcid</th>\n",
       "      <th>pubmed_id</th>\n",
       "      <th>license</th>\n",
       "      <th>abstract</th>\n",
       "      <th>publish_time</th>\n",
       "      <th>authors</th>\n",
       "      <th>journal</th>\n",
       "      <th>mag_id</th>\n",
       "      <th>who_covidence_id</th>\n",
       "      <th>arxiv_id</th>\n",
       "      <th>pdf_json_files</th>\n",
       "      <th>pmc_json_files</th>\n",
       "      <th>url</th>\n",
       "      <th>s2_id</th>\n",
       "    </tr>\n",
       "  </thead>\n",
       "  <tbody>\n",
       "    <tr>\n",
       "      <th>675956</th>\n",
       "      <td>cmru815l</td>\n",
       "      <td>0c18d8bada7843ddf469a6f62e83b4d96ab3c9b9</td>\n",
       "      <td>Medline; PMC</td>\n",
       "      <td>SARS-CoV-2 infection in China—Before the pandemic</td>\n",
       "      <td>10.1371/journal.pntd.0008472</td>\n",
       "      <td>PMC7410170</td>\n",
       "      <td>32760070</td>\n",
       "      <td>cc-by</td>\n",
       "      <td>In order to rapidly inform polices in the inte...</td>\n",
       "      <td>2020-08-06</td>\n",
       "      <td>Liang, Huiying; Zheng, Lingling; Xia, Huimin; ...</td>\n",
       "      <td>PLoS Negl Trop Dis</td>\n",
       "      <td>NaN</td>\n",
       "      <td>NaN</td>\n",
       "      <td>NaN</td>\n",
       "      <td>document_parses/pdf_json/0c18d8bada7843ddf469a...</td>\n",
       "      <td>document_parses/pmc_json/PMC7410170.xml.json</td>\n",
       "      <td>https://doi.org/10.1371/journal.pntd.0008472; ...</td>\n",
       "      <td>221037683.0</td>\n",
       "    </tr>\n",
       "    <tr>\n",
       "      <th>61567</th>\n",
       "      <td>19qe32xb</td>\n",
       "      <td>5759f02599e9135b5dfb4e0e5be373ec83d34e5f</td>\n",
       "      <td>PMC</td>\n",
       "      <td>From Monopoly to Monopsony Capitalism</td>\n",
       "      <td>10.1007/s41027-021-00350-w</td>\n",
       "      <td>PMC8579412</td>\n",
       "      <td>NaN</td>\n",
       "      <td>no-cc</td>\n",
       "      <td>This paper argues for the characterization of ...</td>\n",
       "      <td>2021-11-10</td>\n",
       "      <td>Nathan, Dev</td>\n",
       "      <td>Indian J Labour Econ</td>\n",
       "      <td>NaN</td>\n",
       "      <td>NaN</td>\n",
       "      <td>NaN</td>\n",
       "      <td>document_parses/pdf_json/5759f02599e9135b5dfb4...</td>\n",
       "      <td>document_parses/pmc_json/PMC8579412.xml.json</td>\n",
       "      <td>https://www.ncbi.nlm.nih.gov/pmc/articles/PMC8...</td>\n",
       "      <td>NaN</td>\n",
       "    </tr>\n",
       "    <tr>\n",
       "      <th>600701</th>\n",
       "      <td>3ns0r8oh</td>\n",
       "      <td>de0403b324a00e28e80221eeb65c56db1e5b33be</td>\n",
       "      <td>Medline; PMC; WHO</td>\n",
       "      <td>3D Printed N-95 Masks During the COVID-19 Pand...</td>\n",
       "      <td>10.1007/s10439-021-02859-z</td>\n",
       "      <td>PMC8415432</td>\n",
       "      <td>34480261</td>\n",
       "      <td>no-cc</td>\n",
       "      <td>Early in 2020, the pandemic resulted in an eno...</td>\n",
       "      <td>2021-09-03</td>\n",
       "      <td>Spake, Carole S. L.; Carruthers, Thomas N.; Cr...</td>\n",
       "      <td>Ann Biomed Eng</td>\n",
       "      <td>NaN</td>\n",
       "      <td>NaN</td>\n",
       "      <td>NaN</td>\n",
       "      <td>document_parses/pdf_json/de0403b324a00e28e8022...</td>\n",
       "      <td>document_parses/pmc_json/PMC8415432.xml.json</td>\n",
       "      <td>https://doi.org/10.1007/s10439-021-02859-z; ht...</td>\n",
       "      <td>237410517.0</td>\n",
       "    </tr>\n",
       "    <tr>\n",
       "      <th>603115</th>\n",
       "      <td>cihypt4j</td>\n",
       "      <td>c6574b73c1b7e92fa4115ec931ff677ba6b6943b</td>\n",
       "      <td>Medline; PMC; WHO</td>\n",
       "      <td>Impact of COVID-19 pandemic on non-COVID patie...</td>\n",
       "      <td>10.1186/s12301-021-00196-0</td>\n",
       "      <td>PMC8258485</td>\n",
       "      <td>34248350</td>\n",
       "      <td>cc-by</td>\n",
       "      <td>BACKGROUND: To evaluate the impact of COVID-19...</td>\n",
       "      <td>2021-07-06</td>\n",
       "      <td>Jibhakate, Nikhilesh A.; Patwardhan, Sujata K....</td>\n",
       "      <td>Afr J Urol</td>\n",
       "      <td>NaN</td>\n",
       "      <td>NaN</td>\n",
       "      <td>NaN</td>\n",
       "      <td>document_parses/pdf_json/c6574b73c1b7e92fa4115...</td>\n",
       "      <td>document_parses/pmc_json/PMC8258485.xml.json</td>\n",
       "      <td>https://doi.org/10.1186/s12301-021-00196-0; ht...</td>\n",
       "      <td>235737891.0</td>\n",
       "    </tr>\n",
       "    <tr>\n",
       "      <th>600160</th>\n",
       "      <td>66vw5z92</td>\n",
       "      <td>595eb7ab079654484cf2529f3bb6cfe9a14baced</td>\n",
       "      <td>Medline; PMC</td>\n",
       "      <td>Debates on Global Sociology: ‘Unity and Divers...</td>\n",
       "      <td>10.1007/s12108-021-09478-0</td>\n",
       "      <td>PMC8055478</td>\n",
       "      <td>33896944</td>\n",
       "      <td>no-cc</td>\n",
       "      <td>This paper critically looks at the ways in whi...</td>\n",
       "      <td>2021-04-20</td>\n",
       "      <td>Kislenko, Ivan</td>\n",
       "      <td>Am Sociol</td>\n",
       "      <td>NaN</td>\n",
       "      <td>NaN</td>\n",
       "      <td>NaN</td>\n",
       "      <td>document_parses/pdf_json/595eb7ab079654484cf25...</td>\n",
       "      <td>document_parses/pmc_json/PMC8055478.xml.json</td>\n",
       "      <td>https://www.ncbi.nlm.nih.gov/pubmed/33896944/;...</td>\n",
       "      <td>233307620.0</td>\n",
       "    </tr>\n",
       "  </tbody>\n",
       "</table>\n",
       "</div>"
      ],
      "text/plain": [
       "        cord_uid                                       sha           source_x  \\\n",
       "675956  cmru815l  0c18d8bada7843ddf469a6f62e83b4d96ab3c9b9       Medline; PMC   \n",
       "61567   19qe32xb  5759f02599e9135b5dfb4e0e5be373ec83d34e5f                PMC   \n",
       "600701  3ns0r8oh  de0403b324a00e28e80221eeb65c56db1e5b33be  Medline; PMC; WHO   \n",
       "603115  cihypt4j  c6574b73c1b7e92fa4115ec931ff677ba6b6943b  Medline; PMC; WHO   \n",
       "600160  66vw5z92  595eb7ab079654484cf2529f3bb6cfe9a14baced       Medline; PMC   \n",
       "\n",
       "                                                    title  \\\n",
       "675956  SARS-CoV-2 infection in China—Before the pandemic   \n",
       "61567               From Monopoly to Monopsony Capitalism   \n",
       "600701  3D Printed N-95 Masks During the COVID-19 Pand...   \n",
       "603115  Impact of COVID-19 pandemic on non-COVID patie...   \n",
       "600160  Debates on Global Sociology: ‘Unity and Divers...   \n",
       "\n",
       "                                 doi       pmcid pubmed_id license  \\\n",
       "675956  10.1371/journal.pntd.0008472  PMC7410170  32760070   cc-by   \n",
       "61567     10.1007/s41027-021-00350-w  PMC8579412       NaN   no-cc   \n",
       "600701    10.1007/s10439-021-02859-z  PMC8415432  34480261   no-cc   \n",
       "603115    10.1186/s12301-021-00196-0  PMC8258485  34248350   cc-by   \n",
       "600160    10.1007/s12108-021-09478-0  PMC8055478  33896944   no-cc   \n",
       "\n",
       "                                                 abstract publish_time  \\\n",
       "675956  In order to rapidly inform polices in the inte...   2020-08-06   \n",
       "61567   This paper argues for the characterization of ...   2021-11-10   \n",
       "600701  Early in 2020, the pandemic resulted in an eno...   2021-09-03   \n",
       "603115  BACKGROUND: To evaluate the impact of COVID-19...   2021-07-06   \n",
       "600160  This paper critically looks at the ways in whi...   2021-04-20   \n",
       "\n",
       "                                                  authors  \\\n",
       "675956  Liang, Huiying; Zheng, Lingling; Xia, Huimin; ...   \n",
       "61567                                         Nathan, Dev   \n",
       "600701  Spake, Carole S. L.; Carruthers, Thomas N.; Cr...   \n",
       "603115  Jibhakate, Nikhilesh A.; Patwardhan, Sujata K....   \n",
       "600160                                     Kislenko, Ivan   \n",
       "\n",
       "                     journal  mag_id who_covidence_id arxiv_id  \\\n",
       "675956    PLoS Negl Trop Dis     NaN              NaN      NaN   \n",
       "61567   Indian J Labour Econ     NaN              NaN      NaN   \n",
       "600701        Ann Biomed Eng     NaN              NaN      NaN   \n",
       "603115            Afr J Urol     NaN              NaN      NaN   \n",
       "600160             Am Sociol     NaN              NaN      NaN   \n",
       "\n",
       "                                           pdf_json_files  \\\n",
       "675956  document_parses/pdf_json/0c18d8bada7843ddf469a...   \n",
       "61567   document_parses/pdf_json/5759f02599e9135b5dfb4...   \n",
       "600701  document_parses/pdf_json/de0403b324a00e28e8022...   \n",
       "603115  document_parses/pdf_json/c6574b73c1b7e92fa4115...   \n",
       "600160  document_parses/pdf_json/595eb7ab079654484cf25...   \n",
       "\n",
       "                                      pmc_json_files  \\\n",
       "675956  document_parses/pmc_json/PMC7410170.xml.json   \n",
       "61567   document_parses/pmc_json/PMC8579412.xml.json   \n",
       "600701  document_parses/pmc_json/PMC8415432.xml.json   \n",
       "603115  document_parses/pmc_json/PMC8258485.xml.json   \n",
       "600160  document_parses/pmc_json/PMC8055478.xml.json   \n",
       "\n",
       "                                                      url        s2_id  \n",
       "675956  https://doi.org/10.1371/journal.pntd.0008472; ...  221037683.0  \n",
       "61567   https://www.ncbi.nlm.nih.gov/pmc/articles/PMC8...          NaN  \n",
       "600701  https://doi.org/10.1007/s10439-021-02859-z; ht...  237410517.0  \n",
       "603115  https://doi.org/10.1186/s12301-021-00196-0; ht...  235737891.0  \n",
       "600160  https://www.ncbi.nlm.nih.gov/pubmed/33896944/;...  233307620.0  "
      ]
     },
     "execution_count": 6,
     "metadata": {},
     "output_type": "execute_result"
    }
   ],
   "source": [
    "df_metadata.head()"
   ]
  },
  {
   "cell_type": "markdown",
   "metadata": {
    "id": "1dMkwvFBpT8Y"
   },
   "source": [
    "**Data Merging (merging the data from metadata, json pdf and json pmc files for research papers)**"
   ]
  },
  {
   "cell_type": "code",
   "execution_count": 7,
   "metadata": {
    "id": "hI3Nm5iB1auL"
   },
   "outputs": [],
   "source": [
    "#Merging the metadata and json pdf data\n",
    "#sha column of metadata and paper_id of json_pdf data are same identifier for each record\n",
    "df_merged = pd.merge(df_metadata,df_pdf,left_on='sha',right_on='paper_id',how='left').drop('paper_id',axis=1)"
   ]
  },
  {
   "cell_type": "code",
   "execution_count": 8,
   "metadata": {
    "colab": {
     "base_uri": "https://localhost:8080/",
     "height": 267
    },
    "id": "RAjNPccl1iDh",
    "outputId": "e2f13d3a-c47d-4cc9-9880-734a0235c671"
   },
   "outputs": [
    {
     "data": {
      "text/html": [
       "<div>\n",
       "<style scoped>\n",
       "    .dataframe tbody tr th:only-of-type {\n",
       "        vertical-align: middle;\n",
       "    }\n",
       "\n",
       "    .dataframe tbody tr th {\n",
       "        vertical-align: top;\n",
       "    }\n",
       "\n",
       "    .dataframe thead th {\n",
       "        text-align: right;\n",
       "    }\n",
       "</style>\n",
       "<table border=\"1\" class=\"dataframe\">\n",
       "  <thead>\n",
       "    <tr style=\"text-align: right;\">\n",
       "      <th></th>\n",
       "      <th>cord_uid</th>\n",
       "      <th>sha</th>\n",
       "      <th>source_x</th>\n",
       "      <th>title</th>\n",
       "      <th>doi</th>\n",
       "      <th>pmcid</th>\n",
       "      <th>pubmed_id</th>\n",
       "      <th>license</th>\n",
       "      <th>abstract_x</th>\n",
       "      <th>publish_time</th>\n",
       "      <th>...</th>\n",
       "      <th>journal</th>\n",
       "      <th>mag_id</th>\n",
       "      <th>who_covidence_id</th>\n",
       "      <th>arxiv_id</th>\n",
       "      <th>pdf_json_files</th>\n",
       "      <th>pmc_json_files</th>\n",
       "      <th>url</th>\n",
       "      <th>s2_id</th>\n",
       "      <th>abstract_y</th>\n",
       "      <th>body_text</th>\n",
       "    </tr>\n",
       "  </thead>\n",
       "  <tbody>\n",
       "    <tr>\n",
       "      <th>0</th>\n",
       "      <td>cmru815l</td>\n",
       "      <td>0c18d8bada7843ddf469a6f62e83b4d96ab3c9b9</td>\n",
       "      <td>Medline; PMC</td>\n",
       "      <td>SARS-CoV-2 infection in China—Before the pandemic</td>\n",
       "      <td>10.1371/journal.pntd.0008472</td>\n",
       "      <td>PMC7410170</td>\n",
       "      <td>32760070</td>\n",
       "      <td>cc-by</td>\n",
       "      <td>In order to rapidly inform polices in the inte...</td>\n",
       "      <td>2020-08-06</td>\n",
       "      <td>...</td>\n",
       "      <td>PLoS Negl Trop Dis</td>\n",
       "      <td>NaN</td>\n",
       "      <td>NaN</td>\n",
       "      <td>NaN</td>\n",
       "      <td>document_parses/pdf_json/0c18d8bada7843ddf469a...</td>\n",
       "      <td>document_parses/pmc_json/PMC7410170.xml.json</td>\n",
       "      <td>https://doi.org/10.1371/journal.pntd.0008472; ...</td>\n",
       "      <td>221037683.0</td>\n",
       "      <td>In order to rapidly inform polices in the inte...</td>\n",
       "      <td>In December 2019, a series of patients with pn...</td>\n",
       "    </tr>\n",
       "    <tr>\n",
       "      <th>1</th>\n",
       "      <td>19qe32xb</td>\n",
       "      <td>5759f02599e9135b5dfb4e0e5be373ec83d34e5f</td>\n",
       "      <td>PMC</td>\n",
       "      <td>From Monopoly to Monopsony Capitalism</td>\n",
       "      <td>10.1007/s41027-021-00350-w</td>\n",
       "      <td>PMC8579412</td>\n",
       "      <td>NaN</td>\n",
       "      <td>no-cc</td>\n",
       "      <td>This paper argues for the characterization of ...</td>\n",
       "      <td>2021-11-10</td>\n",
       "      <td>...</td>\n",
       "      <td>Indian J Labour Econ</td>\n",
       "      <td>NaN</td>\n",
       "      <td>NaN</td>\n",
       "      <td>NaN</td>\n",
       "      <td>document_parses/pdf_json/5759f02599e9135b5dfb4...</td>\n",
       "      <td>document_parses/pmc_json/PMC8579412.xml.json</td>\n",
       "      <td>https://www.ncbi.nlm.nih.gov/pmc/articles/PMC8...</td>\n",
       "      <td>NaN</td>\n",
       "      <td>This paper argues for the characterization of ...</td>\n",
       "      <td>In March 2020, as the COVID-19-pandemic-induce...</td>\n",
       "    </tr>\n",
       "  </tbody>\n",
       "</table>\n",
       "<p>2 rows × 21 columns</p>\n",
       "</div>"
      ],
      "text/plain": [
       "   cord_uid                                       sha      source_x  \\\n",
       "0  cmru815l  0c18d8bada7843ddf469a6f62e83b4d96ab3c9b9  Medline; PMC   \n",
       "1  19qe32xb  5759f02599e9135b5dfb4e0e5be373ec83d34e5f           PMC   \n",
       "\n",
       "                                               title  \\\n",
       "0  SARS-CoV-2 infection in China—Before the pandemic   \n",
       "1              From Monopoly to Monopsony Capitalism   \n",
       "\n",
       "                            doi       pmcid pubmed_id license  \\\n",
       "0  10.1371/journal.pntd.0008472  PMC7410170  32760070   cc-by   \n",
       "1    10.1007/s41027-021-00350-w  PMC8579412       NaN   no-cc   \n",
       "\n",
       "                                          abstract_x publish_time  ...  \\\n",
       "0  In order to rapidly inform polices in the inte...   2020-08-06  ...   \n",
       "1  This paper argues for the characterization of ...   2021-11-10  ...   \n",
       "\n",
       "                journal mag_id  who_covidence_id arxiv_id  \\\n",
       "0    PLoS Negl Trop Dis    NaN               NaN      NaN   \n",
       "1  Indian J Labour Econ    NaN               NaN      NaN   \n",
       "\n",
       "                                      pdf_json_files  \\\n",
       "0  document_parses/pdf_json/0c18d8bada7843ddf469a...   \n",
       "1  document_parses/pdf_json/5759f02599e9135b5dfb4...   \n",
       "\n",
       "                                 pmc_json_files  \\\n",
       "0  document_parses/pmc_json/PMC7410170.xml.json   \n",
       "1  document_parses/pmc_json/PMC8579412.xml.json   \n",
       "\n",
       "                                                 url        s2_id  \\\n",
       "0  https://doi.org/10.1371/journal.pntd.0008472; ...  221037683.0   \n",
       "1  https://www.ncbi.nlm.nih.gov/pmc/articles/PMC8...          NaN   \n",
       "\n",
       "                                          abstract_y  \\\n",
       "0  In order to rapidly inform polices in the inte...   \n",
       "1  This paper argues for the characterization of ...   \n",
       "\n",
       "                                           body_text  \n",
       "0  In December 2019, a series of patients with pn...  \n",
       "1  In March 2020, as the COVID-19-pandemic-induce...  \n",
       "\n",
       "[2 rows x 21 columns]"
      ]
     },
     "execution_count": 8,
     "metadata": {},
     "output_type": "execute_result"
    }
   ],
   "source": [
    "df_merged.head(2)\n",
    "#abstract_x is the abstract from metadata and abstract_y is the abstract from json_pdf"
   ]
  },
  {
   "cell_type": "code",
   "execution_count": 9,
   "metadata": {
    "colab": {
     "base_uri": "https://localhost:8080/"
    },
    "id": "gxzG2kDI1l5V",
    "outputId": "e56835c6-be08-4c87-9c7c-bfd347b16cd4"
   },
   "outputs": [
    {
     "data": {
      "text/plain": [
       "(25000, 22)"
      ]
     },
     "execution_count": 9,
     "metadata": {},
     "output_type": "execute_result"
    }
   ],
   "source": [
    "#Lets merge the json_pmc data to the merged data too\n",
    "df_merged = pd.merge(df_merged,df_pmc,left_on='pmcid',right_on='paper_id',how='left').drop('paper_id',axis=1)\n",
    "df_merged.shape"
   ]
  },
  {
   "cell_type": "code",
   "execution_count": 10,
   "metadata": {},
   "outputs": [
    {
     "data": {
      "text/html": [
       "<div>\n",
       "<style scoped>\n",
       "    .dataframe tbody tr th:only-of-type {\n",
       "        vertical-align: middle;\n",
       "    }\n",
       "\n",
       "    .dataframe tbody tr th {\n",
       "        vertical-align: top;\n",
       "    }\n",
       "\n",
       "    .dataframe thead th {\n",
       "        text-align: right;\n",
       "    }\n",
       "</style>\n",
       "<table border=\"1\" class=\"dataframe\">\n",
       "  <thead>\n",
       "    <tr style=\"text-align: right;\">\n",
       "      <th></th>\n",
       "      <th>cord_uid</th>\n",
       "      <th>sha</th>\n",
       "      <th>source_x</th>\n",
       "      <th>title</th>\n",
       "      <th>doi</th>\n",
       "      <th>pmcid</th>\n",
       "      <th>pubmed_id</th>\n",
       "      <th>license</th>\n",
       "      <th>abstract_x</th>\n",
       "      <th>publish_time</th>\n",
       "      <th>...</th>\n",
       "      <th>mag_id</th>\n",
       "      <th>who_covidence_id</th>\n",
       "      <th>arxiv_id</th>\n",
       "      <th>pdf_json_files</th>\n",
       "      <th>pmc_json_files</th>\n",
       "      <th>url</th>\n",
       "      <th>s2_id</th>\n",
       "      <th>abstract_y</th>\n",
       "      <th>body_text_x</th>\n",
       "      <th>body_text_y</th>\n",
       "    </tr>\n",
       "  </thead>\n",
       "  <tbody>\n",
       "    <tr>\n",
       "      <th>0</th>\n",
       "      <td>cmru815l</td>\n",
       "      <td>0c18d8bada7843ddf469a6f62e83b4d96ab3c9b9</td>\n",
       "      <td>Medline; PMC</td>\n",
       "      <td>SARS-CoV-2 infection in China—Before the pandemic</td>\n",
       "      <td>10.1371/journal.pntd.0008472</td>\n",
       "      <td>PMC7410170</td>\n",
       "      <td>32760070</td>\n",
       "      <td>cc-by</td>\n",
       "      <td>In order to rapidly inform polices in the inte...</td>\n",
       "      <td>2020-08-06</td>\n",
       "      <td>...</td>\n",
       "      <td>NaN</td>\n",
       "      <td>NaN</td>\n",
       "      <td>NaN</td>\n",
       "      <td>document_parses/pdf_json/0c18d8bada7843ddf469a...</td>\n",
       "      <td>document_parses/pmc_json/PMC7410170.xml.json</td>\n",
       "      <td>https://doi.org/10.1371/journal.pntd.0008472; ...</td>\n",
       "      <td>221037683.0</td>\n",
       "      <td>In order to rapidly inform polices in the inte...</td>\n",
       "      <td>In December 2019, a series of patients with pn...</td>\n",
       "      <td>In December 2019, a series of patients with pn...</td>\n",
       "    </tr>\n",
       "    <tr>\n",
       "      <th>1</th>\n",
       "      <td>19qe32xb</td>\n",
       "      <td>5759f02599e9135b5dfb4e0e5be373ec83d34e5f</td>\n",
       "      <td>PMC</td>\n",
       "      <td>From Monopoly to Monopsony Capitalism</td>\n",
       "      <td>10.1007/s41027-021-00350-w</td>\n",
       "      <td>PMC8579412</td>\n",
       "      <td>NaN</td>\n",
       "      <td>no-cc</td>\n",
       "      <td>This paper argues for the characterization of ...</td>\n",
       "      <td>2021-11-10</td>\n",
       "      <td>...</td>\n",
       "      <td>NaN</td>\n",
       "      <td>NaN</td>\n",
       "      <td>NaN</td>\n",
       "      <td>document_parses/pdf_json/5759f02599e9135b5dfb4...</td>\n",
       "      <td>document_parses/pmc_json/PMC8579412.xml.json</td>\n",
       "      <td>https://www.ncbi.nlm.nih.gov/pmc/articles/PMC8...</td>\n",
       "      <td>NaN</td>\n",
       "      <td>This paper argues for the characterization of ...</td>\n",
       "      <td>In March 2020, as the COVID-19-pandemic-induce...</td>\n",
       "      <td>In March 2020, as the COVID-19-pandemic-induce...</td>\n",
       "    </tr>\n",
       "  </tbody>\n",
       "</table>\n",
       "<p>2 rows × 22 columns</p>\n",
       "</div>"
      ],
      "text/plain": [
       "   cord_uid                                       sha      source_x  \\\n",
       "0  cmru815l  0c18d8bada7843ddf469a6f62e83b4d96ab3c9b9  Medline; PMC   \n",
       "1  19qe32xb  5759f02599e9135b5dfb4e0e5be373ec83d34e5f           PMC   \n",
       "\n",
       "                                               title  \\\n",
       "0  SARS-CoV-2 infection in China—Before the pandemic   \n",
       "1              From Monopoly to Monopsony Capitalism   \n",
       "\n",
       "                            doi       pmcid pubmed_id license  \\\n",
       "0  10.1371/journal.pntd.0008472  PMC7410170  32760070   cc-by   \n",
       "1    10.1007/s41027-021-00350-w  PMC8579412       NaN   no-cc   \n",
       "\n",
       "                                          abstract_x publish_time  ... mag_id  \\\n",
       "0  In order to rapidly inform polices in the inte...   2020-08-06  ...    NaN   \n",
       "1  This paper argues for the characterization of ...   2021-11-10  ...    NaN   \n",
       "\n",
       "  who_covidence_id  arxiv_id  \\\n",
       "0              NaN       NaN   \n",
       "1              NaN       NaN   \n",
       "\n",
       "                                      pdf_json_files  \\\n",
       "0  document_parses/pdf_json/0c18d8bada7843ddf469a...   \n",
       "1  document_parses/pdf_json/5759f02599e9135b5dfb4...   \n",
       "\n",
       "                                 pmc_json_files  \\\n",
       "0  document_parses/pmc_json/PMC7410170.xml.json   \n",
       "1  document_parses/pmc_json/PMC8579412.xml.json   \n",
       "\n",
       "                                                 url        s2_id  \\\n",
       "0  https://doi.org/10.1371/journal.pntd.0008472; ...  221037683.0   \n",
       "1  https://www.ncbi.nlm.nih.gov/pmc/articles/PMC8...          NaN   \n",
       "\n",
       "                                          abstract_y  \\\n",
       "0  In order to rapidly inform polices in the inte...   \n",
       "1  This paper argues for the characterization of ...   \n",
       "\n",
       "                                         body_text_x  \\\n",
       "0  In December 2019, a series of patients with pn...   \n",
       "1  In March 2020, as the COVID-19-pandemic-induce...   \n",
       "\n",
       "                                         body_text_y  \n",
       "0  In December 2019, a series of patients with pn...  \n",
       "1  In March 2020, as the COVID-19-pandemic-induce...  \n",
       "\n",
       "[2 rows x 22 columns]"
      ]
     },
     "execution_count": 10,
     "metadata": {},
     "output_type": "execute_result"
    }
   ],
   "source": [
    "df_merged.head(2)"
   ]
  },
  {
   "cell_type": "markdown",
   "metadata": {
    "id": "F3QtxcWFqrLd"
   },
   "source": [
    "**Data Cleaning and Preprocessing**"
   ]
  },
  {
   "cell_type": "code",
   "execution_count": 11,
   "metadata": {
    "colab": {
     "base_uri": "https://localhost:8080/"
    },
    "id": "LC50Eff91svG",
    "outputId": "4b9165c9-a87c-40f3-a6ba-d0c8abc32b80"
   },
   "outputs": [
    {
     "data": {
      "text/plain": [
       "(22682, 22)"
      ]
     },
     "execution_count": 11,
     "metadata": {},
     "output_type": "execute_result"
    }
   ],
   "source": [
    "df_merged[df_merged.abstract_x != df_merged.abstract_y].shape"
   ]
  },
  {
   "cell_type": "code",
   "execution_count": 12,
   "metadata": {
    "colab": {
     "base_uri": "https://localhost:8080/"
    },
    "id": "8ay1bvRG1u1U",
    "outputId": "766cbd10-c600-4264-be85-f2290cc52900"
   },
   "outputs": [
    {
     "data": {
      "text/plain": [
       "(3567, 0)"
      ]
     },
     "execution_count": 12,
     "metadata": {},
     "output_type": "execute_result"
    }
   ],
   "source": [
    "# check metadata abstract column to see if null values exist\n",
    "df_merged.abstract_x.isnull().sum(),(df_merged.abstract_x == '').sum()"
   ]
  },
  {
   "cell_type": "code",
   "execution_count": 13,
   "metadata": {
    "colab": {
     "base_uri": "https://localhost:8080/"
    },
    "id": "8KPvZLCG1xq4",
    "outputId": "c22b21a7-3718-411b-b1c2-a137b8dd01ce"
   },
   "outputs": [
    {
     "data": {
      "text/plain": [
       "(1521, 6826)"
      ]
     },
     "execution_count": 13,
     "metadata": {},
     "output_type": "execute_result"
    }
   ],
   "source": [
    "# Check pdf_json abstract to see if null values exist\n",
    "df_merged.abstract_y.isnull().sum(),(df_merged.abstract_y == '').sum()"
   ]
  },
  {
   "cell_type": "markdown",
   "metadata": {
    "id": "q76-CsdO19Pd"
   },
   "source": [
    "Since the abstract_x from metadata is more reliable , we will use it but only fill by abstract_y text when abstract_x value is null\n"
   ]
  },
  {
   "cell_type": "code",
   "execution_count": 14,
   "metadata": {
    "id": "b_78rcIn1zUc"
   },
   "outputs": [],
   "source": [
    "# Convert all columns to string and then replace abstract_y values\n",
    "#df = df.astype(str)\n",
    "df_merged[\"abstract_y\"] = df_merged[\"abstract_y\"].astype(str) \n",
    "df_merged['abstract_y'] = np.where(df_merged['abstract_y'].map(len) > 50, df_merged['abstract_y'], \"na\")"
   ]
  },
  {
   "cell_type": "code",
   "execution_count": 15,
   "metadata": {
    "colab": {
     "base_uri": "https://localhost:8080/",
     "height": 1000
    },
    "id": "BzTGcVLU2ApK",
    "outputId": "636104a5-a74e-4bb8-a73e-8b669f9e7195"
   },
   "outputs": [
    {
     "data": {
      "text/html": [
       "<div>\n",
       "<style scoped>\n",
       "    .dataframe tbody tr th:only-of-type {\n",
       "        vertical-align: middle;\n",
       "    }\n",
       "\n",
       "    .dataframe tbody tr th {\n",
       "        vertical-align: top;\n",
       "    }\n",
       "\n",
       "    .dataframe thead th {\n",
       "        text-align: right;\n",
       "    }\n",
       "</style>\n",
       "<table border=\"1\" class=\"dataframe\">\n",
       "  <thead>\n",
       "    <tr style=\"text-align: right;\">\n",
       "      <th></th>\n",
       "      <th>cord_uid</th>\n",
       "      <th>sha</th>\n",
       "      <th>source_x</th>\n",
       "      <th>title</th>\n",
       "      <th>doi</th>\n",
       "      <th>pmcid</th>\n",
       "      <th>pubmed_id</th>\n",
       "      <th>license</th>\n",
       "      <th>abstract_x</th>\n",
       "      <th>publish_time</th>\n",
       "      <th>...</th>\n",
       "      <th>mag_id</th>\n",
       "      <th>who_covidence_id</th>\n",
       "      <th>arxiv_id</th>\n",
       "      <th>pdf_json_files</th>\n",
       "      <th>pmc_json_files</th>\n",
       "      <th>url</th>\n",
       "      <th>s2_id</th>\n",
       "      <th>abstract_y</th>\n",
       "      <th>body_text_x</th>\n",
       "      <th>body_text_y</th>\n",
       "    </tr>\n",
       "  </thead>\n",
       "  <tbody>\n",
       "    <tr>\n",
       "      <th>5</th>\n",
       "      <td>cqwzes8k</td>\n",
       "      <td>3d5ebe5db605d6db4e4f0766b3d0b140638c29d3; e822...</td>\n",
       "      <td>BioRxiv; Medline; PMC; WHO</td>\n",
       "      <td>The N501Y spike substitution enhances SARS-CoV...</td>\n",
       "      <td>10.1101/2021.03.08.434499</td>\n",
       "      <td>PMC7986995</td>\n",
       "      <td>33758836</td>\n",
       "      <td>cc-by-nd</td>\n",
       "      <td>Beginning in the summer of 2020, a variant of ...</td>\n",
       "      <td>2021-03-09</td>\n",
       "      <td>...</td>\n",
       "      <td>NaN</td>\n",
       "      <td>NaN</td>\n",
       "      <td>NaN</td>\n",
       "      <td>document_parses/pdf_json/3d5ebe5db605d6db4e4f0...</td>\n",
       "      <td>document_parses/pmc_json/PMC7986995.xml.json</td>\n",
       "      <td>https://www.ncbi.nlm.nih.gov/pubmed/33758836/;...</td>\n",
       "      <td>232224630.0</td>\n",
       "      <td>na</td>\n",
       "      <td>NaN</td>\n",
       "      <td>Since the emergence of severe acute respirator...</td>\n",
       "    </tr>\n",
       "    <tr>\n",
       "      <th>6</th>\n",
       "      <td>5ehrztvj</td>\n",
       "      <td>1261328de947c33bdf10c6183ecc65162b58fa16</td>\n",
       "      <td>Elsevier; PMC</td>\n",
       "      <td>Group A Streptococcus</td>\n",
       "      <td>10.1016/b978-1-4160-4390-4.00036-9</td>\n",
       "      <td>PMC7152093</td>\n",
       "      <td>NaN</td>\n",
       "      <td>no-cc</td>\n",
       "      <td>NaN</td>\n",
       "      <td>2012-11-28</td>\n",
       "      <td>...</td>\n",
       "      <td>NaN</td>\n",
       "      <td>NaN</td>\n",
       "      <td>NaN</td>\n",
       "      <td>document_parses/pdf_json/1261328de947c33bdf10c...</td>\n",
       "      <td>document_parses/pmc_json/PMC7152093.xml.json</td>\n",
       "      <td>https://www.sciencedirect.com/science/article/...</td>\n",
       "      <td>56661347.0</td>\n",
       "      <td>na</td>\n",
       "      <td>Group A Streptococcus causes a diverse spectru...</td>\n",
       "      <td>Group A Streptococcus causes a diverse spectru...</td>\n",
       "    </tr>\n",
       "    <tr>\n",
       "      <th>10</th>\n",
       "      <td>s6j7o2jz</td>\n",
       "      <td>b492b3fd32d3d5f8c28ea4397187ca1eb989bf21</td>\n",
       "      <td>PMC</td>\n",
       "      <td>COVID-19: For national and European research c...</td>\n",
       "      <td>10.1016/j.banm.2020.05.062</td>\n",
       "      <td>PMC7241992</td>\n",
       "      <td>NaN</td>\n",
       "      <td>no-cc</td>\n",
       "      <td>NaN</td>\n",
       "      <td>2020-05-21</td>\n",
       "      <td>...</td>\n",
       "      <td>NaN</td>\n",
       "      <td>NaN</td>\n",
       "      <td>NaN</td>\n",
       "      <td>document_parses/pdf_json/b492b3fd32d3d5f8c28ea...</td>\n",
       "      <td>NaN</td>\n",
       "      <td>https://www.ncbi.nlm.nih.gov/pmc/articles/PMC7...</td>\n",
       "      <td>NaN</td>\n",
       "      <td>na</td>\n",
       "      <td>were made to urgently promote research on the ...</td>\n",
       "      <td>NaN</td>\n",
       "    </tr>\n",
       "    <tr>\n",
       "      <th>13</th>\n",
       "      <td>319thpzu</td>\n",
       "      <td>138136f2cff612973decfe282c632b7bc94ae584</td>\n",
       "      <td>Medline; PMC</td>\n",
       "      <td>Adolescent sexual and reproductive health for ...</td>\n",
       "      <td>10.1186/s12978-021-01145-4</td>\n",
       "      <td>PMC8208826</td>\n",
       "      <td>34134737</td>\n",
       "      <td>cc-by</td>\n",
       "      <td>NaN</td>\n",
       "      <td>2021-06-17</td>\n",
       "      <td>...</td>\n",
       "      <td>NaN</td>\n",
       "      <td>NaN</td>\n",
       "      <td>NaN</td>\n",
       "      <td>document_parses/pdf_json/138136f2cff612973decf...</td>\n",
       "      <td>document_parses/pmc_json/PMC8208826.xml.json</td>\n",
       "      <td>https://www.ncbi.nlm.nih.gov/pubmed/34134737/;...</td>\n",
       "      <td>235453845.0</td>\n",
       "      <td>na</td>\n",
       "      <td>The focus of this supplement is on inequalitie...</td>\n",
       "      <td>The focus of this supplement is on inequalitie...</td>\n",
       "    </tr>\n",
       "    <tr>\n",
       "      <th>15</th>\n",
       "      <td>5omr52n7</td>\n",
       "      <td>6805a99a3c5a410c7729fc088e03c8c8f3ba8571</td>\n",
       "      <td>Elsevier; Medline; PMC</td>\n",
       "      <td>Letter to the Editor in Response to article: “...</td>\n",
       "      <td>10.1016/j.dsx.2020.04.023</td>\n",
       "      <td>PMC7165104</td>\n",
       "      <td>32330857</td>\n",
       "      <td>els-covid</td>\n",
       "      <td>NaN</td>\n",
       "      <td>2020-04-18</td>\n",
       "      <td>...</td>\n",
       "      <td>NaN</td>\n",
       "      <td>NaN</td>\n",
       "      <td>NaN</td>\n",
       "      <td>document_parses/pdf_json/6805a99a3c5a410c7729f...</td>\n",
       "      <td>document_parses/pmc_json/PMC7165104.xml.json</td>\n",
       "      <td>https://www.sciencedirect.com/science/article/...</td>\n",
       "      <td>215800978.0</td>\n",
       "      <td>na</td>\n",
       "      <td>Dear editor, We recently published an article ...</td>\n",
       "      <td>Dear editor,$$$We recently published an articl...</td>\n",
       "    </tr>\n",
       "    <tr>\n",
       "      <th>...</th>\n",
       "      <td>...</td>\n",
       "      <td>...</td>\n",
       "      <td>...</td>\n",
       "      <td>...</td>\n",
       "      <td>...</td>\n",
       "      <td>...</td>\n",
       "      <td>...</td>\n",
       "      <td>...</td>\n",
       "      <td>...</td>\n",
       "      <td>...</td>\n",
       "      <td>...</td>\n",
       "      <td>...</td>\n",
       "      <td>...</td>\n",
       "      <td>...</td>\n",
       "      <td>...</td>\n",
       "      <td>...</td>\n",
       "      <td>...</td>\n",
       "      <td>...</td>\n",
       "      <td>...</td>\n",
       "      <td>...</td>\n",
       "      <td>...</td>\n",
       "    </tr>\n",
       "    <tr>\n",
       "      <th>24990</th>\n",
       "      <td>l9ghj6mb</td>\n",
       "      <td>3a92d5257fc66947542b58dfb5e56c6b32e5e9a0</td>\n",
       "      <td>Medline; PMC; WHO</td>\n",
       "      <td>A Study of the Association between the Stringe...</td>\n",
       "      <td>10.3390/ijerph18158017</td>\n",
       "      <td>PMC8345712</td>\n",
       "      <td>34360310</td>\n",
       "      <td>cc-by</td>\n",
       "      <td>Background: The COVID-19 pandemic is having ma...</td>\n",
       "      <td>2021-07-29</td>\n",
       "      <td>...</td>\n",
       "      <td>NaN</td>\n",
       "      <td>NaN</td>\n",
       "      <td>NaN</td>\n",
       "      <td>document_parses/pdf_json/3a92d5257fc66947542b5...</td>\n",
       "      <td>document_parses/pmc_json/PMC8345712.xml.json</td>\n",
       "      <td>https://doi.org/10.3390/ijerph18158017; https:...</td>\n",
       "      <td>236944341.0</td>\n",
       "      <td>na</td>\n",
       "      <td>The rapid spread of the SARS-CoV-2 virus (COVI...</td>\n",
       "      <td>The rapid spread of the SARS-CoV-2 virus (COVI...</td>\n",
       "    </tr>\n",
       "    <tr>\n",
       "      <th>24991</th>\n",
       "      <td>wnahcla9</td>\n",
       "      <td>9ef579b1e2da281bb2d088e76eb3f62bf8daab1b; 94a4...</td>\n",
       "      <td>Elsevier; Medline; PMC</td>\n",
       "      <td>Predictive performance of SOFA &amp; qSOFA for in-...</td>\n",
       "      <td>10.1016/j.ajem.2021.03.009</td>\n",
       "      <td>PMC7939992</td>\n",
       "      <td>33722433</td>\n",
       "      <td>no-cc</td>\n",
       "      <td>NaN</td>\n",
       "      <td>2021-03-09</td>\n",
       "      <td>...</td>\n",
       "      <td>NaN</td>\n",
       "      <td>NaN</td>\n",
       "      <td>NaN</td>\n",
       "      <td>document_parses/pdf_json/9ef579b1e2da281bb2d08...</td>\n",
       "      <td>document_parses/pmc_json/PMC7939992.xml.json</td>\n",
       "      <td>https://doi.org/10.1016/j.ajem.2021.03.009; ht...</td>\n",
       "      <td>232144560.0</td>\n",
       "      <td>na</td>\n",
       "      <td>NaN</td>\n",
       "      <td>The authors declare no competing sources of in...</td>\n",
       "    </tr>\n",
       "    <tr>\n",
       "      <th>24992</th>\n",
       "      <td>ki0keb3s</td>\n",
       "      <td>33e35dcd7cc142e532e01f1734cd54a3d6e4c006; cb12...</td>\n",
       "      <td>Medline; PMC; WHO</td>\n",
       "      <td>A case for location based contact tracing</td>\n",
       "      <td>10.1007/s10729-021-09567-z</td>\n",
       "      <td>PMC8206884</td>\n",
       "      <td>34132978</td>\n",
       "      <td>no-cc</td>\n",
       "      <td>We present an evaluation of the effectiveness ...</td>\n",
       "      <td>2021-06-16</td>\n",
       "      <td>...</td>\n",
       "      <td>NaN</td>\n",
       "      <td>NaN</td>\n",
       "      <td>NaN</td>\n",
       "      <td>document_parses/pdf_json/33e35dcd7cc142e532e01...</td>\n",
       "      <td>document_parses/pmc_json/PMC8206884.xml.json</td>\n",
       "      <td>https://www.ncbi.nlm.nih.gov/pubmed/34132978/;...</td>\n",
       "      <td>229156797.0</td>\n",
       "      <td>na</td>\n",
       "      <td>NaN</td>\n",
       "      <td>\\nWe compare the effectiveness of two types of...</td>\n",
       "    </tr>\n",
       "    <tr>\n",
       "      <th>24996</th>\n",
       "      <td>ubq4o4pq</td>\n",
       "      <td>e69e83feb23c448fd846dcb17a577ea3024442ab</td>\n",
       "      <td>Elsevier; Medline; PMC; WHO</td>\n",
       "      <td>Profile of specific antibodies to SARS-CoV-2: ...</td>\n",
       "      <td>10.1016/j.jinf.2020.03.012</td>\n",
       "      <td>PMC7118534</td>\n",
       "      <td>32209385</td>\n",
       "      <td>no-cc</td>\n",
       "      <td>• Profile of specific antibodies to virus in b...</td>\n",
       "      <td>2020-03-21</td>\n",
       "      <td>...</td>\n",
       "      <td>NaN</td>\n",
       "      <td>NaN</td>\n",
       "      <td>NaN</td>\n",
       "      <td>document_parses/pdf_json/e69e83feb23c448fd846d...</td>\n",
       "      <td>document_parses/pmc_json/PMC7118534.xml.json</td>\n",
       "      <td>https://api.elsevier.com/content/article/pii/S...</td>\n",
       "      <td>214644094.0</td>\n",
       "      <td>na</td>\n",
       "      <td>A novel coronavirus (COVID-19) epidemic threat...</td>\n",
       "      <td>All authors declare that there are no conflict...</td>\n",
       "    </tr>\n",
       "    <tr>\n",
       "      <th>24999</th>\n",
       "      <td>fbvmarbr</td>\n",
       "      <td>258e8ca6e69d594a34869e42973dd34eb57a3aa5</td>\n",
       "      <td>Medline; PMC</td>\n",
       "      <td>Sleeping under the waves: A longitudinal study...</td>\n",
       "      <td>10.1111/jsr.13313</td>\n",
       "      <td>PMC8250209</td>\n",
       "      <td>33687798</td>\n",
       "      <td>no-cc</td>\n",
       "      <td>After the March–April 2020 coronavirus disease...</td>\n",
       "      <td>2021-03-09</td>\n",
       "      <td>...</td>\n",
       "      <td>NaN</td>\n",
       "      <td>NaN</td>\n",
       "      <td>NaN</td>\n",
       "      <td>document_parses/pdf_json/258e8ca6e69d594a34869...</td>\n",
       "      <td>document_parses/pmc_json/PMC8250209.xml.json</td>\n",
       "      <td>https://doi.org/10.1111/jsr.13313; https://www...</td>\n",
       "      <td>232161687.0</td>\n",
       "      <td>na</td>\n",
       "      <td>regional approach was adopted this time: restr...</td>\n",
       "      <td>From December 2019, coronavirus disease 2019 (...</td>\n",
       "    </tr>\n",
       "  </tbody>\n",
       "</table>\n",
       "<p>8479 rows × 22 columns</p>\n",
       "</div>"
      ],
      "text/plain": [
       "       cord_uid                                                sha  \\\n",
       "5      cqwzes8k  3d5ebe5db605d6db4e4f0766b3d0b140638c29d3; e822...   \n",
       "6      5ehrztvj           1261328de947c33bdf10c6183ecc65162b58fa16   \n",
       "10     s6j7o2jz           b492b3fd32d3d5f8c28ea4397187ca1eb989bf21   \n",
       "13     319thpzu           138136f2cff612973decfe282c632b7bc94ae584   \n",
       "15     5omr52n7           6805a99a3c5a410c7729fc088e03c8c8f3ba8571   \n",
       "...         ...                                                ...   \n",
       "24990  l9ghj6mb           3a92d5257fc66947542b58dfb5e56c6b32e5e9a0   \n",
       "24991  wnahcla9  9ef579b1e2da281bb2d088e76eb3f62bf8daab1b; 94a4...   \n",
       "24992  ki0keb3s  33e35dcd7cc142e532e01f1734cd54a3d6e4c006; cb12...   \n",
       "24996  ubq4o4pq           e69e83feb23c448fd846dcb17a577ea3024442ab   \n",
       "24999  fbvmarbr           258e8ca6e69d594a34869e42973dd34eb57a3aa5   \n",
       "\n",
       "                          source_x  \\\n",
       "5       BioRxiv; Medline; PMC; WHO   \n",
       "6                    Elsevier; PMC   \n",
       "10                             PMC   \n",
       "13                    Medline; PMC   \n",
       "15          Elsevier; Medline; PMC   \n",
       "...                            ...   \n",
       "24990            Medline; PMC; WHO   \n",
       "24991       Elsevier; Medline; PMC   \n",
       "24992            Medline; PMC; WHO   \n",
       "24996  Elsevier; Medline; PMC; WHO   \n",
       "24999                 Medline; PMC   \n",
       "\n",
       "                                                   title  \\\n",
       "5      The N501Y spike substitution enhances SARS-CoV...   \n",
       "6                                  Group A Streptococcus   \n",
       "10     COVID-19: For national and European research c...   \n",
       "13     Adolescent sexual and reproductive health for ...   \n",
       "15     Letter to the Editor in Response to article: “...   \n",
       "...                                                  ...   \n",
       "24990  A Study of the Association between the Stringe...   \n",
       "24991  Predictive performance of SOFA & qSOFA for in-...   \n",
       "24992          A case for location based contact tracing   \n",
       "24996  Profile of specific antibodies to SARS-CoV-2: ...   \n",
       "24999  Sleeping under the waves: A longitudinal study...   \n",
       "\n",
       "                                      doi       pmcid pubmed_id    license  \\\n",
       "5               10.1101/2021.03.08.434499  PMC7986995  33758836   cc-by-nd   \n",
       "6      10.1016/b978-1-4160-4390-4.00036-9  PMC7152093       NaN      no-cc   \n",
       "10             10.1016/j.banm.2020.05.062  PMC7241992       NaN      no-cc   \n",
       "13             10.1186/s12978-021-01145-4  PMC8208826  34134737      cc-by   \n",
       "15              10.1016/j.dsx.2020.04.023  PMC7165104  32330857  els-covid   \n",
       "...                                   ...         ...       ...        ...   \n",
       "24990              10.3390/ijerph18158017  PMC8345712  34360310      cc-by   \n",
       "24991          10.1016/j.ajem.2021.03.009  PMC7939992  33722433      no-cc   \n",
       "24992          10.1007/s10729-021-09567-z  PMC8206884  34132978      no-cc   \n",
       "24996          10.1016/j.jinf.2020.03.012  PMC7118534  32209385      no-cc   \n",
       "24999                   10.1111/jsr.13313  PMC8250209  33687798      no-cc   \n",
       "\n",
       "                                              abstract_x publish_time  ...  \\\n",
       "5      Beginning in the summer of 2020, a variant of ...   2021-03-09  ...   \n",
       "6                                                    NaN   2012-11-28  ...   \n",
       "10                                                   NaN   2020-05-21  ...   \n",
       "13                                                   NaN   2021-06-17  ...   \n",
       "15                                                   NaN   2020-04-18  ...   \n",
       "...                                                  ...          ...  ...   \n",
       "24990  Background: The COVID-19 pandemic is having ma...   2021-07-29  ...   \n",
       "24991                                                NaN   2021-03-09  ...   \n",
       "24992  We present an evaluation of the effectiveness ...   2021-06-16  ...   \n",
       "24996  • Profile of specific antibodies to virus in b...   2020-03-21  ...   \n",
       "24999  After the March–April 2020 coronavirus disease...   2021-03-09  ...   \n",
       "\n",
       "      mag_id who_covidence_id  arxiv_id  \\\n",
       "5        NaN              NaN       NaN   \n",
       "6        NaN              NaN       NaN   \n",
       "10       NaN              NaN       NaN   \n",
       "13       NaN              NaN       NaN   \n",
       "15       NaN              NaN       NaN   \n",
       "...      ...              ...       ...   \n",
       "24990    NaN              NaN       NaN   \n",
       "24991    NaN              NaN       NaN   \n",
       "24992    NaN              NaN       NaN   \n",
       "24996    NaN              NaN       NaN   \n",
       "24999    NaN              NaN       NaN   \n",
       "\n",
       "                                          pdf_json_files  \\\n",
       "5      document_parses/pdf_json/3d5ebe5db605d6db4e4f0...   \n",
       "6      document_parses/pdf_json/1261328de947c33bdf10c...   \n",
       "10     document_parses/pdf_json/b492b3fd32d3d5f8c28ea...   \n",
       "13     document_parses/pdf_json/138136f2cff612973decf...   \n",
       "15     document_parses/pdf_json/6805a99a3c5a410c7729f...   \n",
       "...                                                  ...   \n",
       "24990  document_parses/pdf_json/3a92d5257fc66947542b5...   \n",
       "24991  document_parses/pdf_json/9ef579b1e2da281bb2d08...   \n",
       "24992  document_parses/pdf_json/33e35dcd7cc142e532e01...   \n",
       "24996  document_parses/pdf_json/e69e83feb23c448fd846d...   \n",
       "24999  document_parses/pdf_json/258e8ca6e69d594a34869...   \n",
       "\n",
       "                                     pmc_json_files  \\\n",
       "5      document_parses/pmc_json/PMC7986995.xml.json   \n",
       "6      document_parses/pmc_json/PMC7152093.xml.json   \n",
       "10                                              NaN   \n",
       "13     document_parses/pmc_json/PMC8208826.xml.json   \n",
       "15     document_parses/pmc_json/PMC7165104.xml.json   \n",
       "...                                             ...   \n",
       "24990  document_parses/pmc_json/PMC8345712.xml.json   \n",
       "24991  document_parses/pmc_json/PMC7939992.xml.json   \n",
       "24992  document_parses/pmc_json/PMC8206884.xml.json   \n",
       "24996  document_parses/pmc_json/PMC7118534.xml.json   \n",
       "24999  document_parses/pmc_json/PMC8250209.xml.json   \n",
       "\n",
       "                                                     url        s2_id  \\\n",
       "5      https://www.ncbi.nlm.nih.gov/pubmed/33758836/;...  232224630.0   \n",
       "6      https://www.sciencedirect.com/science/article/...   56661347.0   \n",
       "10     https://www.ncbi.nlm.nih.gov/pmc/articles/PMC7...          NaN   \n",
       "13     https://www.ncbi.nlm.nih.gov/pubmed/34134737/;...  235453845.0   \n",
       "15     https://www.sciencedirect.com/science/article/...  215800978.0   \n",
       "...                                                  ...          ...   \n",
       "24990  https://doi.org/10.3390/ijerph18158017; https:...  236944341.0   \n",
       "24991  https://doi.org/10.1016/j.ajem.2021.03.009; ht...  232144560.0   \n",
       "24992  https://www.ncbi.nlm.nih.gov/pubmed/34132978/;...  229156797.0   \n",
       "24996  https://api.elsevier.com/content/article/pii/S...  214644094.0   \n",
       "24999  https://doi.org/10.1111/jsr.13313; https://www...  232161687.0   \n",
       "\n",
       "      abstract_y                                        body_text_x  \\\n",
       "5             na                                                NaN   \n",
       "6             na  Group A Streptococcus causes a diverse spectru...   \n",
       "10            na  were made to urgently promote research on the ...   \n",
       "13            na  The focus of this supplement is on inequalitie...   \n",
       "15            na  Dear editor, We recently published an article ...   \n",
       "...          ...                                                ...   \n",
       "24990         na  The rapid spread of the SARS-CoV-2 virus (COVI...   \n",
       "24991         na                                                NaN   \n",
       "24992         na                                                NaN   \n",
       "24996         na  A novel coronavirus (COVID-19) epidemic threat...   \n",
       "24999         na  regional approach was adopted this time: restr...   \n",
       "\n",
       "                                             body_text_y  \n",
       "5      Since the emergence of severe acute respirator...  \n",
       "6      Group A Streptococcus causes a diverse spectru...  \n",
       "10                                                   NaN  \n",
       "13     The focus of this supplement is on inequalitie...  \n",
       "15     Dear editor,$$$We recently published an articl...  \n",
       "...                                                  ...  \n",
       "24990  The rapid spread of the SARS-CoV-2 virus (COVI...  \n",
       "24991  The authors declare no competing sources of in...  \n",
       "24992  \\nWe compare the effectiveness of two types of...  \n",
       "24996  All authors declare that there are no conflict...  \n",
       "24999  From December 2019, coronavirus disease 2019 (...  \n",
       "\n",
       "[8479 rows x 22 columns]"
      ]
     },
     "execution_count": 15,
     "metadata": {},
     "output_type": "execute_result"
    }
   ],
   "source": [
    "df_merged[df_merged['abstract_y'].apply(lambda x: len(str(x)) <= 10)]"
   ]
  },
  {
   "cell_type": "code",
   "execution_count": 16,
   "metadata": {
    "id": "RFh2fs_g2eCg"
   },
   "outputs": [],
   "source": [
    "# replace abstract_x (metadata column) with abstract_y (pdf_json) value where abstract_x is null\n",
    "df_merged.loc[df_merged.abstract_x.isnull() & (df_merged.abstract_y != 'na'),'abstract_x'] = df_merged[df_merged.abstract_x.isnull() & (df_merged.abstract_y != 'na')].abstract_y"
   ]
  },
  {
   "cell_type": "code",
   "execution_count": 17,
   "metadata": {
    "colab": {
     "base_uri": "https://localhost:8080/"
    },
    "id": "jvnT5rrs2nfP",
    "outputId": "a1e737a7-b2fe-41a0-c625-dca6603d128c"
   },
   "outputs": [
    {
     "data": {
      "text/plain": [
       "2933"
      ]
     },
     "execution_count": 17,
     "metadata": {},
     "output_type": "execute_result"
    }
   ],
   "source": [
    "# Do we have any remaining null abstract values. Not anymore. This is good.\n",
    "# The null values have reduced which is what we had expected.\n",
    "df_merged.abstract_x.isnull().sum()"
   ]
  },
  {
   "cell_type": "code",
   "execution_count": 18,
   "metadata": {
    "colab": {
     "base_uri": "https://localhost:8080/"
    },
    "id": "Pmoo77Ef2pgk",
    "outputId": "d9bfca0f-25bf-4acb-dd29-4caeae0c2246"
   },
   "outputs": [
    {
     "data": {
      "text/plain": [
       "Index(['cord_uid', 'sha', 'source_x', 'title', 'doi', 'pmcid', 'pubmed_id',\n",
       "       'license', 'abstract', 'publish_time', 'authors', 'journal', 'mag_id',\n",
       "       'who_covidence_id', 'arxiv_id', 'pdf_json_files', 'pmc_json_files',\n",
       "       'url', 's2_id', 'body_text_x', 'body_text_y'],\n",
       "      dtype='object')"
      ]
     },
     "execution_count": 18,
     "metadata": {},
     "output_type": "execute_result"
    }
   ],
   "source": [
    "# Lets get rid of the pdf_json abstract column and rename the metadata abstract column\n",
    "df_merged.rename(columns = {'abstract_x' : 'abstract'}, inplace = True)\n",
    "df_merged.drop('abstract_y',axis=1,inplace = True)\n",
    "df_merged.columns"
   ]
  },
  {
   "cell_type": "code",
   "execution_count": 19,
   "metadata": {
    "colab": {
     "base_uri": "https://localhost:8080/"
    },
    "id": "VkG6PBXq2rUb",
    "outputId": "5c16e439-66f3-4838-a4d2-295ec3b56ef2"
   },
   "outputs": [
    {
     "data": {
      "text/plain": [
       "25000"
      ]
     },
     "execution_count": 19,
     "metadata": {},
     "output_type": "execute_result"
    }
   ],
   "source": [
    "# This is expected because body text comes from pdf and pmc folders\n",
    "(df_merged.body_text_x != df_merged.body_text_y).sum()"
   ]
  },
  {
   "cell_type": "code",
   "execution_count": 20,
   "metadata": {
    "colab": {
     "base_uri": "https://localhost:8080/"
    },
    "id": "tgRLK4mo2vbR",
    "outputId": "aa2db169-3ef2-4a9a-d1ed-eb2b8c507778"
   },
   "outputs": [
    {
     "data": {
      "text/plain": [
       "(1521, 0)"
      ]
     },
     "execution_count": 20,
     "metadata": {},
     "output_type": "execute_result"
    }
   ],
   "source": [
    "df_merged.body_text_x.isnull().sum(),(df_merged.body_text_y == '').sum()"
   ]
  },
  {
   "cell_type": "code",
   "execution_count": 21,
   "metadata": {
    "colab": {
     "base_uri": "https://localhost:8080/"
    },
    "id": "dFGxq1452yc2",
    "outputId": "034de805-8c6d-4502-9d4b-db756093a56c"
   },
   "outputs": [
    {
     "data": {
      "text/plain": [
       "5308"
      ]
     },
     "execution_count": 21,
     "metadata": {},
     "output_type": "execute_result"
    }
   ],
   "source": [
    "# This is expected because there are less papers in json_pmc\n",
    "df_merged.body_text_y.isnull().sum()"
   ]
  },
  {
   "cell_type": "code",
   "execution_count": 22,
   "metadata": {
    "colab": {
     "base_uri": "https://localhost:8080/"
    },
    "id": "KGEK6g_520a1",
    "outputId": "51abfaf0-794a-47b0-b660-7980dbd5f37f"
   },
   "outputs": [
    {
     "data": {
      "text/plain": [
       "(1521, 5308)"
      ]
     },
     "execution_count": 22,
     "metadata": {},
     "output_type": "execute_result"
    }
   ],
   "source": [
    "# body_text_x is pdf_json. body_text_y comes from pmc_json\n",
    "# Where available we use the text from pmc file trusting the statement quality\n",
    "df_merged.body_text_x.isnull().sum(),(df_merged.body_text_y.isnull()).sum()"
   ]
  },
  {
   "cell_type": "code",
   "execution_count": 23,
   "metadata": {
    "colab": {
     "base_uri": "https://localhost:8080/",
     "height": 1000
    },
    "id": "LDSMjs4n23sY",
    "outputId": "e040fc3c-414c-446e-85d9-abab1beacec3"
   },
   "outputs": [
    {
     "data": {
      "text/html": [
       "<div>\n",
       "<style scoped>\n",
       "    .dataframe tbody tr th:only-of-type {\n",
       "        vertical-align: middle;\n",
       "    }\n",
       "\n",
       "    .dataframe tbody tr th {\n",
       "        vertical-align: top;\n",
       "    }\n",
       "\n",
       "    .dataframe thead th {\n",
       "        text-align: right;\n",
       "    }\n",
       "</style>\n",
       "<table border=\"1\" class=\"dataframe\">\n",
       "  <thead>\n",
       "    <tr style=\"text-align: right;\">\n",
       "      <th></th>\n",
       "      <th>cord_uid</th>\n",
       "      <th>sha</th>\n",
       "      <th>source_x</th>\n",
       "      <th>title</th>\n",
       "      <th>doi</th>\n",
       "      <th>pmcid</th>\n",
       "      <th>pubmed_id</th>\n",
       "      <th>license</th>\n",
       "      <th>abstract</th>\n",
       "      <th>publish_time</th>\n",
       "      <th>...</th>\n",
       "      <th>journal</th>\n",
       "      <th>mag_id</th>\n",
       "      <th>who_covidence_id</th>\n",
       "      <th>arxiv_id</th>\n",
       "      <th>pdf_json_files</th>\n",
       "      <th>pmc_json_files</th>\n",
       "      <th>url</th>\n",
       "      <th>s2_id</th>\n",
       "      <th>body_text_x</th>\n",
       "      <th>body_text_y</th>\n",
       "    </tr>\n",
       "  </thead>\n",
       "  <tbody>\n",
       "    <tr>\n",
       "      <th>5</th>\n",
       "      <td>cqwzes8k</td>\n",
       "      <td>3d5ebe5db605d6db4e4f0766b3d0b140638c29d3; e822...</td>\n",
       "      <td>BioRxiv; Medline; PMC; WHO</td>\n",
       "      <td>The N501Y spike substitution enhances SARS-CoV...</td>\n",
       "      <td>10.1101/2021.03.08.434499</td>\n",
       "      <td>PMC7986995</td>\n",
       "      <td>33758836</td>\n",
       "      <td>cc-by-nd</td>\n",
       "      <td>Beginning in the summer of 2020, a variant of ...</td>\n",
       "      <td>2021-03-09</td>\n",
       "      <td>...</td>\n",
       "      <td>bioRxiv</td>\n",
       "      <td>NaN</td>\n",
       "      <td>NaN</td>\n",
       "      <td>NaN</td>\n",
       "      <td>document_parses/pdf_json/3d5ebe5db605d6db4e4f0...</td>\n",
       "      <td>document_parses/pmc_json/PMC7986995.xml.json</td>\n",
       "      <td>https://www.ncbi.nlm.nih.gov/pubmed/33758836/;...</td>\n",
       "      <td>232224630.0</td>\n",
       "      <td>NaN</td>\n",
       "      <td>Since the emergence of severe acute respirator...</td>\n",
       "    </tr>\n",
       "    <tr>\n",
       "      <th>40</th>\n",
       "      <td>07zfhnwi</td>\n",
       "      <td>88c6ddf520b218a0aef0bf4a37a151ef7ba4f7eb; 1505...</td>\n",
       "      <td>Medline; PMC</td>\n",
       "      <td>Forecasting the cumulative number of COVID-19 ...</td>\n",
       "      <td>10.1017/ice.2020.101</td>\n",
       "      <td>PMC7163192</td>\n",
       "      <td>32238216</td>\n",
       "      <td>cc-by</td>\n",
       "      <td>The COVID-19 outbreak is ongoing in China. Her...</td>\n",
       "      <td>2020-04-02</td>\n",
       "      <td>...</td>\n",
       "      <td>Infection control and hospital epidemiology</td>\n",
       "      <td>NaN</td>\n",
       "      <td>NaN</td>\n",
       "      <td>NaN</td>\n",
       "      <td>document_parses/pdf_json/88c6ddf520b218a0aef0b...</td>\n",
       "      <td>document_parses/pmc_json/PMC7163192.xml.json</td>\n",
       "      <td>https://doi.org/10.1017/ice.2020.101; https://...</td>\n",
       "      <td>214769281.0</td>\n",
       "      <td>NaN</td>\n",
       "      <td>We collected data for analysis of the official...</td>\n",
       "    </tr>\n",
       "    <tr>\n",
       "      <th>94</th>\n",
       "      <td>anaqgzvi</td>\n",
       "      <td>162f60f9f55a77b0741da00356b787e0929bc076; 30ee...</td>\n",
       "      <td>Medline; PMC</td>\n",
       "      <td>Characterization of SARS-CoV-specific memory T...</td>\n",
       "      <td>10.1007/s00705-009-0409-6</td>\n",
       "      <td>PMC2796960</td>\n",
       "      <td>19526193</td>\n",
       "      <td>no-cc</td>\n",
       "      <td>SARS-CoV infection of human results in antigen...</td>\n",
       "      <td>2009-06-13</td>\n",
       "      <td>...</td>\n",
       "      <td>Arch Virol</td>\n",
       "      <td>NaN</td>\n",
       "      <td>NaN</td>\n",
       "      <td>NaN</td>\n",
       "      <td>document_parses/pdf_json/162f60f9f55a77b0741da...</td>\n",
       "      <td>document_parses/pmc_json/PMC2796960.xml.json</td>\n",
       "      <td>https://doi.org/10.1007/s00705-009-0409-6; htt...</td>\n",
       "      <td>13771747.0</td>\n",
       "      <td>NaN</td>\n",
       "      <td>SARS is a newly emerged infectious disease tha...</td>\n",
       "    </tr>\n",
       "    <tr>\n",
       "      <th>114</th>\n",
       "      <td>g7vxhpx2</td>\n",
       "      <td>579441d73894399f73bf9bbd0ecb950446264cae; eb89...</td>\n",
       "      <td>PMC</td>\n",
       "      <td>Febrile Illness Evaluation in a Broad Range of...</td>\n",
       "      <td>10.1136/bmjopen-2019-035632</td>\n",
       "      <td>PMC7375419</td>\n",
       "      <td>32699131</td>\n",
       "      <td>cc-by-nc</td>\n",
       "      <td>INTRODUCTION: Fever commonly leads to healthca...</td>\n",
       "      <td>2020-07-21</td>\n",
       "      <td>...</td>\n",
       "      <td>BMJ Open</td>\n",
       "      <td>NaN</td>\n",
       "      <td>NaN</td>\n",
       "      <td>NaN</td>\n",
       "      <td>document_parses/pdf_json/579441d73894399f73bf9...</td>\n",
       "      <td>document_parses/pmc_json/PMC7375419.xml.json</td>\n",
       "      <td>https://www.ncbi.nlm.nih.gov/pmc/articles/PMC7...</td>\n",
       "      <td>NaN</td>\n",
       "      <td>NaN</td>\n",
       "      <td>Fever is one of the most common symptoms leadi...</td>\n",
       "    </tr>\n",
       "    <tr>\n",
       "      <th>115</th>\n",
       "      <td>sxox7qr0</td>\n",
       "      <td>9d8aeb18f139a9cee6cbe54e8fd13885bfaa2f16; 1d22...</td>\n",
       "      <td>Medline; PMC</td>\n",
       "      <td>HIV reprograms host m(6)Am RNA methylome by vi...</td>\n",
       "      <td>10.1038/s41467-021-25683-4</td>\n",
       "      <td>PMC8452764</td>\n",
       "      <td>34545078</td>\n",
       "      <td>cc-by</td>\n",
       "      <td>N(6),2′-O-dimethyladenosine (m(6)Am) is an abu...</td>\n",
       "      <td>2021-09-20</td>\n",
       "      <td>...</td>\n",
       "      <td>Nat Commun</td>\n",
       "      <td>NaN</td>\n",
       "      <td>NaN</td>\n",
       "      <td>NaN</td>\n",
       "      <td>document_parses/pdf_json/9d8aeb18f139a9cee6cbe...</td>\n",
       "      <td>document_parses/pmc_json/PMC8452764.xml.json</td>\n",
       "      <td>https://doi.org/10.1038/s41467-021-25683-4; ht...</td>\n",
       "      <td>237583993.0</td>\n",
       "      <td>NaN</td>\n",
       "      <td>RNA contains more than 100 chemical modificati...</td>\n",
       "    </tr>\n",
       "    <tr>\n",
       "      <th>...</th>\n",
       "      <td>...</td>\n",
       "      <td>...</td>\n",
       "      <td>...</td>\n",
       "      <td>...</td>\n",
       "      <td>...</td>\n",
       "      <td>...</td>\n",
       "      <td>...</td>\n",
       "      <td>...</td>\n",
       "      <td>...</td>\n",
       "      <td>...</td>\n",
       "      <td>...</td>\n",
       "      <td>...</td>\n",
       "      <td>...</td>\n",
       "      <td>...</td>\n",
       "      <td>...</td>\n",
       "      <td>...</td>\n",
       "      <td>...</td>\n",
       "      <td>...</td>\n",
       "      <td>...</td>\n",
       "      <td>...</td>\n",
       "      <td>...</td>\n",
       "    </tr>\n",
       "    <tr>\n",
       "      <th>24865</th>\n",
       "      <td>q1cbnwe2</td>\n",
       "      <td>0ea3b28ce18a2d1b4f3422cbd4a7ae7e30b8ef5f; eec2...</td>\n",
       "      <td>Medline; PMC; WHO</td>\n",
       "      <td>Changing relationships: how does patient invol...</td>\n",
       "      <td>10.1136/bmjopen-2020-045520</td>\n",
       "      <td>PMC8273447</td>\n",
       "      <td>34244256</td>\n",
       "      <td>cc-by-nc</td>\n",
       "      <td>OBJECTIVES: To understand identity tensions ex...</td>\n",
       "      <td>2021-07-09</td>\n",
       "      <td>...</td>\n",
       "      <td>BMJ Open</td>\n",
       "      <td>NaN</td>\n",
       "      <td>NaN</td>\n",
       "      <td>NaN</td>\n",
       "      <td>document_parses/pdf_json/0ea3b28ce18a2d1b4f342...</td>\n",
       "      <td>document_parses/pmc_json/PMC8273447.xml.json</td>\n",
       "      <td>https://doi.org/10.1136/bmjopen-2020-045520; h...</td>\n",
       "      <td>235787469.0</td>\n",
       "      <td>NaN</td>\n",
       "      <td>Over the past decades there have been growing ...</td>\n",
       "    </tr>\n",
       "    <tr>\n",
       "      <th>24956</th>\n",
       "      <td>8ax2o7pr</td>\n",
       "      <td>5d4165bcfee11f084b1b8a4afbe4003619985abb; 4b13...</td>\n",
       "      <td>Elsevier; Medline; PMC</td>\n",
       "      <td>Altered expression of SARS-CoV-2 entry and pro...</td>\n",
       "      <td>10.1016/j.archoralbio.2021.105201</td>\n",
       "      <td>PMC8215882</td>\n",
       "      <td>34174588</td>\n",
       "      <td>no-cc</td>\n",
       "      <td>OBJECTIVE: The aim of this in vitro study was ...</td>\n",
       "      <td>2021-06-21</td>\n",
       "      <td>...</td>\n",
       "      <td>Arch Oral Biol</td>\n",
       "      <td>NaN</td>\n",
       "      <td>NaN</td>\n",
       "      <td>NaN</td>\n",
       "      <td>document_parses/pdf_json/5d4165bcfee11f084b1b8...</td>\n",
       "      <td>document_parses/pmc_json/PMC8215882.xml.json</td>\n",
       "      <td>https://doi.org/10.1016/j.archoralbio.2021.105...</td>\n",
       "      <td>235494592.0</td>\n",
       "      <td>NaN</td>\n",
       "      <td>Since the first discovery of pneumonia of unkn...</td>\n",
       "    </tr>\n",
       "    <tr>\n",
       "      <th>24977</th>\n",
       "      <td>ytbj21og</td>\n",
       "      <td>16438846b5397e35d8fbb13c14e3ed700e8478d1; ede3...</td>\n",
       "      <td>Elsevier; Medline; PMC; WHO</td>\n",
       "      <td>Impact of COVID-19 on city-scale transportatio...</td>\n",
       "      <td>10.1016/j.smhl.2021.100218</td>\n",
       "      <td>PMC8438802</td>\n",
       "      <td>34541278</td>\n",
       "      <td>no-cc</td>\n",
       "      <td>The COVID-19 pandemic brought unprecedented le...</td>\n",
       "      <td>2021-09-14</td>\n",
       "      <td>...</td>\n",
       "      <td>Smart Health (Amst)</td>\n",
       "      <td>NaN</td>\n",
       "      <td>NaN</td>\n",
       "      <td>NaN</td>\n",
       "      <td>document_parses/pdf_json/16438846b5397e35d8fbb...</td>\n",
       "      <td>document_parses/pmc_json/PMC8438802.xml.json</td>\n",
       "      <td>https://api.elsevier.com/content/article/pii/S...</td>\n",
       "      <td>229348839.0</td>\n",
       "      <td>NaN</td>\n",
       "      <td>The 2019 Novel Coronavirus (SARS-CoV-2), commo...</td>\n",
       "    </tr>\n",
       "    <tr>\n",
       "      <th>24991</th>\n",
       "      <td>wnahcla9</td>\n",
       "      <td>9ef579b1e2da281bb2d088e76eb3f62bf8daab1b; 94a4...</td>\n",
       "      <td>Elsevier; Medline; PMC</td>\n",
       "      <td>Predictive performance of SOFA &amp; qSOFA for in-...</td>\n",
       "      <td>10.1016/j.ajem.2021.03.009</td>\n",
       "      <td>PMC7939992</td>\n",
       "      <td>33722433</td>\n",
       "      <td>no-cc</td>\n",
       "      <td>NaN</td>\n",
       "      <td>2021-03-09</td>\n",
       "      <td>...</td>\n",
       "      <td>Am J Emerg Med</td>\n",
       "      <td>NaN</td>\n",
       "      <td>NaN</td>\n",
       "      <td>NaN</td>\n",
       "      <td>document_parses/pdf_json/9ef579b1e2da281bb2d08...</td>\n",
       "      <td>document_parses/pmc_json/PMC7939992.xml.json</td>\n",
       "      <td>https://doi.org/10.1016/j.ajem.2021.03.009; ht...</td>\n",
       "      <td>232144560.0</td>\n",
       "      <td>NaN</td>\n",
       "      <td>The authors declare no competing sources of in...</td>\n",
       "    </tr>\n",
       "    <tr>\n",
       "      <th>24992</th>\n",
       "      <td>ki0keb3s</td>\n",
       "      <td>33e35dcd7cc142e532e01f1734cd54a3d6e4c006; cb12...</td>\n",
       "      <td>Medline; PMC; WHO</td>\n",
       "      <td>A case for location based contact tracing</td>\n",
       "      <td>10.1007/s10729-021-09567-z</td>\n",
       "      <td>PMC8206884</td>\n",
       "      <td>34132978</td>\n",
       "      <td>no-cc</td>\n",
       "      <td>We present an evaluation of the effectiveness ...</td>\n",
       "      <td>2021-06-16</td>\n",
       "      <td>...</td>\n",
       "      <td>Health Care Manag Sci</td>\n",
       "      <td>NaN</td>\n",
       "      <td>NaN</td>\n",
       "      <td>NaN</td>\n",
       "      <td>document_parses/pdf_json/33e35dcd7cc142e532e01...</td>\n",
       "      <td>document_parses/pmc_json/PMC8206884.xml.json</td>\n",
       "      <td>https://www.ncbi.nlm.nih.gov/pubmed/34132978/;...</td>\n",
       "      <td>229156797.0</td>\n",
       "      <td>NaN</td>\n",
       "      <td>\\nWe compare the effectiveness of two types of...</td>\n",
       "    </tr>\n",
       "  </tbody>\n",
       "</table>\n",
       "<p>1435 rows × 21 columns</p>\n",
       "</div>"
      ],
      "text/plain": [
       "       cord_uid                                                sha  \\\n",
       "5      cqwzes8k  3d5ebe5db605d6db4e4f0766b3d0b140638c29d3; e822...   \n",
       "40     07zfhnwi  88c6ddf520b218a0aef0bf4a37a151ef7ba4f7eb; 1505...   \n",
       "94     anaqgzvi  162f60f9f55a77b0741da00356b787e0929bc076; 30ee...   \n",
       "114    g7vxhpx2  579441d73894399f73bf9bbd0ecb950446264cae; eb89...   \n",
       "115    sxox7qr0  9d8aeb18f139a9cee6cbe54e8fd13885bfaa2f16; 1d22...   \n",
       "...         ...                                                ...   \n",
       "24865  q1cbnwe2  0ea3b28ce18a2d1b4f3422cbd4a7ae7e30b8ef5f; eec2...   \n",
       "24956  8ax2o7pr  5d4165bcfee11f084b1b8a4afbe4003619985abb; 4b13...   \n",
       "24977  ytbj21og  16438846b5397e35d8fbb13c14e3ed700e8478d1; ede3...   \n",
       "24991  wnahcla9  9ef579b1e2da281bb2d088e76eb3f62bf8daab1b; 94a4...   \n",
       "24992  ki0keb3s  33e35dcd7cc142e532e01f1734cd54a3d6e4c006; cb12...   \n",
       "\n",
       "                          source_x  \\\n",
       "5       BioRxiv; Medline; PMC; WHO   \n",
       "40                    Medline; PMC   \n",
       "94                    Medline; PMC   \n",
       "114                            PMC   \n",
       "115                   Medline; PMC   \n",
       "...                            ...   \n",
       "24865            Medline; PMC; WHO   \n",
       "24956       Elsevier; Medline; PMC   \n",
       "24977  Elsevier; Medline; PMC; WHO   \n",
       "24991       Elsevier; Medline; PMC   \n",
       "24992            Medline; PMC; WHO   \n",
       "\n",
       "                                                   title  \\\n",
       "5      The N501Y spike substitution enhances SARS-CoV...   \n",
       "40     Forecasting the cumulative number of COVID-19 ...   \n",
       "94     Characterization of SARS-CoV-specific memory T...   \n",
       "114    Febrile Illness Evaluation in a Broad Range of...   \n",
       "115    HIV reprograms host m(6)Am RNA methylome by vi...   \n",
       "...                                                  ...   \n",
       "24865  Changing relationships: how does patient invol...   \n",
       "24956  Altered expression of SARS-CoV-2 entry and pro...   \n",
       "24977  Impact of COVID-19 on city-scale transportatio...   \n",
       "24991  Predictive performance of SOFA & qSOFA for in-...   \n",
       "24992          A case for location based contact tracing   \n",
       "\n",
       "                                     doi       pmcid pubmed_id   license  \\\n",
       "5              10.1101/2021.03.08.434499  PMC7986995  33758836  cc-by-nd   \n",
       "40                  10.1017/ice.2020.101  PMC7163192  32238216     cc-by   \n",
       "94             10.1007/s00705-009-0409-6  PMC2796960  19526193     no-cc   \n",
       "114          10.1136/bmjopen-2019-035632  PMC7375419  32699131  cc-by-nc   \n",
       "115           10.1038/s41467-021-25683-4  PMC8452764  34545078     cc-by   \n",
       "...                                  ...         ...       ...       ...   \n",
       "24865        10.1136/bmjopen-2020-045520  PMC8273447  34244256  cc-by-nc   \n",
       "24956  10.1016/j.archoralbio.2021.105201  PMC8215882  34174588     no-cc   \n",
       "24977         10.1016/j.smhl.2021.100218  PMC8438802  34541278     no-cc   \n",
       "24991         10.1016/j.ajem.2021.03.009  PMC7939992  33722433     no-cc   \n",
       "24992         10.1007/s10729-021-09567-z  PMC8206884  34132978     no-cc   \n",
       "\n",
       "                                                abstract publish_time  ...  \\\n",
       "5      Beginning in the summer of 2020, a variant of ...   2021-03-09  ...   \n",
       "40     The COVID-19 outbreak is ongoing in China. Her...   2020-04-02  ...   \n",
       "94     SARS-CoV infection of human results in antigen...   2009-06-13  ...   \n",
       "114    INTRODUCTION: Fever commonly leads to healthca...   2020-07-21  ...   \n",
       "115    N(6),2′-O-dimethyladenosine (m(6)Am) is an abu...   2021-09-20  ...   \n",
       "...                                                  ...          ...  ...   \n",
       "24865  OBJECTIVES: To understand identity tensions ex...   2021-07-09  ...   \n",
       "24956  OBJECTIVE: The aim of this in vitro study was ...   2021-06-21  ...   \n",
       "24977  The COVID-19 pandemic brought unprecedented le...   2021-09-14  ...   \n",
       "24991                                                NaN   2021-03-09  ...   \n",
       "24992  We present an evaluation of the effectiveness ...   2021-06-16  ...   \n",
       "\n",
       "                                           journal mag_id  who_covidence_id  \\\n",
       "5                                          bioRxiv    NaN               NaN   \n",
       "40     Infection control and hospital epidemiology    NaN               NaN   \n",
       "94                                      Arch Virol    NaN               NaN   \n",
       "114                                       BMJ Open    NaN               NaN   \n",
       "115                                     Nat Commun    NaN               NaN   \n",
       "...                                            ...    ...               ...   \n",
       "24865                                     BMJ Open    NaN               NaN   \n",
       "24956                               Arch Oral Biol    NaN               NaN   \n",
       "24977                          Smart Health (Amst)    NaN               NaN   \n",
       "24991                               Am J Emerg Med    NaN               NaN   \n",
       "24992                        Health Care Manag Sci    NaN               NaN   \n",
       "\n",
       "      arxiv_id                                     pdf_json_files  \\\n",
       "5          NaN  document_parses/pdf_json/3d5ebe5db605d6db4e4f0...   \n",
       "40         NaN  document_parses/pdf_json/88c6ddf520b218a0aef0b...   \n",
       "94         NaN  document_parses/pdf_json/162f60f9f55a77b0741da...   \n",
       "114        NaN  document_parses/pdf_json/579441d73894399f73bf9...   \n",
       "115        NaN  document_parses/pdf_json/9d8aeb18f139a9cee6cbe...   \n",
       "...        ...                                                ...   \n",
       "24865      NaN  document_parses/pdf_json/0ea3b28ce18a2d1b4f342...   \n",
       "24956      NaN  document_parses/pdf_json/5d4165bcfee11f084b1b8...   \n",
       "24977      NaN  document_parses/pdf_json/16438846b5397e35d8fbb...   \n",
       "24991      NaN  document_parses/pdf_json/9ef579b1e2da281bb2d08...   \n",
       "24992      NaN  document_parses/pdf_json/33e35dcd7cc142e532e01...   \n",
       "\n",
       "                                     pmc_json_files  \\\n",
       "5      document_parses/pmc_json/PMC7986995.xml.json   \n",
       "40     document_parses/pmc_json/PMC7163192.xml.json   \n",
       "94     document_parses/pmc_json/PMC2796960.xml.json   \n",
       "114    document_parses/pmc_json/PMC7375419.xml.json   \n",
       "115    document_parses/pmc_json/PMC8452764.xml.json   \n",
       "...                                             ...   \n",
       "24865  document_parses/pmc_json/PMC8273447.xml.json   \n",
       "24956  document_parses/pmc_json/PMC8215882.xml.json   \n",
       "24977  document_parses/pmc_json/PMC8438802.xml.json   \n",
       "24991  document_parses/pmc_json/PMC7939992.xml.json   \n",
       "24992  document_parses/pmc_json/PMC8206884.xml.json   \n",
       "\n",
       "                                                     url        s2_id  \\\n",
       "5      https://www.ncbi.nlm.nih.gov/pubmed/33758836/;...  232224630.0   \n",
       "40     https://doi.org/10.1017/ice.2020.101; https://...  214769281.0   \n",
       "94     https://doi.org/10.1007/s00705-009-0409-6; htt...   13771747.0   \n",
       "114    https://www.ncbi.nlm.nih.gov/pmc/articles/PMC7...          NaN   \n",
       "115    https://doi.org/10.1038/s41467-021-25683-4; ht...  237583993.0   \n",
       "...                                                  ...          ...   \n",
       "24865  https://doi.org/10.1136/bmjopen-2020-045520; h...  235787469.0   \n",
       "24956  https://doi.org/10.1016/j.archoralbio.2021.105...  235494592.0   \n",
       "24977  https://api.elsevier.com/content/article/pii/S...  229348839.0   \n",
       "24991  https://doi.org/10.1016/j.ajem.2021.03.009; ht...  232144560.0   \n",
       "24992  https://www.ncbi.nlm.nih.gov/pubmed/34132978/;...  229156797.0   \n",
       "\n",
       "       body_text_x                                        body_text_y  \n",
       "5              NaN  Since the emergence of severe acute respirator...  \n",
       "40             NaN  We collected data for analysis of the official...  \n",
       "94             NaN  SARS is a newly emerged infectious disease tha...  \n",
       "114            NaN  Fever is one of the most common symptoms leadi...  \n",
       "115            NaN  RNA contains more than 100 chemical modificati...  \n",
       "...            ...                                                ...  \n",
       "24865          NaN  Over the past decades there have been growing ...  \n",
       "24956          NaN  Since the first discovery of pneumonia of unkn...  \n",
       "24977          NaN  The 2019 Novel Coronavirus (SARS-CoV-2), commo...  \n",
       "24991          NaN  The authors declare no competing sources of in...  \n",
       "24992          NaN  \\nWe compare the effectiveness of two types of...  \n",
       "\n",
       "[1435 rows x 21 columns]"
      ]
     },
     "execution_count": 23,
     "metadata": {},
     "output_type": "execute_result"
    }
   ],
   "source": [
    "# There are ~13k rows where body_text_x is null but body_text_y is not null\n",
    "df_merged.loc[df_merged.body_text_x.isnull() & df_merged.body_text_y.notnull()]"
   ]
  },
  {
   "cell_type": "code",
   "execution_count": 24,
   "metadata": {
    "id": "5NrCfQ7k25WX"
   },
   "outputs": [],
   "source": [
    "# We are trusting the text from pmc folder to be of higher quality as it contains full text. \n",
    "# Hence we will replace with body_text_x with body_text_y where body_text_y exists\n",
    "df_merged.loc[df_merged.body_text_y.notnull(),'body_text_x'] = df_merged.loc[df_merged.body_text_y.notnull(), 'body_text_y']"
   ]
  },
  {
   "cell_type": "code",
   "execution_count": 25,
   "metadata": {
    "colab": {
     "base_uri": "https://localhost:8080/"
    },
    "id": "7a0p_Yb329FL",
    "outputId": "62bd404f-797b-4d8a-9cee-2ff032690028"
   },
   "outputs": [
    {
     "data": {
      "text/plain": [
       "Index(['cord_uid', 'sha', 'source_x', 'title', 'doi', 'pmcid', 'pubmed_id',\n",
       "       'license', 'abstract', 'publish_time', 'authors', 'journal', 'mag_id',\n",
       "       'who_covidence_id', 'arxiv_id', 'pdf_json_files', 'pmc_json_files',\n",
       "       'url', 's2_id', 'body_text'],\n",
       "      dtype='object')"
      ]
     },
     "execution_count": 25,
     "metadata": {},
     "output_type": "execute_result"
    }
   ],
   "source": [
    "# Lets get rid of the pdf_pmc body text column and rename the body text column\n",
    "df_merged.rename(columns = {'body_text_x' : 'body_text'}, inplace = True)\n",
    "df_merged.drop('body_text_y',axis=1,inplace = True)\n",
    "df_merged.columns"
   ]
  },
  {
   "cell_type": "code",
   "execution_count": 26,
   "metadata": {
    "colab": {
     "base_uri": "https://localhost:8080/"
    },
    "id": "bbyVSGqh3BIs",
    "outputId": "e54a485b-1d70-457b-a79a-8b176f702ac6"
   },
   "outputs": [
    {
     "data": {
      "text/plain": [
       "86"
      ]
     },
     "execution_count": 26,
     "metadata": {},
     "output_type": "execute_result"
    }
   ],
   "source": [
    "# Body text null values have now decreased.\n",
    "df_merged.body_text.isnull().sum()"
   ]
  },
  {
   "cell_type": "code",
   "execution_count": 27,
   "metadata": {
    "colab": {
     "base_uri": "https://localhost:8080/"
    },
    "id": "Tq3_goHV3DSG",
    "outputId": "697e9d42-c34d-4fd7-b943-e9b22fa342be"
   },
   "outputs": [
    {
     "data": {
      "text/plain": [
       "Index(['cord_uid', 'sha', 'source_x', 'title', 'doi', 'pmcid', 'pubmed_id',\n",
       "       'license', 'abstract', 'publish_time', 'authors', 'journal', 'mag_id',\n",
       "       'who_covidence_id', 'arxiv_id', 'pdf_json_files', 'pmc_json_files',\n",
       "       'url', 's2_id', 'body_text'],\n",
       "      dtype='object')"
      ]
     },
     "execution_count": 27,
     "metadata": {},
     "output_type": "execute_result"
    }
   ],
   "source": [
    "df_merged.columns"
   ]
  },
  {
   "cell_type": "code",
   "execution_count": 28,
   "metadata": {
    "id": "IqkpfMY43FHO"
   },
   "outputs": [],
   "source": [
    "df_final = df_merged[['sha', 'title', 'abstract', 'publish_time', 'authors', 'url', 'body_text']]"
   ]
  },
  {
   "cell_type": "code",
   "execution_count": 29,
   "metadata": {
    "colab": {
     "base_uri": "https://localhost:8080/",
     "height": 595
    },
    "id": "4iQ9-OhE3HiH",
    "outputId": "51892a21-81fa-40a5-89e6-66544e6069a7"
   },
   "outputs": [
    {
     "data": {
      "text/html": [
       "<div>\n",
       "<style scoped>\n",
       "    .dataframe tbody tr th:only-of-type {\n",
       "        vertical-align: middle;\n",
       "    }\n",
       "\n",
       "    .dataframe tbody tr th {\n",
       "        vertical-align: top;\n",
       "    }\n",
       "\n",
       "    .dataframe thead th {\n",
       "        text-align: right;\n",
       "    }\n",
       "</style>\n",
       "<table border=\"1\" class=\"dataframe\">\n",
       "  <thead>\n",
       "    <tr style=\"text-align: right;\">\n",
       "      <th></th>\n",
       "      <th>sha</th>\n",
       "      <th>title</th>\n",
       "      <th>abstract</th>\n",
       "      <th>publish_time</th>\n",
       "      <th>authors</th>\n",
       "      <th>url</th>\n",
       "      <th>body_text</th>\n",
       "    </tr>\n",
       "  </thead>\n",
       "  <tbody>\n",
       "    <tr>\n",
       "      <th>0</th>\n",
       "      <td>0c18d8bada7843ddf469a6f62e83b4d96ab3c9b9</td>\n",
       "      <td>SARS-CoV-2 infection in China—Before the pandemic</td>\n",
       "      <td>In order to rapidly inform polices in the inte...</td>\n",
       "      <td>2020-08-06</td>\n",
       "      <td>Liang, Huiying; Zheng, Lingling; Xia, Huimin; ...</td>\n",
       "      <td>https://doi.org/10.1371/journal.pntd.0008472; ...</td>\n",
       "      <td>In December 2019, a series of patients with pn...</td>\n",
       "    </tr>\n",
       "    <tr>\n",
       "      <th>1</th>\n",
       "      <td>5759f02599e9135b5dfb4e0e5be373ec83d34e5f</td>\n",
       "      <td>From Monopoly to Monopsony Capitalism</td>\n",
       "      <td>This paper argues for the characterization of ...</td>\n",
       "      <td>2021-11-10</td>\n",
       "      <td>Nathan, Dev</td>\n",
       "      <td>https://www.ncbi.nlm.nih.gov/pmc/articles/PMC8...</td>\n",
       "      <td>In March 2020, as the COVID-19-pandemic-induce...</td>\n",
       "    </tr>\n",
       "    <tr>\n",
       "      <th>2</th>\n",
       "      <td>de0403b324a00e28e80221eeb65c56db1e5b33be</td>\n",
       "      <td>3D Printed N-95 Masks During the COVID-19 Pand...</td>\n",
       "      <td>Early in 2020, the pandemic resulted in an eno...</td>\n",
       "      <td>2021-09-03</td>\n",
       "      <td>Spake, Carole S. L.; Carruthers, Thomas N.; Cr...</td>\n",
       "      <td>https://doi.org/10.1007/s10439-021-02859-z; ht...</td>\n",
       "      <td>The beginning of the COVID-19 Pandemic was cha...</td>\n",
       "    </tr>\n",
       "    <tr>\n",
       "      <th>3</th>\n",
       "      <td>c6574b73c1b7e92fa4115ec931ff677ba6b6943b</td>\n",
       "      <td>Impact of COVID-19 pandemic on non-COVID patie...</td>\n",
       "      <td>BACKGROUND: To evaluate the impact of COVID-19...</td>\n",
       "      <td>2021-07-06</td>\n",
       "      <td>Jibhakate, Nikhilesh A.; Patwardhan, Sujata K....</td>\n",
       "      <td>https://doi.org/10.1186/s12301-021-00196-0; ht...</td>\n",
       "      <td>COVID-19 was declared as a pandemic by the WHO...</td>\n",
       "    </tr>\n",
       "    <tr>\n",
       "      <th>4</th>\n",
       "      <td>595eb7ab079654484cf2529f3bb6cfe9a14baced</td>\n",
       "      <td>Debates on Global Sociology: ‘Unity and Divers...</td>\n",
       "      <td>This paper critically looks at the ways in whi...</td>\n",
       "      <td>2021-04-20</td>\n",
       "      <td>Kislenko, Ivan</td>\n",
       "      <td>https://www.ncbi.nlm.nih.gov/pubmed/33896944/;...</td>\n",
       "      <td>The topic ‘global sociology’ has been generati...</td>\n",
       "    </tr>\n",
       "  </tbody>\n",
       "</table>\n",
       "</div>"
      ],
      "text/plain": [
       "                                        sha  \\\n",
       "0  0c18d8bada7843ddf469a6f62e83b4d96ab3c9b9   \n",
       "1  5759f02599e9135b5dfb4e0e5be373ec83d34e5f   \n",
       "2  de0403b324a00e28e80221eeb65c56db1e5b33be   \n",
       "3  c6574b73c1b7e92fa4115ec931ff677ba6b6943b   \n",
       "4  595eb7ab079654484cf2529f3bb6cfe9a14baced   \n",
       "\n",
       "                                               title  \\\n",
       "0  SARS-CoV-2 infection in China—Before the pandemic   \n",
       "1              From Monopoly to Monopsony Capitalism   \n",
       "2  3D Printed N-95 Masks During the COVID-19 Pand...   \n",
       "3  Impact of COVID-19 pandemic on non-COVID patie...   \n",
       "4  Debates on Global Sociology: ‘Unity and Divers...   \n",
       "\n",
       "                                            abstract publish_time  \\\n",
       "0  In order to rapidly inform polices in the inte...   2020-08-06   \n",
       "1  This paper argues for the characterization of ...   2021-11-10   \n",
       "2  Early in 2020, the pandemic resulted in an eno...   2021-09-03   \n",
       "3  BACKGROUND: To evaluate the impact of COVID-19...   2021-07-06   \n",
       "4  This paper critically looks at the ways in whi...   2021-04-20   \n",
       "\n",
       "                                             authors  \\\n",
       "0  Liang, Huiying; Zheng, Lingling; Xia, Huimin; ...   \n",
       "1                                        Nathan, Dev   \n",
       "2  Spake, Carole S. L.; Carruthers, Thomas N.; Cr...   \n",
       "3  Jibhakate, Nikhilesh A.; Patwardhan, Sujata K....   \n",
       "4                                     Kislenko, Ivan   \n",
       "\n",
       "                                                 url  \\\n",
       "0  https://doi.org/10.1371/journal.pntd.0008472; ...   \n",
       "1  https://www.ncbi.nlm.nih.gov/pmc/articles/PMC8...   \n",
       "2  https://doi.org/10.1007/s10439-021-02859-z; ht...   \n",
       "3  https://doi.org/10.1186/s12301-021-00196-0; ht...   \n",
       "4  https://www.ncbi.nlm.nih.gov/pubmed/33896944/;...   \n",
       "\n",
       "                                           body_text  \n",
       "0  In December 2019, a series of patients with pn...  \n",
       "1  In March 2020, as the COVID-19-pandemic-induce...  \n",
       "2  The beginning of the COVID-19 Pandemic was cha...  \n",
       "3  COVID-19 was declared as a pandemic by the WHO...  \n",
       "4  The topic ‘global sociology’ has been generati...  "
      ]
     },
     "execution_count": 29,
     "metadata": {},
     "output_type": "execute_result"
    }
   ],
   "source": [
    "df_final.head()"
   ]
  },
  {
   "cell_type": "code",
   "execution_count": 30,
   "metadata": {
    "colab": {
     "base_uri": "https://localhost:8080/"
    },
    "id": "jb17usY03JQq",
    "outputId": "42f093f0-a33e-48f3-d298-8ae85146de95"
   },
   "outputs": [
    {
     "data": {
      "text/plain": [
       "sha                0\n",
       "title              0\n",
       "abstract        2917\n",
       "publish_time       0\n",
       "authors          199\n",
       "url                0\n",
       "body_text          0\n",
       "dtype: int64"
      ]
     },
     "execution_count": 30,
     "metadata": {},
     "output_type": "execute_result"
    }
   ],
   "source": [
    "df_final = df_final.dropna(axis=0,subset=['body_text', 'title'])\n",
    "df_final.isnull().sum()"
   ]
  },
  {
   "cell_type": "code",
   "execution_count": 31,
   "metadata": {
    "colab": {
     "base_uri": "https://localhost:8080/"
    },
    "id": "oNILUEuR3LxI",
    "outputId": "ad345898-b710-459c-b5cb-d0be017e31d8"
   },
   "outputs": [
    {
     "data": {
      "text/plain": [
       "(24914, 7)"
      ]
     },
     "execution_count": 31,
     "metadata": {},
     "output_type": "execute_result"
    }
   ],
   "source": [
    "df_final.shape"
   ]
  },
  {
   "cell_type": "code",
   "execution_count": 33,
   "metadata": {
    "id": "aseuam6r3N7w"
   },
   "outputs": [],
   "source": [
    "#df_final.to_csv('FINAL_CORD_DATA.csv', index=False)"
   ]
  },
  {
   "cell_type": "code",
   "execution_count": 34,
   "metadata": {},
   "outputs": [
    {
     "name": "stdout",
     "output_type": "stream",
     "text": [
      "FINAL_CORD_DATA.csv\r\n",
      "covid_qa_data_preprocessing.ipynb\r\n",
      "json_pdf_sample.pickle\r\n",
      "json_pmc_sample.pickle\r\n",
      "metadata_sample.pickle\r\n"
     ]
    }
   ],
   "source": [
    "!ls -1h"
   ]
  },
  {
   "cell_type": "code",
   "execution_count": null,
   "metadata": {},
   "outputs": [],
   "source": []
  }
 ],
 "metadata": {
  "colab": {
   "collapsed_sections": [],
   "include_colab_link": true,
   "name": "covid-qa-data-preprocessing.ipynb",
   "provenance": []
  },
  "kernelspec": {
   "display_name": "Python 3 (ipykernel)",
   "language": "python",
   "name": "python3"
  },
  "language_info": {
   "codemirror_mode": {
    "name": "ipython",
    "version": 3
   },
   "file_extension": ".py",
   "mimetype": "text/x-python",
   "name": "python",
   "nbconvert_exporter": "python",
   "pygments_lexer": "ipython3",
   "version": "3.9.13"
  }
 },
 "nbformat": 4,
 "nbformat_minor": 1
}
