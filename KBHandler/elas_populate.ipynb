{
 "cells": [
  {
   "cell_type": "code",
   "execution_count": null,
   "id": "aab751da",
   "metadata": {},
   "outputs": [],
   "source": [
    "#https://github.com/deeplearn-ai/covid-qa-udemy"
   ]
  },
  {
   "cell_type": "code",
   "execution_count": 9,
   "id": "89a7aded",
   "metadata": {},
   "outputs": [],
   "source": [
    "#https://pypi.org/project/farm-haystack/\n",
    "#!curl --proto '=https' --tlsv1.2 -sSf https://sh.rustup.rs | sh #from terminal\n",
    "#!pip install --upgrade pip\n",
    "#!pip install setuptools-rust\n",
    "#!pip install farm-haystack\n",
    "#!pip install transformers==4.21.2\n",
    "#!pip install --upgrade transformers\n",
    "#!pip install streamlit\n",
    "#!pip install markupsafe==2.0.1\n",
    "###########!pip install farm"
   ]
  },
  {
   "cell_type": "code",
   "execution_count": 1,
   "id": "36065a32",
   "metadata": {},
   "outputs": [
    {
     "name": "stderr",
     "output_type": "stream",
     "text": [
      "/Users/yasya/miniforge3/envs/mlenv/lib/python3.9/site-packages/tqdm/auto.py:22: TqdmWarning: IProgress not found. Please update jupyter and ipywidgets. See https://ipywidgets.readthedocs.io/en/stable/user_install.html\n",
      "  from .autonotebook import tqdm as notebook_tqdm\n"
     ]
    }
   ],
   "source": [
    "#https://pypi.org/project/transformers/\n",
    "from transformers import pipeline\n"
   ]
  },
  {
   "cell_type": "code",
   "execution_count": 2,
   "id": "8f4d4a25",
   "metadata": {},
   "outputs": [],
   "source": [
    "import haystack"
   ]
  },
  {
   "cell_type": "code",
   "execution_count": 3,
   "id": "aabfe7b7",
   "metadata": {},
   "outputs": [
    {
     "data": {
      "text/plain": [
       "'1.10.0'"
      ]
     },
     "execution_count": 3,
     "metadata": {},
     "output_type": "execute_result"
    }
   ],
   "source": [
    "haystack.__version__"
   ]
  },
  {
   "cell_type": "code",
   "execution_count": 4,
   "id": "7beb03c9",
   "metadata": {},
   "outputs": [],
   "source": [
    "import transformers "
   ]
  },
  {
   "cell_type": "code",
   "execution_count": 5,
   "id": "28caac24",
   "metadata": {},
   "outputs": [
    {
     "data": {
      "text/plain": [
       "'4.21.2'"
      ]
     },
     "execution_count": 5,
     "metadata": {},
     "output_type": "execute_result"
    }
   ],
   "source": [
    "transformers.__version__"
   ]
  },
  {
   "cell_type": "code",
   "execution_count": 6,
   "id": "e0f3527e",
   "metadata": {},
   "outputs": [
    {
     "name": "stderr",
     "output_type": "stream",
     "text": [
      "No model was supplied, defaulted to distilbert-base-uncased-finetuned-sst-2-english and revision af0f99b (https://huggingface.co/distilbert-base-uncased-finetuned-sst-2-english).\n",
      "Using a pipeline without specifying a model name and revision in production is not recommended.\n",
      "Downloading config.json: 100%|██████████████████| 629/629 [00:00<00:00, 290kB/s]\n",
      "Downloading pytorch_model.bin: 100%|█████████| 255M/255M [00:35<00:00, 7.57MB/s]\n",
      "Downloading tokenizer_config.json: 100%|█████| 48.0/48.0 [00:00<00:00, 11.7kB/s]\n",
      "Downloading vocab.txt: 100%|██████████████████| 226k/226k [00:00<00:00, 517kB/s]\n"
     ]
    },
    {
     "data": {
      "text/plain": [
       "[{'label': 'POSITIVE', 'score': 0.9996980428695679}]"
      ]
     },
     "execution_count": 6,
     "metadata": {},
     "output_type": "execute_result"
    }
   ],
   "source": [
    "classifier = pipeline('sentiment-analysis')\n",
    "classifier('We are very happy to introduce pipeline to the transformers repository.')"
   ]
  },
  {
   "cell_type": "code",
   "execution_count": null,
   "id": "3ae43f0a",
   "metadata": {},
   "outputs": [],
   "source": [
    "#from haystack.pipelines import ExtractiveQAPipeline\n",
    "#from haystack.nodes import FARMReader\n",
    "#from haystack.nodes import BM25Retriever\n",
    "#from fastapi import FastAPI\n",
    "#from pydantic import BaseModel"
   ]
  },
  {
   "cell_type": "code",
   "execution_count": 10,
   "id": "ce5b5a8b",
   "metadata": {},
   "outputs": [
    {
     "data": {
      "text/plain": [
       "'1.14.1'"
      ]
     },
     "execution_count": 10,
     "metadata": {},
     "output_type": "execute_result"
    }
   ],
   "source": [
    "#sformers\n",
    "import streamlit\n",
    "streamlit.__version__"
   ]
  },
  {
   "cell_type": "code",
   "execution_count": null,
   "id": "5e9d6692",
   "metadata": {},
   "outputs": [],
   "source": [
    "import streamlit"
   ]
  },
  {
   "cell_type": "code",
   "execution_count": null,
   "id": "ed315dd4",
   "metadata": {},
   "outputs": [],
   "source": [
    "import streamlit as st\n",
    "import requests, json\n",
    "from annotated_text import annotated_text"
   ]
  },
  {
   "cell_type": "code",
   "execution_count": 1,
   "id": "9cb445c9",
   "metadata": {},
   "outputs": [
    {
     "name": "stderr",
     "output_type": "stream",
     "text": [
      "/Users/abaygi/miniforge3/envs/mywebscrpenv/lib/python3.8/site-packages/tqdm/auto.py:22: TqdmWarning: IProgress not found. Please update jupyter and ipywidgets. See https://ipywidgets.readthedocs.io/en/stable/user_install.html\n",
      "  from .autonotebook import tqdm as notebook_tqdm\n",
      "/Users/abaygi/miniforge3/envs/mywebscrpenv/lib/python3.8/site-packages/elasticsearch/connection/base.py:200: ElasticsearchWarning: Elasticsearch built-in security features are not enabled. Without authentication, your cluster could be accessible to anyone. See https://www.elastic.co/guide/en/elasticsearch/reference/7.14/security-minimal-setup.html to enable security.\n",
      "  warnings.warn(message, category=ElasticsearchWarning)\n"
     ]
    }
   ],
   "source": [
    "#docker run -p 9200:9200 -e \"discovery.type=single-node\" docker.elastic.co/elasticsearch/elasticsearch:7.14.2\n",
    "from haystack.document_stores import ElasticsearchDocumentStore\n",
    "document_store = ElasticsearchDocumentStore(host=\"localhost\", username=\"\", password=\"\", index=\"document\")\n"
   ]
  },
  {
   "cell_type": "code",
   "execution_count": 2,
   "id": "3ca80cdb",
   "metadata": {},
   "outputs": [],
   "source": [
    "# Let's first fetch some documents that we want to query\n",
    "import pandas as pd \n",
    "df = pd.read_csv('/Users/yasya/Documents/spiced_projects/sandbox/Nlp_covide_pro/Data_Preprocessing/FINAL_CORD_DATA.csv')"
   ]
  },
  {
   "cell_type": "code",
   "execution_count": 3,
   "id": "0b1933e2",
   "metadata": {},
   "outputs": [
    {
     "data": {
      "text/html": [
       "<div>\n",
       "<style scoped>\n",
       "    .dataframe tbody tr th:only-of-type {\n",
       "        vertical-align: middle;\n",
       "    }\n",
       "\n",
       "    .dataframe tbody tr th {\n",
       "        vertical-align: top;\n",
       "    }\n",
       "\n",
       "    .dataframe thead th {\n",
       "        text-align: right;\n",
       "    }\n",
       "</style>\n",
       "<table border=\"1\" class=\"dataframe\">\n",
       "  <thead>\n",
       "    <tr style=\"text-align: right;\">\n",
       "      <th></th>\n",
       "      <th>sha</th>\n",
       "      <th>title</th>\n",
       "      <th>abstract</th>\n",
       "      <th>publish_time</th>\n",
       "      <th>authors</th>\n",
       "      <th>url</th>\n",
       "      <th>body_text</th>\n",
       "    </tr>\n",
       "  </thead>\n",
       "  <tbody>\n",
       "    <tr>\n",
       "      <th>0</th>\n",
       "      <td>41ed6b3014e89604b351c095571c45056ba12c37</td>\n",
       "      <td>A phantom study to optimise the automatic tube current modulation for chest ...</td>\n",
       "      <td>On March 11, 2020, the World Health Organization declared the coronavirus di...</td>\n",
       "      <td>2021-05-28</td>\n",
       "      <td>Gombolevskiy, Victor; Morozov, Sergey; Chernina, Valeria; Blokhin, Ivan; Vas...</td>\n",
       "      <td>https://doi.org/10.1186/s41747-021-00218-0; https://www.ncbi.nlm.nih.gov/pub...</td>\n",
       "      <td>\\nWe obtained a density difference (ground-glass opacities minus visually un...</td>\n",
       "    </tr>\n",
       "    <tr>\n",
       "      <th>1</th>\n",
       "      <td>57221999055bdc0b1c4bb16c790fdebdac1f7ce7</td>\n",
       "      <td>Tunicamycin, an anticancer drug and inhibitor of N- linked glycosylation pro...</td>\n",
       "      <td>SARS-CoV-2 outbreaks remains a medical and economic challenge, due to the la...</td>\n",
       "      <td>2020-10-20</td>\n",
       "      <td>Dawood, Ali Adel; Altobje, Mahmood Abduljabar</td>\n",
       "      <td>https://doi.org/10.1016/j.micpath.2020.104586; https://www.ncbi.nlm.nih.gov/...</td>\n",
       "      <td>Tunicamycin is an antibiotic was produced by Streptomyces clavuligerus and S...</td>\n",
       "    </tr>\n",
       "    <tr>\n",
       "      <th>2</th>\n",
       "      <td>7fd64a56bf3a761da96e6aad00789413813599ca</td>\n",
       "      <td>Asymptomatic SARS-CoV-2 infection</td>\n",
       "      <td>NaN</td>\n",
       "      <td>2020-06-12</td>\n",
       "      <td>Ooi, Eng Eong; Low, Jenny G</td>\n",
       "      <td>https://doi.org/10.1016/s1473-3099(20)30460-6; https://api.elsevier.com/cont...</td>\n",
       "      <td>The pandemic spread of severe acute respiratory syndrome coronavirus-2 (SARS...</td>\n",
       "    </tr>\n",
       "  </tbody>\n",
       "</table>\n",
       "</div>"
      ],
      "text/plain": [
       "                                        sha  \\\n",
       "0  41ed6b3014e89604b351c095571c45056ba12c37   \n",
       "1  57221999055bdc0b1c4bb16c790fdebdac1f7ce7   \n",
       "2  7fd64a56bf3a761da96e6aad00789413813599ca   \n",
       "\n",
       "                                                                             title  \\\n",
       "0  A phantom study to optimise the automatic tube current modulation for chest ...   \n",
       "1  Tunicamycin, an anticancer drug and inhibitor of N- linked glycosylation pro...   \n",
       "2                                                Asymptomatic SARS-CoV-2 infection   \n",
       "\n",
       "                                                                          abstract  \\\n",
       "0  On March 11, 2020, the World Health Organization declared the coronavirus di...   \n",
       "1  SARS-CoV-2 outbreaks remains a medical and economic challenge, due to the la...   \n",
       "2                                                                              NaN   \n",
       "\n",
       "  publish_time  \\\n",
       "0   2021-05-28   \n",
       "1   2020-10-20   \n",
       "2   2020-06-12   \n",
       "\n",
       "                                                                           authors  \\\n",
       "0  Gombolevskiy, Victor; Morozov, Sergey; Chernina, Valeria; Blokhin, Ivan; Vas...   \n",
       "1                                    Dawood, Ali Adel; Altobje, Mahmood Abduljabar   \n",
       "2                                                      Ooi, Eng Eong; Low, Jenny G   \n",
       "\n",
       "                                                                               url  \\\n",
       "0  https://doi.org/10.1186/s41747-021-00218-0; https://www.ncbi.nlm.nih.gov/pub...   \n",
       "1  https://doi.org/10.1016/j.micpath.2020.104586; https://www.ncbi.nlm.nih.gov/...   \n",
       "2  https://doi.org/10.1016/s1473-3099(20)30460-6; https://api.elsevier.com/cont...   \n",
       "\n",
       "                                                                         body_text  \n",
       "0  \\nWe obtained a density difference (ground-glass opacities minus visually un...  \n",
       "1  Tunicamycin is an antibiotic was produced by Streptomyces clavuligerus and S...  \n",
       "2  The pandemic spread of severe acute respiratory syndrome coronavirus-2 (SARS...  "
      ]
     },
     "execution_count": 3,
     "metadata": {},
     "output_type": "execute_result"
    }
   ],
   "source": [
    "df.head(3)"
   ]
  },
  {
   "cell_type": "code",
   "execution_count": 4,
   "id": "6797153d",
   "metadata": {},
   "outputs": [
    {
     "data": {
      "text/plain": [
       "(24910, 7)"
      ]
     },
     "execution_count": 4,
     "metadata": {},
     "output_type": "execute_result"
    }
   ],
   "source": [
    "df.shape"
   ]
  },
  {
   "cell_type": "code",
   "execution_count": 5,
   "id": "7fc78a84",
   "metadata": {},
   "outputs": [
    {
     "data": {
      "text/plain": [
       "sha                0\n",
       "title              0\n",
       "abstract        3067\n",
       "publish_time       0\n",
       "authors          218\n",
       "url                0\n",
       "body_text          0\n",
       "dtype: int64"
      ]
     },
     "execution_count": 5,
     "metadata": {},
     "output_type": "execute_result"
    }
   ],
   "source": [
    "df.isnull().sum()"
   ]
  },
  {
   "cell_type": "code",
   "execution_count": 6,
   "id": "ba82a8e1",
   "metadata": {},
   "outputs": [],
   "source": [
    "df.dropna(inplace=True)"
   ]
  },
  {
   "cell_type": "code",
   "execution_count": 7,
   "id": "6a2f8d37",
   "metadata": {},
   "outputs": [
    {
     "data": {
      "text/plain": [
       "sha             0\n",
       "title           0\n",
       "abstract        0\n",
       "publish_time    0\n",
       "authors         0\n",
       "url             0\n",
       "body_text       0\n",
       "dtype: int64"
      ]
     },
     "execution_count": 7,
     "metadata": {},
     "output_type": "execute_result"
    }
   ],
   "source": [
    "df.isnull().sum()"
   ]
  },
  {
   "cell_type": "code",
   "execution_count": 8,
   "id": "8c56a086",
   "metadata": {},
   "outputs": [],
   "source": [
    "# Convert files to dicts\n",
    "# You can optionally supply a cleaning function that is applied to each doc (e.g. to remove footers)\n",
    "# It must take a str as input, and return a str.\n",
    "dicts = df.to_dict('records')"
   ]
  },
  {
   "cell_type": "code",
   "execution_count": 9,
   "id": "d872ce91",
   "metadata": {},
   "outputs": [],
   "source": [
    "#dicts[3]"
   ]
  },
  {
   "cell_type": "code",
   "execution_count": 10,
   "id": "ef9bb887",
   "metadata": {},
   "outputs": [
    {
     "data": {
      "text/plain": [
       "'fa5968c0d0290201f8eb1ca2eaf98181ae6a7a6f'"
      ]
     },
     "execution_count": 10,
     "metadata": {},
     "output_type": "execute_result"
    }
   ],
   "source": [
    "dicts[3][\"sha\"]"
   ]
  },
  {
   "cell_type": "code",
   "execution_count": 11,
   "id": "cc510102",
   "metadata": {},
   "outputs": [
    {
     "data": {
      "text/plain": [
       "'Mechanical Ventilator Parameter Estimation for Lung Health through Machine Learning'"
      ]
     },
     "execution_count": 11,
     "metadata": {},
     "output_type": "execute_result"
    }
   ],
   "source": [
    "dicts[3][\"title\"]"
   ]
  },
  {
   "cell_type": "code",
   "execution_count": 12,
   "id": "a4270d49",
   "metadata": {},
   "outputs": [
    {
     "data": {
      "text/plain": [
       "'In a healthy person, spontaneous breaths are normally generated when respiratory muscles contract, pull the pleura, and create a negative intrapleural pressure, allowing airflow into the lungs (negative pressure ventilation). During this process, oxygen is exchanged for CO2 in the alveoli. Patients suffering from respiratory failures, such as from congestive heart failure, COPD (chronic obstructive pulmonary disease), pneumonia, ARDS, and recently COVID-19 [1,2,3,4,5], or patients with ventilatory failures, such as those resulting from central or peripheral neurologic or muscular dysfunction, may require external mechanical ventilatory support.$$$COVID-19 is a rapidly changing condition, and very little has been researched so far in 2021 on the practice of deciding ventilation parameters for different patients and conditions [3]. Additionally, it is also understood to be challenging to determine when to intubate and mechanically ventilate a hospitalized patient [2,5]. Many discrepancies have been reported in COVID-19 ICU and ventilator management studies due to regional and temporal variations [4]. This emphasizes the need for comprehensive research focused mainly on developing mechanical ventilator parameter tuning methods accommodating the patient response.$$$In most cases, a compromise in respiratory process would either lead to hypercapnia (hypoventilation), with elevated CO2 in the blood, or hypoxemia, with abnormally low blood oxygen level. External support to these patients is provided through positive mechanical ventilation until their condition improves and they are weaned off the machines [6]. The most common modes of mechanical ventilation used are pressure and volume controlled [7]. In volume-controlled ventilation (VCV), tidal volume is set at a constant value, while inspiratory pressure is a dependent variable. In VCV, inspiratory flow and waveform parameters are set by the clinicians, and the system responds to reduced compliance and active inhalation by increasing pressure, which might also increase the risk for lung injuries.$$$Similarly, in pressure-controlled ventilation (PCV), the pressure is the set variable, and tidal volume is a dependent variable. In order to mitigate the risk, running the ventilator in a PCV mode can limit the maximum airway pressure but can alter the tidal flow volume and waveform patterns, reducing the effectiveness of ventilation. Campbell et al. [8] presented a comparison between VCV and PCV modes and recommended using hybrid dual-control modes. Other ventilation modes include synchronized intermittent mandatory ventilation (SIMV), where the patient-initiated breath is detected, and a required preset volume or pressure is delivered. This mode helps patients to wean off the ventilator by allowing spontaneous breaths in between ventilator-administered mandatory breaths. Similar to SIMV, pressure support ventilation (PSV) also provides support by delivering a preset pressure to the patient for every patient-initiated breath that exceeds the inspiratory trigger value. The PSV pressure can be different from the mandatory breath pressure and vary with the patient’s needs.$$$Modern mechanical ventilators allow clinicians to adjust a variety of parameters along with the mode of operation according to patient’s condition [9]. Respiratory rate (RR) parameters regulate the mandatory breathing rate per minute (also called SetRR), and ActRR is the sum of mandatory breaths and additional patient-initiated breaths. The percentage of inspired oxygen can be set from room air (∼21%) to 100%. The SetP parameter regulates the air pressure to be delivered to the patient in PCV, and a peak value can also be set. The total pressure, peak inspiratory pressure (PIP), is the sum of the airway pressures PEEP and SetP. In addition, a set constant positive end-expiratory pressure (PEEP) can be provided by the ventilator during exhalation to help prevent alveolar collapse between breaths.$$$The patient’s observed heart rate, blood pressure, temperature, blood oxygen level (SpO2); the concentration of carbon dioxide at the end of the exhaled breath (EtCO2); and inspiratory tidal volume (Vti) are among the commonly observed response parameters. In addition to these, the dynamic compliance (Cdyn) parameter measures the distensibility of lungs [9], which is computed by,\\n(1)Cdyn=VtiPIP−PEEP$$$Every patient is different, and treating them will require a different degree of understanding and control of the ventilator settings. The proper selection of ventilation modes and parameters is crucial for optimal treatment, a complex process requiring a high level of expertise from the clinicians. The challenge is in creating a specific model with a diffuse set of patients and conditions [3], and evidence-based practice can support accurate parameter estimations for optimal, errorless, and low-cost treatments. Ervin et al. [10] review these evidence-based approaches for optimizing invasive mechanical ventilation use (IMV) for acute respiratory distress syndrome (ARDS).$$$Recently, the use of AI and machine learning-based decision support approaches combined with evidence-based practices has grown, leading to better patient management and treatment [11,12,13]. Many models applying artificial neural networks (ANNs) have been proposed in establishing a relationship between the MV parameters and patient outcomes. Akbulut et al. [14] proposed a model for estimating frequency, tidal volume, and FiO2 outputs of a ventilator and a classification model capable of deciding the pressure and volume control modes using artificial neural networks (ANN). A disease detection Bayesian forecast model was applied to the data to detect disease type before applying ANN in the second-stage system. Their proposed ANN model uses the diagnosed disease type from stage one (Bayesian forecast), core body temperature, heart rate, blood pressure, PEEP, SpO2, pH, EtCO2, and bicarbonate data as input features. Frequency, Vti, FiO2, and the pressure/volume support value are the predictions. The proposed model showed accuracies of 95% in predicting FiO2 values in real-time.$$$A previous study in this area by Nelson et al. focuses on a fuzzy-based control method Nelson et al. [15] uses the patient and heuristics data obtained from clinician’s experience. These data are combined with control principles to adjust the respiratory rates. The designed fuzzy logic controllers performed well on simulated-patient scenarios emulating the decisions of an experienced clinician. Tehrani et al. [16] presented a novel model for tuning the parameters for optimal blood gas regulation, minimizing the breathing work rate, and increasing the weaning rate of the ventilators.$$$Further, Kwong et al. [17] reviewed various computational intelligence and machine learning techniques applied on predicting and guiding the weaning process in patients. They argued that model-based systems are prone to sub-optimal outcomes due to their dependence on assumptions and, hence, prescribed machine learning-based models for ventilator control. The study further investigated the performance of nine different models proposed in the literature and ranked them based on a set of appraisal points. Their study included Giraldo et al.’s [18] work on Support Vector Machines (SVM) and ANN classification [19] approaches for weaning trials in patients. Along the same lines, we introduce an inverse mapping technique on ANNs for parameter estimation with the Graded Particle Swarm Optimizer (GPSO) in the feedback loop.$$$The remainder of this paper is organized as follows: In Section 2, we present our machine learning model based on inverse mapping of neural networks and introduce the GPSO algorithm followed by an outline of our prediction model. In Section 3, we introduce the data utilized for our analysis, followed by pruning and ANN training methods. Section 4, presents the analysis results, followed by conclusions in Section 6.$$$Artificial Neural Networks are statistical models for establishing non-linear relations between input and output data [20,21]. Hence, for a given set of observations with Y inputs and X outputs, an ANN can be trained to map a relationship between Y and X. Inverse mapping of neural networks (IANN) is a procedure conducted to obtain the correct input parameter values for a pre-trained ANN and a set of known outputs. An optimizer is applied to correct the input for the network iteratively until the output converges with the targets with minimal errors. This is widely used in many engineering applications, especially in manipulator inverse kinematics [22,23,24], sensor measurements [25], and structural integrity analysis [26]. Our current work used a population-based optimization algorithm in the feedback loop, which corrects and estimates the setting values given as inputs to the ANNs for the desired output (true observations). We applied a novel variant of particle swarm optimization (PSO) [27], the Graded Particle Swarm Optimizer (GPSO) proposed by Sanjay et al. [28]. An outline schematic of the inverse mapping model used in our current informatics model is presented in Figure 1.$$$Our current goal is to predict a range of possible values for mechanical ventilator settings for a given patient condition. Initially, a neural network is trained in the forward direction, i.e., the mechanical ventilator parameters as inputs and patient condition/observations as predictions or outputs. After deriving a well-trained network, it is used as a model for the system in the test phase. During this phase, the optimizer starts with a random value combination of ventilator settings as inputs to the ANN. The ANN generates a prediction for a patient condition that is compared against the true observations, and an error value is computed for the optimizer. The optimizer adjusts the inputs iteratively and terminates when the error converges or after meeting a certain criterion. As the modeled function (ANN) here is a highly non-linear and multi-dimensional function, a heuristic-based optimizer is preferred [29]. However, it must be noted that heuristic or search-based optimizer (like PSO [27]) may not generate the same value combination every time the process is initiated for the same patient condition. Hence, during the test phase, we provide the patient condition as input and expect the model to generate multiple possible combinations of ventilator parameter settings.$$$This is similar to an inverse kinematics problem, in which for reaching a certain position in space by the end effector, there can be multiple solutions for joint parameters [30]. Providing a range of values for a parameter can help support decision-making by the clinicians, instead of a single value generated by an ANN trained directly, i.e., with the patient condition as input and ventilator settings as output.$$$Ever since the introduction of Particle Swarm Optimization (PSO) by Kennedy and Eberhart [27], it has found many applications in the areas of control systems [31], signal processing [32,33], and machine learning [34,35,36], as well as where ever a complex, non-linear optimization is involved. PSO works on a real number space, and is quicker and easy to implement when compared with other swarm and computational intelligence (CI) techniques. However, the convergence at global optima is not guaranteed for all complex fitness functions, which also is true for the other CI techniques.$$$The general position and velocity update equations for each particle are as per Equations (2) and (3). Moreover, a widely used variant of PSO with an additional momentum factor ω is included in the equations.\\n(2)vt+1(i)=ω·vt(i)+r1·c1·(pbestt(i)−xt(i))+r2·c2·(gbestt−xt(i))\\n(3)xt+1(i)=xt(i)+vt+1(i)\\nwhere vi(t) and xi(t) are the velocity and position values of the i-th particle during the t-th iteration, respectively. r1,r2 are random numbers, and c1,c2 are constants governing the personal and global influence on a particle. In every iteration, gbest is computed for the position of the leader selected on the basis of the fitness value generated by a fitness function (best value), and pbest is the best known position the particle visited until then. A higher c2 value than c1 has a greater influence of the leader on the particle than on its personal best.$$$PSO is known to get stuck at local optima applied on complex functions [37,38]. In order to improve the performance further, many variants were proposed over the past decade, which also focus on achieving quicker and higher probability of convergence in addition to achieving the optima [39,40]. Recent variants include a sub-population swarm strategy proposed by Wei Der Chang et al. [41], which involves individual groups searching for local optimum in a divided search space. Yen et al. [42] proposed particle exchange between sub-groups after a fixed number of iterations. Another recent variant, the club-based PSO [43], maintains a dynamic membership strategy by grouping and regrouping of particles based on their relative performance. We use a similar variant, the Gradient Particle Swarm Optimizer (GPSO) [28], in our current work.$$$The Graded Particle Swarm Optimizer (GPSO), in contrast to regular PSO, equally divides the swarm into ‘N-groups’, and a hierarchical group (N + 1) is generated with all the group leaders combined. The best in the group is called a universal leader. The GPSO is a modified form of PSO, where the hierarchical leader group’s effect is defined by the additional universal leader term in the velocity update, as shown in Equation (4).\\n(4)vt+1(i)=ω·vt(i)+r1·c1·(pbestt(i)−xt(i))+r2·c2·(gbestt(j)−xt(i))+r3·c3·(ubestt−xt(i))\\nwhere gbestt(j) is the group best or group leader for group j; ubestt is the universal best; r3 is a random number; and c3 is a universal influence constant.$$$For a swarm with all the members in a single group, the group leader and universal leader turn out to be the same, merging the third and fourth terms in Equation (4). Similarly, for a swarm with n-groups and with a single member in each group, the third term turns into zero, with the group’s best being itself. In both these cases, Equation (4) reduces to the regular PSO condition in Equation (2).$$$The GPSO algorithm was tested on standard benchmark functions [28], and it showed a higher probability of convergence, demonstrating its ability to avoid local optima. This is due to other groups’ influence through the universal leader in avoiding local optima when some individuals search for the nearest optimum. This is analogous to three forces acting on the particle, i.e., towards its personal experience, the group’s, best and the universal best. In short, when a group or a particle is trapped at a local optimum, the other better performing groups support its escape and hence avoid premature convergence. An illustration of groups and individuals with vectors acting in 2D on the individual particle is shown in Figure 2.$$$Our current study’s data contained both physical observations and the data logged from the ventilator, which had definite time stamps. However, many missing data fields were identified in the patient observations as they were sporadically recorded. Hence, we used an ANN-based prediction for these missing data points. Multiple ANNs were trained using observations with complete data fields as inputs and the missing fields as output for the data. For example, an observation with a missing data point for Vti was predicted using an ANN trained with Vti as output and the remaining parameters other than Vti as inputs. The predicted missing data points were truncated to the nearest maximum or minimum values computed from the initial data sets. Furthermore, these pruned data were segregated into two sets for our inverse mapping model: the first set included the data for training, validating, and testing ANNs for the forward prediction; the second set was used for testing the inverse mapping process. The selection of data was completely random. A summary of data segregation is presented in Table 1.$$$In order to capture the dynamics of mechanical ventilation settings for different conditions/patients, we trained 200 artificial neural networks, and the top-ten best performers with the least total errors (training + validation + testing) ranging between 3.62×103 and 4.0×103 were selected for inverse mapping. Set pressure (SetP), peak input pressure (PIP), positive end expiratory pressure (PEEP), pressure support ventilation (PSV), respiratory rate (RR), and fraction of inspired oxygen (FiO2) were considered as inputs, while tidal volume (Vti), dynamic compliance (Cdyn), end tidal CO2 (EtCO2), blood oxygen saturation (SpO2), heart rate (HR), blood pressure (BP), and temperature were chosen as output parameters for the model. Each of these NNs was trained with the same data set (ANN generation), as presented in Table 1. However, the training, validation, and testing data sets were randomized for each neural network.$$$NNs with four internal layers with a combination of 8, 16, 14, and 7 nodes in each layer were used in our current study. This configuration was arrived at after performance evaluation of different combinations of networks by comparing their total errors. The final schematic of NNs used for training is presented in Figure 3a. In addition, the top-ten best-performing NNs were selected based on low total errors. The total error data of all the trained networks are presented in the bar graph shown in Figure 3b.$$$Fitness computations are based on the outputs an ANN generates for a given input. The outputs normalized between their limits are compared with the targets, and an MSE as shown in Equation (5) is computed. IANN can be analyzed as a minimization problem where MSE in (5) is minimized by finding the right combinations of inputs for NNs. A summary of the process flow is presented in Figure 4, starting from data acquisition to the pruning, NN training, selection, and inverse mapping processes.\\n(5)MSEn=12∑(OutputNi−TargetNi)2\\nwhere i represents the feature to be predicted.$$$An overview of the inverse mapping model is presented in Figure 4. This inverse mapping computation aims to estimate the inputs for a set of outputs with a pre-trained ANN. For more details, see Pidaparti et al. [26]. We carried out 1000 iterations for parameter estimation using the GPSO on each of the 100 trials, and the top performers in the swarm were selected in each trial. Test trials were performed for varying momentum, cognitive, group, and universal influence factors in the GPSO algorithm. After a preliminary analysis, we selected the parameters as shown in Table 2 for the current inverse mapping problem of identifying mechanical ventilation settings. Moreover, the trials were repeated on each of the top-ten best-performing neural networks, as shown in Figure 3b. The convergence criterion was the limit over the number of iterations or an MSE of less than 0.0001. While carrying out these iterations, two of the inputs—age and weight—were fixed, as these were known beforehand. This reduces the search dimensions of the swarm significantly and predicted the NN outputs more precisely. Moreover, the remaining parameters were kept within the known bounds in the data, i.e., the known minimum and maximum limits to be realistic. Any value out of these bounds was fixed to the nearest minimum or the maximum value of the parameter in every iteration.$$$We used the Deep Learning Toolbox in MATLAB 2021a (The MathWorks Inc., Natick, MA, USA) [47] in combination with programs developed for the GPSO. These simulations were run on a PC with Xeon 16 Cores and 128 GB RAM with 16 agents working in parallel.$$$The typical fitness of the best trials over 1000 iterations for test data sets 1, 2, and 3 is presented in Figure 5. The graphs are for the best performers out of the 100 trials across the best NNs applied on 3 test data sets. Figure 5b best describes the way the GPSO algorithm works towards searching for the optimum from the sudden drop in fitness after a few iterations. This is because of the presence of multiple groups guiding each other, ensuring that the groups are not stuck local optima and thereby avoiding premature convergence.$$$Furthermore, on each of the ten data sets, we computed the maximum, minimum, average, and standard deviation for all the 100 trials, along with the best parameter combinations and their related MSEs. A summary of the results obtained for three test cases is presented in Figure 6.$$$The average parameter values computed across 100 trials and 10 networks are closer to the target values or the values set by the clinician for that patient. This shows that the inverse mapper approach presented in the paper converges to a set of inputs closely resembling the targets. The proposed GPSO also found other combinations of parameters, and, hence, we considered the average of input data across all the trials as possible values of the parameters.$$$In every trial, the model starts with random predictions within a range and keeps adjusting them until the output converges with the target outputs, leading to a different possible combination every time after termination. Hence, the range of values predicted may not be the desired parameter values. This is because the inverse mapper reduces the error between the NN outputs rather than the ventilator inputs, thus directly correlating to the trained NN’s efficiency. Hence, we chose multiple networks as candidates for the forward prediction/fitness evaluation to remove this possible bias.$$$A limitation in the current study was the availability of a good amount of complete data for training the forward models. All the data in the present study were manually recorded, and these readings were taken at random time intervals (not continuous). Furthermore, the readings were specific to a patient’s condition, and the focus was mostly limited to particular parameters, leading to missing data fields. In our current study, the missing data were predicted by different NN models for completeness. This enhanced our data points to a significant number that was sufficient for our current studies. The current model can be applied to human data, and it is expected to demonstrate good confidence values when trained on larger amounts of data.$$$A machine learning model to estimate the mechanical ventilator parameters based on ANN and optimization was developed. After training the ANN with input/output data, the trained networks were used to estimate mechanical ventilation parameters through the inverse mapping technique. A novel GPSO algorithm based on our previous work [28] was adopted as an optimizer in inverse mapping computations. Extensive simulations were carried out to estimate the behavior of the GPSO applied in the feedback loop and for enhancing the model’s performance. The machine learning model was trained and tested using data from canine and feline patients at the University of Georgia College of Veterinary Medicine. Our model successfully generated a range of parameter values for the mechanical ventilation applied on test data, with the average prediction values over multiple trials close to the target values, even though the data sets’ availability was limited.$$$We observed that increasing the number of data points with high percentages of healthy patients can further stabilize the ANNs, as the data utilized for building our model were primarily from unhealthy patients because healthy patients are not usually observed on mechanical ventilators.$$$Overall, the developed machine learning model should be able to predict the mechanical ventilation parameters for various respiratory conditions once the relevant data are available. With the recent COVID-19 pandemic, the machine learning models proposed in this study should be of interest in predicting mechanical ventilation settings for patient survival given their respiratory health conditions.'"
      ]
     },
     "execution_count": 12,
     "metadata": {},
     "output_type": "execute_result"
    }
   ],
   "source": [
    "dicts[3][\"body_text\"]"
   ]
  },
  {
   "cell_type": "markdown",
   "id": "56b3acfb",
   "metadata": {},
   "source": [
    "### \n",
    "from haystack.document_stores import ElasticsearchDocumentStore\n",
    "\n",
    "\n",
    "\n",
    "document_store = ElasticsearchDocumentStore()\n",
    "\n",
    "\n",
    "documents = [\n",
    "    Document(\n",
    "    \n",
    "      'content'=DOCUMENT_TEXT_HERE\n",
    "      \n",
    "      'meta'={'name': DOCUMENT_NAME, ...}\n",
    "      \n",
    "    ),\n",
    "    ...\n",
    "]\n",
    "\n",
    "\n",
    "\n",
    "document_store.write_documents(dicts)"
   ]
  },
  {
   "cell_type": "code",
   "execution_count": 13,
   "id": "712338f7",
   "metadata": {},
   "outputs": [
    {
     "name": "stderr",
     "output_type": "stream",
     "text": [
      "/Users/abaygi/miniforge3/envs/mywebscrpenv/lib/python3.8/site-packages/elasticsearch/connection/base.py:200: ElasticsearchWarning: Elasticsearch built-in security features are not enabled. Without authentication, your cluster could be accessible to anyone. See https://www.elastic.co/guide/en/elasticsearch/reference/7.14/security-minimal-setup.html to enable security.\n",
      "  warnings.warn(message, category=ElasticsearchWarning)\n"
     ]
    }
   ],
   "source": [
    "final_dicts = []\n",
    "for each in dicts:\n",
    "    tmp = {}\n",
    "    if each is not None:\n",
    "        tmp['content'] = each.pop('body_text')\n",
    "        tmp['meta'] = each\n",
    "    final_dicts.append(tmp)\n",
    "\n",
    "document_store.write_documents(final_dicts)"
   ]
  },
  {
   "cell_type": "code",
   "execution_count": null,
   "id": "c7608cc8",
   "metadata": {},
   "outputs": [],
   "source": []
  },
  {
   "cell_type": "code",
   "execution_count": 14,
   "id": "8f9a417c",
   "metadata": {},
   "outputs": [
    {
     "data": {
      "text/plain": [
       "{'content': '\\nWe obtained a density difference (ground-glass opacities minus visually unaffected tissue) of 252 HU (p < 0.001).The maximum diagnostic automatic tube current modulation index for SUREExposure 3D was 36.A dose-length product reduction by 80% was obtained, and clinical validation is needed.$$$On March 11, 2020, the World Health Organization declared the COVID-19 pandemic [1]. Computed tomography (CT) plays a vital role in diagnosing COVID-19, especially at the early stages. This is also true for the monitoring of disease progression and possible complications [2].$$$Typical manifestations of COVID-19 are ground-glass opacities (GGO) in the posterior and peripheral lung regions on CT [3, 4], often the first and only finding indicating COVID-19 [5].$$$The United States Center for Disease Control, the American College of Radiology (ACR), and the Royal College of Radiologists in the UK expressed caution regarding the broader use of chest CT for initial examination [6–8]. The World Health Organization published guidelines for the use of chest imaging for COVID-19, advocating the use of low-dose protocols in adults [9]. Moreover, the International Atomic Energy Agency organised a survey and a webinar to discuss CT practice and protocol optimisation for COVID-19. The resulting paper encourages using a low-dose protocol for chest CT [10]. This approach is consistent with the basic radiation protection principle of optimisation, keeping the exposure to the minimum necessary to achieve the required diagnostic objective [11].$$$There are currently several studies addressing the use of low-dose CT protocols in patients with known or suspected COVID-19. Kang et al. designed an imaging protocol with a volume CT dose index (CTDIvol) of 0.4 mGy versus standard-dose protocol at 3.4 mGy [12]. To achieve this, instead of the standard 120 kVp, they used lower tube voltage with a tin filter and iterative reconstruction (IR). There are no studies on developing low-dose protocols for CT scanners without IR algorithms, which are still widely available to our best knowledge.$$$This phantom study aimed to optimise the settings of the automatic exposure tube current modulation system of a scanner without IR algorithms and find the lowest tube current, below which scanner may cease to deliver meaningful findings in patients with COVID-19.$$$We used an anthropomorphic phantom РН-1 Multipurpose Chest Phantom N1 (Kyotokagaku, Japan) measuring 43 × 40 × 48 cm, chest girth 94 cm, and adapter plates to achieve equivalency to a patient with a body mass index of 29.$$$A standard protocol for chest CT provided by the vendor was used. Both default and low-dose CT studies utilised the same data acquisition parameters, except for the SUREExposure 3D settings. This technology maintains automatic tube current modulation within 10–500 mA along the entire scanning region, with the 25 SD settings at the default 5.0-mm slice thickness: 10 (default), 12, 14, 16, 18, 20, 22, 24, 26, 28, 30, 32, 34, 36, 38, 40, 42, 44, 46, 48, 50, 54, 58, 62, and 68. All other scanning parameters were kept unchanged: 120 kVp, rotation time 0.5 s, direction out (craniocaudal), XY modulation on, collimation 64 × 0.5 mm, scan time 6 s, and acquired dose parameters: CTDIvol in mGy and dose-length product (DLP) in mGy⋅cm.$$$Reconstructed images for standard and low-dose CT were identical (three reconstructions per CT scan):\\nTo calibrate SUREExposure 3D: matrix 512 × 512, D-FOV 350 mm, length 300 mm, reconstruction image filter FBP QDS+, reconstruction kernel FC07 (soft tissues), thickness 5.0 mm, increment 5.0 mm, and images 60Matrix 512 × 512; D-FOV 350 mm, length 300 mm, reconstruction image filter FBP QDS+, reconstruction kernel FC07 (soft tissues), thickness 1.0 mm, increment 1.0 mm, and images 300Similar to number 2, except for the different reconstruction kernel FC51 (sharp kernel, lungs)$$$We used the RadiAnt DICOM Viewer 5.5.1 (Medixant, Poznan, Poland), OsiriX 10.0 Lite (Pixmeo SARL, Geneva, Switzerland), and Syngo.via VB20 (SIEMENS Healthineers, Erlangen, Germany). From each scan, we measured the SD values for regions of interest (ROIs) of 1 cm2 at the vertebral level Th11–Th12 (Fig. 1).\\n$$$The image acquisition and data analysis for the phantom study were performed by a radiologist with 10 years of experience.$$$We performed a retrospective evaluation of the chest CT images obtained using the same scanner in an outpatient setting in patients with early symptoms of COVID-19. The COVID-19 was verified with a reverse-transcription polymerase chain reaction. This retrospective study, according to our regional regulations in outpatient departments, did not require ethical committee approval. We reviewed the examinations of male and female patients with age ≥ 18 years referred for chest CT by their attending physicians due to suspected community-acquired pneumonia. The inclusion criteria were as follows: a referral for chest CT with suspected pneumonia, the presence of ground-glass opacities (GGO), positive reverse-transcription polymerase chain reaction, and body mass index between 25 and 30. The exclusion criteria were as follows: age < 18 years, pregnancy or breastfeeding, implants or foreign objects in the scan area, recent chest surgery, known malignancy, and motion artifacts.$$$The standard CT studies were obtained with SUREExposure 3D noise index 10 for 5.0-mm image thickness. CT scans were obtained at the end of full inspiration, with patient’s arms outside the scan field, no intravenous contrast administration, and no electrocardiographic gating. CT reconstruction was performed at 1.0-mm thickness and 0.8-mm interval with kernels FC07 (soft tissues) and FC51 (sharp kernel, lungs).$$$The Unified Radiological Information Service (URIS) powered by AGFA HealthCare Enterprise Imaging (Agfa-Gevaert Group, Mortsel, Belgium), Syngo.via VB20 (SIEMENS Healthineers, Erlangen, Germany), and OsiriX 10.0 Lite (Pixmeo SARL, Geneva, Switzerland) were used for density measurements. ROI did not exceed 1 cm2 and did not include the vessels, bronchi, consolidation, and emphysema. For every patient, we measured five ROIs of GGO and five ROIs of visually unaffected tissue. The density was evaluated using 1.0-mm thickness and kernel FC51 (sharp kernel, lungs). Image analysis was performed by the radiologist with 10 years of experience.$$$The retrospective phase provided data on the minimal difference between the average density of GGO and unaffected tissue. We matched the SD values from the retrospective phase and available phantom SUREExposure 3D data in the third phase.$$$Descriptive statistics were used to report the main results; t test was applied to compare the densities of GGO regions and visually unaffected tissue. All the analyses were performed with the Stata14 software at the two-sided significance level of 0.05.$$$The roadmap and the main study parameters are summarised in Fig. 2.\\n$$$For each image, five SD measurements were performed per lung with FC51 kernel, and the average value was used for further analysis. The average SD, CTDI, and DLP values are shown in Fig. 3. A total of 250 measurements were obtained for 25 noise levels (Fig. 3).\\n$$$In phase II, we analysed the clinical chest CT images of 22 patients with verified early COVID-19. The average density was assessed with ten measurements for each patient: five for GGO regions and five for visually unaffected tissue. The total number of measurements for the FC51 convolution kernel was 220. The statistical analysis of average density in HU, SD, and 95% confidence interval for the GGO and visually unaffected tissue is presented in Table 1.\\n$$$The minimum difference in density was 252 HU (95% confidence interval 252–349), p < 0.001 (Table 1). This value was used to define the threshold noise index in phase III.$$$Phase III was focused on determining the SUREExposure 3D threshold (at 5.0-mm thickness), above which the difference between the GGO regions and visually unaffected tissue with FC51 kernel in patients with early COVID-19 would be imperceptible. Using the threshold of −252 HU obtained in phase II, this corresponds to a SUREExposure 3D noise index of 36 (at 5.0-mm thickness). This noise allowed decreasing radiation exposure by 80% to CTDI 6.8 mGy and DLP 198.2 mGy cm.$$$This study presents an approach to applying automatic tube current modulation at SUREExposure 3D noise index 36 (at 5.0-mm thickness) for FBP CT reconstruction, the lung kernel, and 1.0-mm thickness to determine the presence of GGO in basal lung regions at the Th11–Th12 vertebral level in patients with body mass index 29 suspected for COVID-19.$$$The study by Sakane et al. [14] evaluating the biological effects of low-dose chest CT demonstrated statistically significant deoxyribonucleic acid damages with standard 5.0-mSv CT compared to low-dose 1.5-mSv CT. This supports the need to develop low-dose protocols since the COVID-19 pandemic leads to more people, including the younger population, being exposed to radiation from CT scans, some of them getting repeated scans to monitor the disease progression. Simultaneously, there is a reason to believe that CT is beneficial in patients with clinically suspected or known COVID-19 in a resource-constrained environment [10].$$$Kalra et al. [10] demonstrated low-dose protocols for evaluating COVID-19 using flagship tomography scanners with IR from various manufacturers. Another study by Kang et al. [12] presented a COVID-19 protocol for a state-of-the-art scanner with iterative reconstruction algorithms. The protocol lowers the dose down to 0.203 mSv, which is only 1/8 of the standard protocols. However, one must keep in mind that the availability of top-tier scanners is limited in many settings. This motivated us to perform our study to find a potential for dose reduction for scanners with FBP reconstruction algorithm [15].$$$The histology of lesions typical for COVID-19 is very much different from those typical for other viral infections because the former comes with prominent endothelial injuries and widespread thrombosis and microangiopathy [16]. For this reason, we believe that phantom studies with tailored CT protocols can contribute to the early detection of lesions in the most affected areas. The Th11–Th12 vertebral level combines high noise level and typical lesion localisation in COVID-19 [3]. The new low-dose CT protocols should allow us to distinguish GGO even at the very onset of disease.$$$For this reason, it is recommended to consider the early phase of the disease when developing a new low-dose protocol [5]. Yu et al. [17] evaluated the average density of lung involvement in early COVID-19 (0–3 days) as 462 ± 99 HU. The peak density was registered between −500 and −700 HU on the density histogram. These findings are similar to the data observed in our retrospective study of patients managed in outpatient facilities. A prospective study by Schulze-Hagen et al. [18] demonstrated the accuracy of systematic low-dose chest computed tomography in the diagnosis of COVID-19 in patients with unspecific clinical symptoms with 94.7% sensitivity, 91.4% specificity, and 0.959 area under the curve. The average radiation exposure was about 1.7 mSv for a 75-kg patient.$$$The phantom and retrospective phases of our study utilised the 1.0-mm thickness because the ACR establishes a 1.5-mm limit for high-resolution CT [19]. Our study was not aimed towards justifying using the lung kernel, although there are certain doubts regarding whether various kernels are suitable for lung assessment. However, we decided to opt for the lung kernel for lung tissue assessment since it is recommended by the Fleischner Society [20].$$$This study has several limitations. First, considering the phantom phase, the findings need to be validated in a prospective clinical study. Second, clinical image reading during phase II was performed only by a single radiologist, which might have introduced bias, even though the high number of measurements could have reduced the possible bias. Third, the LungMan N1 anthropometric phantom has no way to adjust the inhale depth that affects visually unaffected tissue density.$$$We plan to extend this phantom study to a clinical validation in the form of a prospective transversal multireader study comparing chest CT performed with routine protocols and that performed with the proposed low-dose protocol in patients suspected to be affected with COVID-19.$$$In conclusion, we determined the automatic exposure control threshold for ground-glass opacity imaging in early COVID-19. A proposed low-dose protocol with a decrease in the dose-length product by 80% is promising for COVID-19 diagnostics. Further clinical studies are needed to validate the protocol.',\n",
       " 'meta': {'sha': '41ed6b3014e89604b351c095571c45056ba12c37',\n",
       "  'title': 'A phantom study to optimise the automatic tube current modulation for chest CT in COVID-19',\n",
       "  'abstract': 'On March 11, 2020, the World Health Organization declared the coronavirus disease 2019 (COVID-19) pandemic. The expert organisations recommend more cautious use of thoracic computed tomography (CT), opting for low-dose protocols. We aimed at determining a threshold value of automatic tube current modulation noise index below which there is a chance to miss an onset of ground-glass opacities (GGO) in COVID-19. A team of radiologists and medical physicists performed 25 phantom CT studies using different automatic tube current modulation settings ((SURE)Exposure3D technology). We then conducted a retrospective evaluation of the chest CT images from 22 patients with COVID-19 and calculated the density difference between the GGO and unaffected tissue. Finally, the results were matched to the phantom study results to determine the minimum noise index threshold value. The minimum density difference at the onset of COVID-19 was 252 HU (p < 0.001). This was found to correspond to the (SURE)Exposure 3D noise index of 36. We established the noise index threshold of 36 for the Canon scanner without iterative reconstructions, allowing for a decrease in the dose-length product by 80%. The proposed protocol needs to be validated in a prospective study.',\n",
       "  'publish_time': '2021-05-28',\n",
       "  'authors': 'Gombolevskiy, Victor; Morozov, Sergey; Chernina, Valeria; Blokhin, Ivan; Vassileva, Jenia',\n",
       "  'url': 'https://doi.org/10.1186/s41747-021-00218-0; https://www.ncbi.nlm.nih.gov/pubmed/34046737/'}}"
      ]
     },
     "execution_count": 14,
     "metadata": {},
     "output_type": "execute_result"
    }
   ],
   "source": [
    "final_dicts[0]"
   ]
  },
  {
   "cell_type": "code",
   "execution_count": null,
   "id": "99241d43",
   "metadata": {},
   "outputs": [],
   "source": [
    "#document_store.write_documents(final_dicts)"
   ]
  },
  {
   "cell_type": "code",
   "execution_count": null,
   "id": "e4356ae8",
   "metadata": {},
   "outputs": [],
   "source": [
    "test_dicts = [ {\n",
    "        'content': \"hi\",\n",
    "        'meta': {'name': \"DOCUMENT_NAME\"}\n",
    "    }]"
   ]
  },
  {
   "cell_type": "code",
   "execution_count": null,
   "id": "3f5d04e6",
   "metadata": {},
   "outputs": [],
   "source": [
    "#document_store.write_documents(test_dicts)"
   ]
  },
  {
   "cell_type": "code",
   "execution_count": null,
   "id": "c2824d5e",
   "metadata": {},
   "outputs": [],
   "source": [
    "document_store.get_document_count()"
   ]
  },
  {
   "cell_type": "code",
   "execution_count": null,
   "id": "c5b410e3",
   "metadata": {},
   "outputs": [],
   "source": [
    "#document_store.query(\"covid symptoms\")"
   ]
  },
  {
   "cell_type": "code",
   "execution_count": null,
   "id": "89c04a94",
   "metadata": {},
   "outputs": [],
   "source": [
    "document_store.get_document_by_id(1)"
   ]
  },
  {
   "cell_type": "code",
   "execution_count": 1,
   "id": "5d6348f6",
   "metadata": {},
   "outputs": [
    {
     "name": "stderr",
     "output_type": "stream",
     "text": [
      "/Users/abaygi/miniforge3/envs/mywebscrpenv/lib/python3.8/site-packages/tqdm/auto.py:22: TqdmWarning: IProgress not found. Please update jupyter and ipywidgets. See https://ipywidgets.readthedocs.io/en/stable/user_install.html\n",
      "  from .autonotebook import tqdm as notebook_tqdm\n"
     ]
    }
   ],
   "source": [
    "################################################################################\n",
    "from fastapi import FastAPI\n",
    "from pydantic import BaseModel\n",
    "\n",
    "from haystack.document_stores import ElasticsearchDocumentStore\n",
    "import os\n",
    "from haystack.pipelines import ExtractiveQAPipeline\n",
    "from haystack.nodes import FARMReader\n",
    "from haystack.nodes import BM25Retriever"
   ]
  },
  {
   "cell_type": "code",
   "execution_count": 2,
   "id": "38338db3",
   "metadata": {},
   "outputs": [],
   "source": [
    "ELASTIC_SEARCH_HOST =  os.environ.get('es_ip', 'localhost')\n",
    "ELASTIC_SEARCH_PORT =  os.environ.get('es_port', 9200)"
   ]
  },
  {
   "cell_type": "code",
   "execution_count": 3,
   "id": "754a382f",
   "metadata": {},
   "outputs": [
    {
     "data": {
      "text/plain": [
       "'localhost'"
      ]
     },
     "execution_count": 3,
     "metadata": {},
     "output_type": "execute_result"
    }
   ],
   "source": [
    "ELASTIC_SEARCH_HOST"
   ]
  },
  {
   "cell_type": "code",
   "execution_count": 4,
   "id": "844b4eda",
   "metadata": {},
   "outputs": [
    {
     "name": "stderr",
     "output_type": "stream",
     "text": [
      "/Users/abaygi/miniforge3/envs/mywebscrpenv/lib/python3.8/site-packages/elasticsearch/connection/base.py:200: ElasticsearchWarning: Elasticsearch built-in security features are not enabled. Without authentication, your cluster could be accessible to anyone. See https://www.elastic.co/guide/en/elasticsearch/reference/7.14/security-minimal-setup.html to enable security.\n",
      "  warnings.warn(message, category=ElasticsearchWarning)\n"
     ]
    }
   ],
   "source": [
    "#docker run -p 9200:9200 -e \"discovery.type=single-node\" docker.elastic.co/elasticsearch/elasticsearch:7.14.2\n",
    "document_store = ElasticsearchDocumentStore(host=ELASTIC_SEARCH_HOST,\n",
    "                                            port=ELASTIC_SEARCH_PORT,\n",
    "                                            username=\"\", \n",
    "                                            password=\"\",\n",
    "                                            index=\"document\")\n",
    "\n"
   ]
  },
  {
   "cell_type": "code",
   "execution_count": 6,
   "id": "47c4bce9",
   "metadata": {},
   "outputs": [
    {
     "name": "stderr",
     "output_type": "stream",
     "text": [
      "/Users/abaygi/miniforge3/envs/mywebscrpenv/lib/python3.8/site-packages/elasticsearch/connection/base.py:200: ElasticsearchWarning: Elasticsearch built-in security features are not enabled. Without authentication, your cluster could be accessible to anyone. See https://www.elastic.co/guide/en/elasticsearch/reference/7.14/security-minimal-setup.html to enable security.\n",
      "  warnings.warn(message, category=ElasticsearchWarning)\n"
     ]
    },
    {
     "data": {
      "text/plain": [
       "[]"
      ]
     },
     "execution_count": 6,
     "metadata": {},
     "output_type": "execute_result"
    }
   ],
   "source": [
    "document_store.get_all_documents()"
   ]
  },
  {
   "cell_type": "code",
   "execution_count": 5,
   "id": "720e217d",
   "metadata": {},
   "outputs": [
    {
     "data": {
      "text/plain": [
       "0"
      ]
     },
     "execution_count": 5,
     "metadata": {},
     "output_type": "execute_result"
    }
   ],
   "source": [
    "document_store.get_document_count()"
   ]
  },
  {
   "cell_type": "code",
   "execution_count": null,
   "id": "468d7521",
   "metadata": {},
   "outputs": [],
   "source": [
    "retriever = BM25Retriever(document_store=document_store)\n",
    "reader = FARMReader(model_name_or_path=\"deepset/roberta-base-squad2-covid\", use_gpu=False)\n",
    "pipe = ExtractiveQAPipeline(reader, retriever)"
   ]
  },
  {
   "cell_type": "code",
   "execution_count": null,
   "id": "ae42c9a0",
   "metadata": {},
   "outputs": [],
   "source": [
    "question = \"what are the symptoms of covid\"\n",
    "k_retriver = 3\n",
    "k_reader = 3\n",
    "prediction = pipe.run(query=question, params={\"Retriever\": {\"top_k\": k_retriver}, \"Reader\": {\"top_k\": k_reader}})\n"
   ]
  },
  {
   "cell_type": "code",
   "execution_count": null,
   "id": "b4ae59fd",
   "metadata": {},
   "outputs": [],
   "source": [
    "prediction"
   ]
  },
  {
   "cell_type": "code",
   "execution_count": null,
   "id": "cdac1cf9",
   "metadata": {},
   "outputs": [],
   "source": [
    "len(prediction[\"answers\"])"
   ]
  },
  {
   "cell_type": "code",
   "execution_count": null,
   "id": "03d2b602",
   "metadata": {},
   "outputs": [],
   "source": [
    "prediction[\"answers\"][0]"
   ]
  },
  {
   "cell_type": "code",
   "execution_count": null,
   "id": "38d06157",
   "metadata": {},
   "outputs": [],
   "source": [
    "\n",
    "\n",
    "app = FastAPI()\n",
    "\n",
    "class Queobj(BaseModel):\n",
    "    question: str\n",
    "    num_answers: int\n",
    "    num_docs: int\n",
    "\n",
    "\n",
    "@app.post('/query')\n",
    "async def query(que_obj: Queobj):\n",
    "    question = que_obj.question\n",
    "    k_retriver = que_obj.num_docs\n",
    "    k_reader = que_obj.num_answers\n",
    "    prediction = pipe.run(query=question, top_k_retriever=k_retriver, top_k_reader=k_reader)\n",
    "    return {'answer': prediction}\n",
    "\n",
    "\n",
    "#uvicorn main:app  --port 8080 #http://127.0.0.1:8080/docs"
   ]
  },
  {
   "cell_type": "code",
   "execution_count": null,
   "id": "1d2d364a",
   "metadata": {},
   "outputs": [],
   "source": []
  }
 ],
 "metadata": {
  "kernelspec": {
   "display_name": "Python 3 (ipykernel)",
   "language": "python",
   "name": "python3"
  },
  "language_info": {
   "codemirror_mode": {
    "name": "ipython",
    "version": 3
   },
   "file_extension": ".py",
   "mimetype": "text/x-python",
   "name": "python",
   "nbconvert_exporter": "python",
   "pygments_lexer": "ipython3",
   "version": "3.9.13"
  }
 },
 "nbformat": 4,
 "nbformat_minor": 5
}
