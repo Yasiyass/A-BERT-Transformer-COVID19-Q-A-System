{
 "cells": [
  {
   "cell_type": "markdown",
   "id": "a6b53b6b",
   "metadata": {
    "id": "a6b53b6b"
   },
   "source": [
    "# Getting Started"
   ]
  },
  {
   "cell_type": "markdown",
   "id": "e3b260e6",
   "metadata": {
    "id": "e3b260e6"
   },
   "source": [
    "# Installing and importing Libraries"
   ]
  },
  {
   "cell_type": "code",
   "execution_count": 1,
   "id": "771b0ff9",
   "metadata": {
    "id": "771b0ff9",
    "outputId": "1c429dd4-e042-4cd4-b5b0-527448dd4604"
   },
   "outputs": [],
   "source": [
    "#!pip3 install tqdm==4.62.0\n",
    "#!pip3 install pandas==1.3.1\n",
    "#!pip3 install numpy==1.21.1"
   ]
  },
  {
   "cell_type": "code",
   "execution_count": 1,
   "id": "a7141ff0",
   "metadata": {
    "id": "a7141ff0"
   },
   "outputs": [],
   "source": [
    "import pandas as pd\n",
    "import numpy as np\n",
    "import glob\n",
    "import json\n",
    "import time\n",
    "from tqdm import tqdm"
   ]
  },
  {
   "cell_type": "markdown",
   "id": "e9497679",
   "metadata": {
    "id": "e9497679"
   },
   "source": [
    "# Downloading the covid dataset"
   ]
  },
  {
   "cell_type": "code",
   "execution_count": null,
   "id": "54c4384d",
   "metadata": {
    "id": "54c4384d"
   },
   "outputs": [],
   "source": [
    "#ram 32GB, 4core machine"
   ]
  },
  {
   "cell_type": "code",
   "execution_count": null,
   "id": "b6c21520",
   "metadata": {},
   "outputs": [],
   "source": [
    "#brew install wget"
   ]
  },
  {
   "cell_type": "code",
   "execution_count": 2,
   "id": "307bc53e",
   "metadata": {
    "id": "307bc53e",
    "outputId": "0420832b-7490-4a9e-9cb6-8f79d7ff795b"
   },
   "outputs": [
    {
     "name": "stdout",
     "output_type": "stream",
     "text": [
      "--2022-11-13 11:16:30--  https://ai2-semanticscholar-cord-19.s3-us-west-2.amazonaws.com/historical_releases/cord-19_2021-11-15.tar.gz\n",
      "Resolving ai2-semanticscholar-cord-19.s3-us-west-2.amazonaws.com (ai2-semanticscholar-cord-19.s3-us-west-2.amazonaws.com)... 52.218.221.241, 52.92.176.186, 52.92.130.114, ...\n",
      "Connecting to ai2-semanticscholar-cord-19.s3-us-west-2.amazonaws.com (ai2-semanticscholar-cord-19.s3-us-west-2.amazonaws.com)|52.218.221.241|:443... connected.\n",
      "HTTP request sent, awaiting response... 200 OK\n",
      "Length: 13733025099 (13G) [binary/octet-stream]\n",
      "Saving to: 'cord-19_2021-11-15.tar.gz'\n",
      "\n",
      "cord-19_2021-11-15. 100%[===================>]  12.79G  5.53MB/s    in 39m 8s  \n",
      "\n",
      "2022-11-13 11:55:39 (5.58 MB/s) - 'cord-19_2021-11-15.tar.gz' saved [13733025099/13733025099]\n",
      "\n"
     ]
    }
   ],
   "source": [
    "#full dataset download\n",
    "#https://ai2-semanticscholar-cord-19.s3-us-west-2.amazonaws.com/historical_releases.html\n",
    "#!wget https://ai2-semanticscholar-cord-19.s3-us-west-2.amazonaws.com/historical_releases/cord-19_2021-11-15.tar.gz\n",
    "#this\n",
    "#!wget https://ai2-semanticscholar-cord-19.s3-us-west-2.amazonaws.com/historical_releases/cord-19_2021-01-20.tar.gz"
   ]
  },
  {
   "cell_type": "code",
   "execution_count": 3,
   "id": "95caf36d",
   "metadata": {},
   "outputs": [
    {
     "name": "stdout",
     "output_type": "stream",
     "text": [
      "\u001b[34mData_Preprocessing\u001b[m\u001b[m\r\n",
      "\u001b[34mKBHandler\u001b[m\u001b[m\r\n",
      "\u001b[34mQAHandler\u001b[m\u001b[m\r\n",
      "\u001b[34mUIApp\u001b[m\u001b[m\r\n",
      "cord-19_2021-11-15.tar.gz\r\n",
      "covid_qa_data_preprocessing.ipynb\r\n",
      "deepl-learn-exp2.ipynb\r\n"
     ]
    }
   ],
   "source": [
    "!ls -1h"
   ]
  },
  {
   "cell_type": "code",
   "execution_count": 4,
   "id": "75e7b7fa",
   "metadata": {
    "id": "75e7b7fa"
   },
   "outputs": [],
   "source": [
    "#unzipping the dataset\n",
    "#this one\n",
    "########!tar -xzf cord-19_2021-01-20.tar.gz\n",
    "#!tar -xzf cord-19_2021-11-15.tar.gz"
   ]
  },
  {
   "cell_type": "code",
   "execution_count": 5,
   "id": "479bd21a",
   "metadata": {},
   "outputs": [
    {
     "name": "stdout",
     "output_type": "stream",
     "text": [
      "\u001b[34m2021-11-15\u001b[m\u001b[m                        \u001b[34mUIApp\u001b[m\u001b[m\r\n",
      "\u001b[34mData_Preprocessing\u001b[m\u001b[m                cord-19_2021-11-15.tar.gz\r\n",
      "\u001b[34mKBHandler\u001b[m\u001b[m                         covid_qa_data_preprocessing.ipynb\r\n",
      "\u001b[34mQAHandler\u001b[m\u001b[m                         deepl-learn-exp2.ipynb\r\n"
     ]
    }
   ],
   "source": [
    "!ls"
   ]
  },
  {
   "cell_type": "code",
   "execution_count": 6,
   "id": "555ef2ce",
   "metadata": {},
   "outputs": [
    {
     "name": "stdout",
     "output_type": "stream",
     "text": [
      "changelog\r\n",
      "cord_19_embeddings.tar.gz\r\n",
      "document_parses.tar.gz\r\n",
      "metadata.csv\r\n"
     ]
    }
   ],
   "source": [
    "!ls -1h 2021-11-15"
   ]
  },
  {
   "cell_type": "code",
   "execution_count": 9,
   "id": "28d9e2d1",
   "metadata": {
    "id": "28d9e2d1",
    "outputId": "802bde9e-87b4-4ea6-da52-771cdb71e58a"
   },
   "outputs": [
    {
     "name": "stdout",
     "output_type": "stream",
     "text": [
      "[Errno 2] No such file or directory: '2021-11-15'\n",
      "/Users/yasya/Documents/spiced_projects/sandbox/Nlp_covide_pro/2021-11-15\n"
     ]
    }
   ],
   "source": [
    "#unzipping the pdf and pmc files\n",
    "%cd 2021-11-15\n",
    "#%cd 2021-01-20\n",
    "#!tar -xzf document_parses.tar.gz #==> first unzip and then hashtag out"
   ]
  },
  {
   "cell_type": "code",
   "execution_count": 10,
   "id": "96d986eb",
   "metadata": {},
   "outputs": [
    {
     "name": "stdout",
     "output_type": "stream",
     "text": [
      "\u001b[34mpdf_json\u001b[m\u001b[m \u001b[34mpmc_json\u001b[m\u001b[m\r\n"
     ]
    }
   ],
   "source": [
    "!ls document_parses/"
   ]
  },
  {
   "cell_type": "code",
   "execution_count": 11,
   "id": "48281a43",
   "metadata": {
    "id": "48281a43",
    "outputId": "ff99c934-d56e-4cbf-d714-047f877cbf01"
   },
   "outputs": [
    {
     "name": "stdout",
     "output_type": "stream",
     "text": [
      "/Users/yasya/Documents/spiced_projects/sandbox/Nlp_covide_pro\n"
     ]
    }
   ],
   "source": [
    "%cd .."
   ]
  },
  {
   "cell_type": "markdown",
   "id": "afcd56b3",
   "metadata": {
    "id": "afcd56b3"
   },
   "source": [
    "# Reading Dataset"
   ]
  },
  {
   "cell_type": "code",
   "execution_count": 12,
   "id": "49050c24",
   "metadata": {
    "id": "49050c24"
   },
   "outputs": [],
   "source": [
    "#parent dir for all the dataset\n",
    "input_dir = './2021-11-15'"
   ]
  },
  {
   "cell_type": "code",
   "execution_count": 13,
   "id": "858ffda1",
   "metadata": {},
   "outputs": [
    {
     "name": "stdout",
     "output_type": "stream",
     "text": [
      "\u001b[34m2021-11-15\u001b[m\u001b[m                        \u001b[34mUIApp\u001b[m\u001b[m\r\n",
      "\u001b[34mData_Preprocessing\u001b[m\u001b[m                covid_qa_data_preprocessing.ipynb\r\n",
      "\u001b[34mKBHandler\u001b[m\u001b[m                         deepl-learn-exp2.ipynb\r\n",
      "\u001b[34mQAHandler\u001b[m\u001b[m\r\n"
     ]
    }
   ],
   "source": [
    "!ls"
   ]
  },
  {
   "cell_type": "code",
   "execution_count": null,
   "id": "d4a9437c",
   "metadata": {},
   "outputs": [],
   "source": [
    "name = \"Yas\"\n",
    "#print(f\"hi, \")\n"
   ]
  },
  {
   "cell_type": "code",
   "execution_count": 14,
   "id": "c0ea6f68",
   "metadata": {},
   "outputs": [],
   "source": [
    "metadata_path = f'{input_dir}/metadata.csv'"
   ]
  },
  {
   "cell_type": "code",
   "execution_count": 15,
   "id": "667a37ef",
   "metadata": {},
   "outputs": [
    {
     "data": {
      "text/plain": [
       "'./2021-11-15/metadata.csv'"
      ]
     },
     "execution_count": 15,
     "metadata": {},
     "output_type": "execute_result"
    }
   ],
   "source": [
    "metadata_path"
   ]
  },
  {
   "cell_type": "code",
   "execution_count": 16,
   "id": "cfa6c5ee",
   "metadata": {
    "id": "cfa6c5ee",
    "outputId": "5caa3c74-1be9-4bd3-e4c4-18ba95238794"
   },
   "outputs": [
    {
     "name": "stderr",
     "output_type": "stream",
     "text": [
      "/var/folders/vs/rw4xhk4n0lsgqm3b42pttwjh0000gn/T/ipykernel_2238/2687675489.py:3: DtypeWarning: Columns (1,4,5,13,14,15,16) have mixed types. Specify dtype option on import or set low_memory=False.\n",
      "  metadata = pd.read_csv(metadata_path,\n"
     ]
    },
    {
     "data": {
      "text/html": [
       "<div>\n",
       "<style scoped>\n",
       "    .dataframe tbody tr th:only-of-type {\n",
       "        vertical-align: middle;\n",
       "    }\n",
       "\n",
       "    .dataframe tbody tr th {\n",
       "        vertical-align: top;\n",
       "    }\n",
       "\n",
       "    .dataframe thead th {\n",
       "        text-align: right;\n",
       "    }\n",
       "</style>\n",
       "<table border=\"1\" class=\"dataframe\">\n",
       "  <thead>\n",
       "    <tr style=\"text-align: right;\">\n",
       "      <th></th>\n",
       "      <th>cord_uid</th>\n",
       "      <th>sha</th>\n",
       "      <th>source_x</th>\n",
       "      <th>title</th>\n",
       "      <th>doi</th>\n",
       "      <th>pmcid</th>\n",
       "      <th>pubmed_id</th>\n",
       "      <th>license</th>\n",
       "      <th>abstract</th>\n",
       "      <th>publish_time</th>\n",
       "      <th>authors</th>\n",
       "      <th>journal</th>\n",
       "      <th>mag_id</th>\n",
       "      <th>who_covidence_id</th>\n",
       "      <th>arxiv_id</th>\n",
       "      <th>pdf_json_files</th>\n",
       "      <th>pmc_json_files</th>\n",
       "      <th>url</th>\n",
       "      <th>s2_id</th>\n",
       "    </tr>\n",
       "  </thead>\n",
       "  <tbody>\n",
       "    <tr>\n",
       "      <th>0</th>\n",
       "      <td>ug7v899j</td>\n",
       "      <td>d1aafb70c066a2068b02786f8929fd9c900897fb</td>\n",
       "      <td>PMC</td>\n",
       "      <td>Clinical features of culture-proven Mycoplasma...</td>\n",
       "      <td>10.1186/1471-2334-1-6</td>\n",
       "      <td>PMC35282</td>\n",
       "      <td>11472636</td>\n",
       "      <td>no-cc</td>\n",
       "      <td>OBJECTIVE: This retrospective chart review des...</td>\n",
       "      <td>2001-07-04</td>\n",
       "      <td>Madani, Tariq A; Al-Ghamdi, Aisha A</td>\n",
       "      <td>BMC Infect Dis</td>\n",
       "      <td>NaN</td>\n",
       "      <td>NaN</td>\n",
       "      <td>NaN</td>\n",
       "      <td>document_parses/pdf_json/d1aafb70c066a2068b027...</td>\n",
       "      <td>document_parses/pmc_json/PMC35282.xml.json</td>\n",
       "      <td>https://www.ncbi.nlm.nih.gov/pmc/articles/PMC3...</td>\n",
       "      <td>NaN</td>\n",
       "    </tr>\n",
       "    <tr>\n",
       "      <th>1</th>\n",
       "      <td>02tnwd4m</td>\n",
       "      <td>6b0567729c2143a66d737eb0a2f63f2dce2e5a7d</td>\n",
       "      <td>PMC</td>\n",
       "      <td>Nitric oxide: a pro-inflammatory mediator in l...</td>\n",
       "      <td>10.1186/rr14</td>\n",
       "      <td>PMC59543</td>\n",
       "      <td>11667967</td>\n",
       "      <td>no-cc</td>\n",
       "      <td>Inflammatory diseases of the respiratory tract...</td>\n",
       "      <td>2000-08-15</td>\n",
       "      <td>Vliet, Albert van der; Eiserich, Jason P; Cros...</td>\n",
       "      <td>Respir Res</td>\n",
       "      <td>NaN</td>\n",
       "      <td>NaN</td>\n",
       "      <td>NaN</td>\n",
       "      <td>document_parses/pdf_json/6b0567729c2143a66d737...</td>\n",
       "      <td>document_parses/pmc_json/PMC59543.xml.json</td>\n",
       "      <td>https://www.ncbi.nlm.nih.gov/pmc/articles/PMC5...</td>\n",
       "      <td>NaN</td>\n",
       "    </tr>\n",
       "    <tr>\n",
       "      <th>2</th>\n",
       "      <td>ejv2xln0</td>\n",
       "      <td>06ced00a5fc04215949aa72528f2eeaae1d58927</td>\n",
       "      <td>PMC</td>\n",
       "      <td>Surfactant protein-D and pulmonary host defense</td>\n",
       "      <td>10.1186/rr19</td>\n",
       "      <td>PMC59549</td>\n",
       "      <td>11667972</td>\n",
       "      <td>no-cc</td>\n",
       "      <td>Surfactant protein-D (SP-D) participates in th...</td>\n",
       "      <td>2000-08-25</td>\n",
       "      <td>Crouch, Erika C</td>\n",
       "      <td>Respir Res</td>\n",
       "      <td>NaN</td>\n",
       "      <td>NaN</td>\n",
       "      <td>NaN</td>\n",
       "      <td>document_parses/pdf_json/06ced00a5fc04215949aa...</td>\n",
       "      <td>document_parses/pmc_json/PMC59549.xml.json</td>\n",
       "      <td>https://www.ncbi.nlm.nih.gov/pmc/articles/PMC5...</td>\n",
       "      <td>NaN</td>\n",
       "    </tr>\n",
       "    <tr>\n",
       "      <th>3</th>\n",
       "      <td>2b73a28n</td>\n",
       "      <td>348055649b6b8cf2b9a376498df9bf41f7123605</td>\n",
       "      <td>PMC</td>\n",
       "      <td>Role of endothelin-1 in lung disease</td>\n",
       "      <td>10.1186/rr44</td>\n",
       "      <td>PMC59574</td>\n",
       "      <td>11686871</td>\n",
       "      <td>no-cc</td>\n",
       "      <td>Endothelin-1 (ET-1) is a 21 amino acid peptide...</td>\n",
       "      <td>2001-02-22</td>\n",
       "      <td>Fagan, Karen A; McMurtry, Ivan F; Rodman, David M</td>\n",
       "      <td>Respir Res</td>\n",
       "      <td>NaN</td>\n",
       "      <td>NaN</td>\n",
       "      <td>NaN</td>\n",
       "      <td>document_parses/pdf_json/348055649b6b8cf2b9a37...</td>\n",
       "      <td>document_parses/pmc_json/PMC59574.xml.json</td>\n",
       "      <td>https://www.ncbi.nlm.nih.gov/pmc/articles/PMC5...</td>\n",
       "      <td>NaN</td>\n",
       "    </tr>\n",
       "    <tr>\n",
       "      <th>4</th>\n",
       "      <td>9785vg6d</td>\n",
       "      <td>5f48792a5fa08bed9f56016f4981ae2ca6031b32</td>\n",
       "      <td>PMC</td>\n",
       "      <td>Gene expression in epithelial cells in respons...</td>\n",
       "      <td>10.1186/rr61</td>\n",
       "      <td>PMC59580</td>\n",
       "      <td>11686888</td>\n",
       "      <td>no-cc</td>\n",
       "      <td>Respiratory syncytial virus (RSV) and pneumoni...</td>\n",
       "      <td>2001-05-11</td>\n",
       "      <td>Domachowske, Joseph B; Bonville, Cynthia A; Ro...</td>\n",
       "      <td>Respir Res</td>\n",
       "      <td>NaN</td>\n",
       "      <td>NaN</td>\n",
       "      <td>NaN</td>\n",
       "      <td>document_parses/pdf_json/5f48792a5fa08bed9f560...</td>\n",
       "      <td>document_parses/pmc_json/PMC59580.xml.json</td>\n",
       "      <td>https://www.ncbi.nlm.nih.gov/pmc/articles/PMC5...</td>\n",
       "      <td>NaN</td>\n",
       "    </tr>\n",
       "  </tbody>\n",
       "</table>\n",
       "</div>"
      ],
      "text/plain": [
       "   cord_uid                                       sha source_x  \\\n",
       "0  ug7v899j  d1aafb70c066a2068b02786f8929fd9c900897fb      PMC   \n",
       "1  02tnwd4m  6b0567729c2143a66d737eb0a2f63f2dce2e5a7d      PMC   \n",
       "2  ejv2xln0  06ced00a5fc04215949aa72528f2eeaae1d58927      PMC   \n",
       "3  2b73a28n  348055649b6b8cf2b9a376498df9bf41f7123605      PMC   \n",
       "4  9785vg6d  5f48792a5fa08bed9f56016f4981ae2ca6031b32      PMC   \n",
       "\n",
       "                                               title                    doi  \\\n",
       "0  Clinical features of culture-proven Mycoplasma...  10.1186/1471-2334-1-6   \n",
       "1  Nitric oxide: a pro-inflammatory mediator in l...           10.1186/rr14   \n",
       "2    Surfactant protein-D and pulmonary host defense           10.1186/rr19   \n",
       "3               Role of endothelin-1 in lung disease           10.1186/rr44   \n",
       "4  Gene expression in epithelial cells in respons...           10.1186/rr61   \n",
       "\n",
       "      pmcid pubmed_id license  \\\n",
       "0  PMC35282  11472636   no-cc   \n",
       "1  PMC59543  11667967   no-cc   \n",
       "2  PMC59549  11667972   no-cc   \n",
       "3  PMC59574  11686871   no-cc   \n",
       "4  PMC59580  11686888   no-cc   \n",
       "\n",
       "                                            abstract publish_time  \\\n",
       "0  OBJECTIVE: This retrospective chart review des...   2001-07-04   \n",
       "1  Inflammatory diseases of the respiratory tract...   2000-08-15   \n",
       "2  Surfactant protein-D (SP-D) participates in th...   2000-08-25   \n",
       "3  Endothelin-1 (ET-1) is a 21 amino acid peptide...   2001-02-22   \n",
       "4  Respiratory syncytial virus (RSV) and pneumoni...   2001-05-11   \n",
       "\n",
       "                                             authors         journal  mag_id  \\\n",
       "0                Madani, Tariq A; Al-Ghamdi, Aisha A  BMC Infect Dis     NaN   \n",
       "1  Vliet, Albert van der; Eiserich, Jason P; Cros...      Respir Res     NaN   \n",
       "2                                    Crouch, Erika C      Respir Res     NaN   \n",
       "3  Fagan, Karen A; McMurtry, Ivan F; Rodman, David M      Respir Res     NaN   \n",
       "4  Domachowske, Joseph B; Bonville, Cynthia A; Ro...      Respir Res     NaN   \n",
       "\n",
       "  who_covidence_id arxiv_id  \\\n",
       "0              NaN      NaN   \n",
       "1              NaN      NaN   \n",
       "2              NaN      NaN   \n",
       "3              NaN      NaN   \n",
       "4              NaN      NaN   \n",
       "\n",
       "                                      pdf_json_files  \\\n",
       "0  document_parses/pdf_json/d1aafb70c066a2068b027...   \n",
       "1  document_parses/pdf_json/6b0567729c2143a66d737...   \n",
       "2  document_parses/pdf_json/06ced00a5fc04215949aa...   \n",
       "3  document_parses/pdf_json/348055649b6b8cf2b9a37...   \n",
       "4  document_parses/pdf_json/5f48792a5fa08bed9f560...   \n",
       "\n",
       "                               pmc_json_files  \\\n",
       "0  document_parses/pmc_json/PMC35282.xml.json   \n",
       "1  document_parses/pmc_json/PMC59543.xml.json   \n",
       "2  document_parses/pmc_json/PMC59549.xml.json   \n",
       "3  document_parses/pmc_json/PMC59574.xml.json   \n",
       "4  document_parses/pmc_json/PMC59580.xml.json   \n",
       "\n",
       "                                                 url  s2_id  \n",
       "0  https://www.ncbi.nlm.nih.gov/pmc/articles/PMC3...    NaN  \n",
       "1  https://www.ncbi.nlm.nih.gov/pmc/articles/PMC5...    NaN  \n",
       "2  https://www.ncbi.nlm.nih.gov/pmc/articles/PMC5...    NaN  \n",
       "3  https://www.ncbi.nlm.nih.gov/pmc/articles/PMC5...    NaN  \n",
       "4  https://www.ncbi.nlm.nih.gov/pmc/articles/PMC5...    NaN  "
      ]
     },
     "execution_count": 16,
     "metadata": {},
     "output_type": "execute_result"
    }
   ],
   "source": [
    "#metadata\n",
    "metadata_path = f'{input_dir}/metadata.csv'\n",
    "metadata = pd.read_csv(metadata_path,\n",
    "                               dtype={'pubmed_id': str,'title': str,'abstract': str})\n",
    "metadata.head()"
   ]
  },
  {
   "cell_type": "code",
   "execution_count": 17,
   "id": "57ca0abe",
   "metadata": {
    "id": "57ca0abe",
    "outputId": "c51fe413-ba87-4614-f3e1-c1b6812a7417"
   },
   "outputs": [
    {
     "data": {
      "text/plain": [
       "296378"
      ]
     },
     "execution_count": 17,
     "metadata": {},
     "output_type": "execute_result"
    }
   ],
   "source": [
    "#fetch the number of reasearch papers in pdf json folder\n",
    "all_json_pdf = glob.glob(f'{input_dir}/document_parses/pdf_json/*.json',recursive=True)\n",
    "len(all_json_pdf)"
   ]
  },
  {
   "cell_type": "code",
   "execution_count": 18,
   "id": "7454e1b8",
   "metadata": {},
   "outputs": [
    {
     "data": {
      "text/plain": [
       "['./2021-11-15/document_parses/pdf_json/261a1408be03a4ba06ce2fef3c6775fecb60e167.json',\n",
       " './2021-11-15/document_parses/pdf_json/efe13333c69a364cb5d4463ba93815e6fc2d91c6.json',\n",
       " './2021-11-15/document_parses/pdf_json/4fcb95cc0c4ea6d1fa4137a4a087715ed6b68cea.json',\n",
       " './2021-11-15/document_parses/pdf_json/94310f437664763acbb472df37158b9694a3bf3a.json',\n",
       " './2021-11-15/document_parses/pdf_json/7893b2eacabd217e5740331425371336afb9a575.json']"
      ]
     },
     "execution_count": 18,
     "metadata": {},
     "output_type": "execute_result"
    }
   ],
   "source": [
    "all_json_pdf[:5]"
   ]
  },
  {
   "cell_type": "code",
   "execution_count": 19,
   "id": "ee135541",
   "metadata": {
    "id": "ee135541",
    "outputId": "4e21759e-3741-4f09-c0f2-8cf3939d3ceb"
   },
   "outputs": [
    {
     "data": {
      "text/plain": [
       "228979"
      ]
     },
     "execution_count": 19,
     "metadata": {},
     "output_type": "execute_result"
    }
   ],
   "source": [
    "#fetch the number of reasearch papers in pmc json folder\n",
    "all_json_pmc = glob.glob(f'{input_dir}/document_parses/pmc_json/*.json',recursive=True)\n",
    "len(all_json_pmc)"
   ]
  },
  {
   "cell_type": "code",
   "execution_count": 20,
   "id": "f5d84744",
   "metadata": {},
   "outputs": [
    {
     "data": {
      "text/plain": [
       "['./2021-11-15/document_parses/pmc_json/PMC7940615.xml.json',\n",
       " './2021-11-15/document_parses/pmc_json/PMC7405720.xml.json',\n",
       " './2021-11-15/document_parses/pmc_json/PMC7670963.xml.json',\n",
       " './2021-11-15/document_parses/pmc_json/PMC7463272.xml.json',\n",
       " './2021-11-15/document_parses/pmc_json/PMC8013949.xml.json']"
      ]
     },
     "execution_count": 20,
     "metadata": {},
     "output_type": "execute_result"
    }
   ],
   "source": [
    "all_json_pmc[:5]"
   ]
  },
  {
   "cell_type": "code",
   "execution_count": 21,
   "id": "c90c3835",
   "metadata": {},
   "outputs": [
    {
     "name": "stdout",
     "output_type": "stream",
     "text": [
      "{'paper_id': '261a1408be03a4ba06ce2fef3c6775fecb60e167', 'metadata': {'title': \"Students' Acceptance of Technology-Mediated Teaching -How It Was Influenced During the COVID-19 Pandemic in 2020: A Study From Germany\", 'authors': [{'first': 'Pilar', 'middle': [], 'last': 'Lacasa', 'suffix': '', 'affiliation': {}, 'email': ''}, {'first': 'Juan', 'middle': ['J'], 'last': 'Nieto', 'suffix': '', 'affiliation': {}, 'email': ''}, {'first': 'Petar', 'middle': [], 'last': 'Radanliev', 'suffix': '', 'affiliation': {}, 'email': ''}, {'first': 'Gergana', 'middle': [], 'last': 'Vladova', 'suffix': '', 'affiliation': {'laboratory': '', 'institution': 'University of Potsdam', 'location': {'settlement': 'Potsdam', 'country': 'Germany'}}, 'email': 'gergana.vladova@wi.uni-potsdam.de'}, {'first': 'André', 'middle': [], 'last': 'Ullrich', 'suffix': '', 'affiliation': {'laboratory': '', 'institution': 'University of Potsdam', 'location': {'settlement': 'Potsdam', 'country': 'Germany'}}, 'email': ''}, {'first': 'Benedict', 'middle': [], 'last': 'Bender', 'suffix': '', 'affiliation': {'laboratory': '', 'institution': 'University of Potsdam', 'location': {'settlement': 'Potsdam', 'country': 'Germany'}}, 'email': ''}, {'first': 'Norbert', 'middle': [], 'last': 'Gronau', 'suffix': '', 'affiliation': {'laboratory': '', 'institution': 'University of Potsdam', 'location': {'settlement': 'Potsdam', 'country': 'Germany'}}, 'email': ''}]}, 'abstract': [{'text': \"In response to the impending spread of COVID-19, universities worldwide abruptly stopped face-to-face teaching and switched to technology-mediated teaching. As a result, the use of technology in the learning processes of students of different disciplines became essential and the only way to teach, communicate and collaborate for months. In this crisis context, we conducted a longitudinal study in four German universities, in which we collected a total of 875 responses from students of information systems and music and arts at four points in time during the spring-summer 2020 semester. Our study focused on (1) the students' acceptance of technology-mediated learning, (2) any change in this acceptance during the semester and (3) the differences in acceptance between the two disciplines. We applied the Technology Acceptance Model and were able to validate it for the extreme situation of the COVID-19 pandemic. We extended the model with three new variables (time flexibility, learning flexibility and social isolation) that influenced the construct of perceived usefulness. Furthermore, we detected differences between the disciplines and over time. In this paper, we present and discuss our study's results and derive short-and long-term implications for science and practice.\", 'cite_spans': [], 'ref_spans': [], 'section': 'Abstract'}], 'body_text': [{'text': 'Digital technologies have provided support in diverse policy, business, and societal application areas in the COVID-19 outbreak, such as pandemic management (Radanliev et al., 2020b) , corporate communications (Camilleri, 2020) , analysis of research data (Radanliev et al., 2020a) , and education (Crawford et al., 2020) . COVID-19 started as a global infectious disease in the spring of 2020, but the necessary measures to control the virus went beyond treatment and were also directed against its spread. Thus, for months, all interpersonal relationships were characterized by social distancing, and the pandemic raised not only medical but also social, economic and technological issues, among others. Higher education was one domain that the pandemic affected radically (Nuere and de Miguel, 2020; Watermeyer et al., 2020) . During the worldwide lockdown, higher educational institutions had to immediately switch their activities from the classroom and the campus to a virtual space, which was the only alternative to a complete incapacity to act (Crawford et al., 2020; Kamarianos et al., 2020; Karalis and Raikou, 2020; Owusu-Fordjour et al., 2020; Shah et al., 2020) .', 'cite_spans': [{'start': 157, 'end': 182, 'text': '(Radanliev et al., 2020b)', 'ref_id': 'BIBREF46'}, {'start': 210, 'end': 227, 'text': '(Camilleri, 2020)', 'ref_id': 'BIBREF11'}, {'start': 256, 'end': 281, 'text': '(Radanliev et al., 2020a)', 'ref_id': 'BIBREF45'}, {'start': 298, 'end': 321, 'text': '(Crawford et al., 2020)', 'ref_id': 'BIBREF14'}, {'start': 775, 'end': 802, 'text': '(Nuere and de Miguel, 2020;', 'ref_id': 'BIBREF37'}, {'start': 803, 'end': 827, 'text': 'Watermeyer et al., 2020)', 'ref_id': 'BIBREF60'}, {'start': 1053, 'end': 1076, 'text': '(Crawford et al., 2020;', 'ref_id': 'BIBREF14'}, {'start': 1077, 'end': 1101, 'text': 'Kamarianos et al., 2020;', 'ref_id': 'BIBREF26'}, {'start': 1102, 'end': 1127, 'text': 'Karalis and Raikou, 2020;', 'ref_id': 'BIBREF27'}, {'start': 1128, 'end': 1156, 'text': 'Owusu-Fordjour et al., 2020;', 'ref_id': 'BIBREF38'}, {'start': 1157, 'end': 1175, 'text': 'Shah et al., 2020)', 'ref_id': 'BIBREF51'}], 'ref_spans': [], 'section': 'INTRODUCTION'}, {'text': 'University students represent a generation of digital natives for whom this steady switch from the real to the virtual world should not pose any operational challenge (Carlson, 2005; Berk, 2009; Jones et al., 2010) . However, research indicates that students show differences according to discipline, such as subject matter (Biglan, 1973; Neumann, 2001) or facets of digital literacy and competency (Nelson et al., 2011) , which should be taken into consideration when developing digital learning environments and approaches. The issue of whether and how teaching and learning differs across disciplines has however long been neglected in academic discourse (Neumann, 2001) . Furthermore, as in any field, the successful introduction of technology into existing processes -such as the phenomenon that occurred in the COVID-19 pandemic during the springsummer 2020 semester (or the so-called COVID-19 semester)can only be guaranteed if teachers and students show or develop appropriate attitudes, beliefs, behaviors and habits (Al-alak and Alnawas, 2011; Al-Harbi, 2011) .', 'cite_spans': [{'start': 167, 'end': 182, 'text': '(Carlson, 2005;', 'ref_id': 'BIBREF12'}, {'start': 183, 'end': 194, 'text': 'Berk, 2009;', 'ref_id': 'BIBREF7'}, {'start': 195, 'end': 214, 'text': 'Jones et al., 2010)', 'ref_id': 'BIBREF25'}, {'start': 324, 'end': 338, 'text': '(Biglan, 1973;', 'ref_id': 'BIBREF8'}, {'start': 339, 'end': 353, 'text': 'Neumann, 2001)', 'ref_id': 'BIBREF34'}, {'start': 399, 'end': 420, 'text': '(Nelson et al., 2011)', 'ref_id': 'BIBREF33'}, {'start': 658, 'end': 673, 'text': '(Neumann, 2001)', 'ref_id': 'BIBREF34'}, {'start': 1026, 'end': 1053, 'text': '(Al-alak and Alnawas, 2011;', 'ref_id': 'BIBREF0'}, {'start': 1054, 'end': 1069, 'text': 'Al-Harbi, 2011)', 'ref_id': 'BIBREF2'}], 'ref_spans': [], 'section': 'INTRODUCTION'}, {'text': 'Starting from the circumstances of the pandemic -a rapid transition to fully technology-mediated teaching for students taking different subjects, with no alternative, accompanied by several months of social isolation -in this paper, we ask:', 'cite_spans': [], 'ref_spans': [], 'section': 'INTRODUCTION'}, {'text': 'Do the acceptance toward completely technology-mediated teaching differ, depending on the discipline of study?', 'cite_spans': [], 'ref_spans': [], 'section': 'INTRODUCTION'}, {'text': \"Did the students' acceptance toward completely technologymediated teaching change over time during the COVID-19 semester?\", 'cite_spans': [], 'ref_spans': [], 'section': 'INTRODUCTION'}, {'text': 'To address the research questions, we empirically examine the acceptance of technology-mediated teaching by students during the COVID-19 semester in the spring-summer of 2020. We follow the suggestion of Neumann (2001) that \"the strong influence of disciplines on [. . .] students\\' learning\" creates the need \"disciplines to be subjected to greater systematic study, especially regarding their effect on the quality of teaching and learning in higher education, \" and present, analyze and discuss the collected data from 875 responses gathered from students of two disciplines (information systems [IS] and music and arts [M&A] ) at four points in time.', 'cite_spans': [{'start': 204, 'end': 218, 'text': 'Neumann (2001)', 'ref_id': 'BIBREF34'}, {'start': 598, 'end': 602, 'text': '[IS]', 'ref_id': None}, {'start': 622, 'end': 627, 'text': '[M&A]', 'ref_id': None}], 'ref_spans': [], 'section': 'INTRODUCTION'}, {'text': \"For our empirical investigation, we apply an extended version of the Technology Acceptance Model (TAM). Technology acceptance is a main topic in information systems (IS) research, and TAM is a widely used approach to investigating a subject's attitude and adoption behavior, inter alia in university context (Venkatesh and Davis, 2000; Lee et al., 2005; Pituch and Lee, 2006; Al-Azawei et al., 2017) . For the purpose of this study, the model allows us to investigate the acceptance of technology-mediated teaching, especially regarding certain aspects (usefulness, ease of use and enjoyment) that are relevant for students. Our goal is to understand not only whether students accept technologymediated teaching but also what key aspects are decisive for the future design of technology-mediated teaching environments. For this reason, we apply the TAM, as well as look beyond the model at the research on the advantages and the disadvantages of technology-mediated teaching and the extended TAM, using three new variables to be able to analyze the construct of perceived usefulness for students during the COVID-19 season in more detail and depth.\", 'cite_spans': [{'start': 308, 'end': 335, 'text': '(Venkatesh and Davis, 2000;', 'ref_id': 'BIBREF55'}, {'start': 336, 'end': 353, 'text': 'Lee et al., 2005;', 'ref_id': 'BIBREF28'}, {'start': 354, 'end': 375, 'text': 'Pituch and Lee, 2006;', 'ref_id': 'BIBREF41'}, {'start': 376, 'end': 399, 'text': 'Al-Azawei et al., 2017)', 'ref_id': 'BIBREF1'}], 'ref_spans': [], 'section': 'INTRODUCTION'}, {'text': 'This paper is organized as follows: In Section \"Theoretical Framework, \" we discuss the theoretical foundations of our investigation. The design and the procedure of the study, as well as the measures and data analysis are presented in Section \"Materials and Methods.\" The presentation of the results is the focus of Section \"Results.\" We discuss the results of the analysis in Section \"Discussion of the Results\" and provide implications for teaching practice and organization, educational technology, and research in Section \"Implications for Teaching Practice, Educational Technology and Further Research.\" We conclude this paper in Section \"Conclusion\" with a short summary, limitations of the study, and remarks on future studies.', 'cite_spans': [], 'ref_spans': [], 'section': 'INTRODUCTION'}, {'text': \"The TAM is one of the most widely investigated and applied models of technology acceptance. Perceived usefulness (PU) and perceived ease of use (PEOU) are the two decisive variables for a person's attitude (ATT) toward a used technology, which in turn affects the actual system use. PU depicts a person's subjective sensation that the application of a certain technology improves individual work performance, while PEOU measures a person's perception of how much effort the usage of the new technology requires. Both variables are influenced by diverse external variables, such as job relevance, subjective norm or output quality (Venkatesh and Davis, 2000) . Davis et al. (1989) adjusted the model by adding a person's behavioral intention (BI) as mediator between ATT and actual system use. Table 1 shows an overview of the research on the TAM in the e-learning context. For the e-learning context, Lee et al. (2005) added perceived enjoyment (PE) as an intrinsic motivator, in addition to PU and PEOU, to TAM constructs. Šumak et al. (2011) conducted a meta-analysis and found that the TAM was the most applied model in e-learning and that the size of the causal effects between individual TAM-related factors depends on the type of user and the type of e-learning technology.\", 'cite_spans': [{'start': 630, 'end': 657, 'text': '(Venkatesh and Davis, 2000)', 'ref_id': 'BIBREF55'}, {'start': 660, 'end': 679, 'text': 'Davis et al. (1989)', 'ref_id': 'BIBREF15'}, {'start': 901, 'end': 918, 'text': 'Lee et al. (2005)', 'ref_id': 'BIBREF28'}, {'start': 1024, 'end': 1043, 'text': 'Šumak et al. (2011)', 'ref_id': None}], 'ref_spans': [{'start': 793, 'end': 800, 'text': 'Table 1', 'ref_id': 'TABREF0'}], 'section': 'Technology Acceptance Model (TAM)'}, {'text': 'For our study, we adapt the research model of Lee et al. (2005) , as presented in Figure 1 .', 'cite_spans': [{'start': 46, 'end': 63, 'text': 'Lee et al. (2005)', 'ref_id': 'BIBREF28'}], 'ref_spans': [{'start': 82, 'end': 90, 'text': 'Figure 1', 'ref_id': 'FIGREF0'}], 'section': 'Technology Acceptance Model (TAM)'}, {'text': 'Consistent with the findings of prior studies (cf. Davis et al., 1989; Lee et al., 2005) , we expect the relations among the constructs to exhibit significant strength (for the list of the hypotheses, cf. Attachment 1). However, in our discussion, we take into account that the TAM in e-learning is usually researched in cases where blended learning or e-learning is an additional part of face-to-face teaching, whereas in the COVID-19 semester, virtual teaching and learning was Mohammadi, 2015 quality features, perceived ease of use, perceived usefulness on users\\' intentions, satisfaction, usability toward use of e-learning SEM, path analysis \\'Intention\" and \"user satisfaction\" both had positive effects on actual use of e-learning. \"System quality\" and \"information quality\" were found to be the primary factors driving users\\' intentions and satisfaction toward use of e-learning. \"Perceived usefulness\" mediated the relationship between ease of use and users\\' intentions Al-Azawei et al., 2017 e-learning self-efficacy, perceived satisfaction, learning styles, perceived usefulness, perceived ease of use, intention to use PLS SEM Highlights the integration of perceived satisfaction and technology acceptance in accordance with psychological traits and learner beliefs. Model achieved an acceptable fit and successfully integrated intention to use (ITU) and perceived satisfaction the only channel used to convey content. We examine the measurement model and the structural model and then compare the results over time and for the two student populations (IS and M&A).', 'cite_spans': [{'start': 51, 'end': 70, 'text': 'Davis et al., 1989;', 'ref_id': 'BIBREF15'}, {'start': 71, 'end': 88, 'text': 'Lee et al., 2005)', 'ref_id': 'BIBREF28'}], 'ref_spans': [], 'section': 'Technology Acceptance Model (TAM)'}, {'text': \"Acceptance Over Time Venkatesh and Davis (2000) tested an extended TAM (TAM2) in four longitudinal studies and introduced experience as a relevant influencing factor that is important for understanding the changes in PU over time, whereby experience in general reflects an opportunity to use a technology and is typically operationalized as the passage of time from an individual's initial use of a technology. Based on the TAM, Venkatesh et al. (2003) developed UTAUT and tested it in a longitudinal field study. Venkatesh et al. (2012) introduced three new constructs to UTAUT, measured users' experience and investigated its influence on the users' acceptance and habits. Davis and Wong (2007) applied TAM2 in an educational context and measured users' experience in relation to the actual student usage (system use) of an e-learning system. They pointed out the complex underlying interactions during e-learning adoption processes and recommended a longitudinal design as appropriate for future studies. Pynoo et al. (2011) applied UTAUT in the educational context to investigate the acceptance of digital learning environments and found differences over time; they also pointed out that the usefulness of digital learning environments should be demonstrated to maximize its use.\", 'cite_spans': [{'start': 21, 'end': 47, 'text': 'Venkatesh and Davis (2000)', 'ref_id': 'BIBREF55'}, {'start': 429, 'end': 452, 'text': 'Venkatesh et al. (2003)', 'ref_id': 'BIBREF56'}, {'start': 514, 'end': 537, 'text': 'Venkatesh et al. (2012)', 'ref_id': 'BIBREF57'}, {'start': 675, 'end': 696, 'text': 'Davis and Wong (2007)', 'ref_id': 'BIBREF16'}, {'start': 1008, 'end': 1027, 'text': 'Pynoo et al. (2011)', 'ref_id': 'BIBREF44'}], 'ref_spans': [], 'section': 'Technology Acceptance Model (TAM)'}, {'text': 'In contrast to other studies, our study does not focus on a specific technology but on the experience with the technology-mediated teaching in the COVID-19 context. We expect and show within this context that students gain experience during the semester, which will lead to measurable changes in their acceptance. Hu et al. (1999) define a set of users\\' characteristics as one factor that can be used to explain, predict and effectively manage technology acceptance. Biglan (1973) points out the characteristics of academic matter, according to which the strongest differences between the \"hard\" (e.g., engineering sciences) and the \"soft\" sciences (e.g., social sciences, educational sciences, and humanities) can be identified. Vo et al. (2020) investigated the effects of blended learning on student learning performance and compared the output of students in hard and soft disciplines. According to their study, students in soft disciplines perform better than their peers in hard disciplines when courses are designed in the blended learning modality. Cameron (2017) identified differences in student engagement between \\'humanities\\' (e.g., M&A) and \\'professional fields\\' students (such as IS). Additionally, teaching experiences are more highly regarded by humanities students than those in hard sciences (Cashin and Downey, 1995) . In the context of our study, this is expected to lead to differentiating results when lecturers had to quickly change toward virtual formats based on their diverse levels of experience with technologies. Pike et al. (2012) found that that students\\' academic majors are significantly related to levels of engagement, which is influenced by their acceptance and learning outcomes. Students of enterprising disciplines are more engaged than artistic discipline students. Students of soft applied knowledge (e.g., M&A) need more intensive practical training than those from the disciplines of hard applied knowledge (e.g., IS) (Neumann et al., 2002) . Here might be a major disadvantage for specific groups when virtual teaching is applied for learning.', 'cite_spans': [{'start': 314, 'end': 330, 'text': 'Hu et al. (1999)', 'ref_id': 'BIBREF22'}, {'start': 467, 'end': 480, 'text': 'Biglan (1973)', 'ref_id': 'BIBREF8'}, {'start': 730, 'end': 746, 'text': 'Vo et al. (2020)', 'ref_id': 'BIBREF59'}, {'start': 1057, 'end': 1071, 'text': 'Cameron (2017)', 'ref_id': 'BIBREF10'}, {'start': 1310, 'end': 1335, 'text': '(Cashin and Downey, 1995)', 'ref_id': 'BIBREF13'}, {'start': 1542, 'end': 1560, 'text': 'Pike et al. (2012)', 'ref_id': 'BIBREF40'}, {'start': 1961, 'end': 1983, 'text': '(Neumann et al., 2002)', 'ref_id': 'BIBREF35'}], 'ref_spans': [], 'section': 'Technology Acceptance Model (TAM)'}, {'text': 'According to the research on the learning characteristics and the learning styles of the Net generation (born after 1980) and the Z generation (millennials), university students at the time of the COVID-19 crisis are digital natives, who can be described as tending toward independence and autonomy in their learning styles, technology savvy, interested in communicating visually and in multimedia and able to move seamlessly between real and virtual worlds (Carlson, 2005; Berk, 2009; Jones et al., 2010) .', 'cite_spans': [{'start': 458, 'end': 473, 'text': '(Carlson, 2005;', 'ref_id': 'BIBREF12'}, {'start': 474, 'end': 485, 'text': 'Berk, 2009;', 'ref_id': 'BIBREF7'}, {'start': 486, 'end': 505, 'text': 'Jones et al., 2010)', 'ref_id': 'BIBREF25'}], 'ref_spans': [], 'section': 'Differences in Acceptance Between Student Groups'}, {'text': \"Despite this, it is also characteristic of this generation to view class as a social opportunity and to crave face-to face social interaction, whereby relationships, in-person conversation, interaction and collaboration are high priorities (Howe, 2000; Carlson, 2005; Ramaley and Zia, 2005) . Zheng et al. (2017) investigated lowand high-performing students in an e-learning environment and identified a significant difference in the students' perceived usefulness. Xu and Jaggars (2014) found that the typical student had more difficulty with succeeding in online courses than in face-to-face courses [compare also (Nelson et al., 2011) ; they also noted a variation across subject areas in terms of online course effectiveness].\", 'cite_spans': [{'start': 240, 'end': 252, 'text': '(Howe, 2000;', 'ref_id': 'BIBREF21'}, {'start': 253, 'end': 267, 'text': 'Carlson, 2005;', 'ref_id': 'BIBREF12'}, {'start': 268, 'end': 290, 'text': 'Ramaley and Zia, 2005)', 'ref_id': 'BIBREF47'}, {'start': 293, 'end': 312, 'text': 'Zheng et al. (2017)', 'ref_id': 'BIBREF63'}, {'start': 466, 'end': 487, 'text': 'Xu and Jaggars (2014)', 'ref_id': 'BIBREF62'}, {'start': 616, 'end': 637, 'text': '(Nelson et al., 2011)', 'ref_id': 'BIBREF33'}], 'ref_spans': [], 'section': 'Differences in Acceptance Between Student Groups'}, {'text': \"To the best of our knowledge, to date, no research has put the TAM in the context of the specific characteristics of a study's subjects. This is where our study can make a contribution, as we have examined two different subject groups: M&A students and IS students.\", 'cite_spans': [], 'ref_spans': [], 'section': 'Differences in Acceptance Between Student Groups'}, {'text': \"In summary, we expect differences in the students' attitudes toward virtual learning, according to their academic subject.\", 'cite_spans': [], 'ref_spans': [], 'section': 'Differences in Acceptance Between Student Groups'}, {'text': \"The benefits and the disadvantages of technology-mediated teaching and learning became a focal point for university research in the context of the COVID-19 crisis (Kamarianos et al., 2020; Karalis and Raikou, 2020; Owusu-Fordjour et al., 2020; Shah et al., 2020) . However, this topic is not new but one of the central research focuses in the context of learning in digital learning environments. Davis and Wong (2007) define e-learning as a global phenomenon for organizations and educational institutions, aiming to enhance students' learning experience and effectiveness in terms of the learning outcome. The benefits of e-learning have been discussed in recent research, but so far, there is no consensus on whether the outputs of e-learning are more effective than those of traditional learning formats (Derouin et al., 2005) . The most frequently stated benefits are cost efficiency, flexibility (in terms of time and place), saving time to travel to the learning location, easy access to learning materials, as well as the usefulness of learning materials for a longer period (Welsh et al., 2003; Brown et al., 2006; Hameed et al., 2008; Jefferson and Arnold, 2009; Hill and Wouters, 2010; Al-Qahtani and Higgins, 2013; Becker et al., 2013) , or the potential to offer personalized learning according to the learner's specific needs (Berge and Giles, 2006) .\", 'cite_spans': [{'start': 163, 'end': 188, 'text': '(Kamarianos et al., 2020;', 'ref_id': 'BIBREF26'}, {'start': 189, 'end': 214, 'text': 'Karalis and Raikou, 2020;', 'ref_id': 'BIBREF27'}, {'start': 215, 'end': 243, 'text': 'Owusu-Fordjour et al., 2020;', 'ref_id': 'BIBREF38'}, {'start': 244, 'end': 262, 'text': 'Shah et al., 2020)', 'ref_id': 'BIBREF51'}, {'start': 397, 'end': 418, 'text': 'Davis and Wong (2007)', 'ref_id': 'BIBREF16'}, {'start': 808, 'end': 830, 'text': '(Derouin et al., 2005)', 'ref_id': 'BIBREF17'}, {'start': 1083, 'end': 1103, 'text': '(Welsh et al., 2003;', 'ref_id': 'BIBREF61'}, {'start': 1104, 'end': 1123, 'text': 'Brown et al., 2006;', 'ref_id': 'BIBREF9'}, {'start': 1124, 'end': 1144, 'text': 'Hameed et al., 2008;', 'ref_id': 'BIBREF19'}, {'start': 1145, 'end': 1172, 'text': 'Jefferson and Arnold, 2009;', 'ref_id': 'BIBREF24'}, {'start': 1173, 'end': 1196, 'text': 'Hill and Wouters, 2010;', 'ref_id': 'BIBREF20'}, {'start': 1197, 'end': 1226, 'text': 'Al-Qahtani and Higgins, 2013;', 'ref_id': 'BIBREF3'}, {'start': 1227, 'end': 1247, 'text': 'Becker et al., 2013)', 'ref_id': 'BIBREF5'}, {'start': 1340, 'end': 1363, 'text': '(Berge and Giles, 2006)', 'ref_id': 'BIBREF6'}], 'ref_spans': [], 'section': 'Benefits and Disadvantages of E-Learning'}, {'text': \"On the negative side, technology-mediated learning lacks direct social interaction and a personal touch and has the potential to socially isolate the learner or at least to negatively influence social aspects of learning processes (Gimson and Bell, 2007; Hameed et al., 2008; Al-Qahtani and Higgins, 2013; Becker et al., 2013) . Socially isolated learning can negatively influence the development of learners' communication skills, as well as change communication conditions, including the lack of support and feedback using non-verbal cues or by observing the interactions of others, as well as the lack of social and cognitive presence and teacher's involvement (Al-Qahtani and Higgins, 2013) . Furthermore, learners are insecure about their learning in the absence of regular contact to the teachers (Al-Qahtani and Higgins, 2013). Technology-mediated teaching and learning requires self-motivation, time management and a focused approach and self-directed learning and organization skills of learners (Hameed et al., 2008; Jefferson and Arnold, 2009 ). According to Al-Qahtani and Higgins (2013), these requirements arise partly from the conditions of social isolation and lack of direct social interaction, which means that the learner must have a relatively strong motivation to mitigate this effect.\", 'cite_spans': [{'start': 231, 'end': 254, 'text': '(Gimson and Bell, 2007;', 'ref_id': 'BIBREF18'}, {'start': 255, 'end': 275, 'text': 'Hameed et al., 2008;', 'ref_id': 'BIBREF19'}, {'start': 276, 'end': 305, 'text': 'Al-Qahtani and Higgins, 2013;', 'ref_id': 'BIBREF3'}, {'start': 306, 'end': 326, 'text': 'Becker et al., 2013)', 'ref_id': 'BIBREF5'}, {'start': 664, 'end': 694, 'text': '(Al-Qahtani and Higgins, 2013)', 'ref_id': 'BIBREF3'}, {'start': 1005, 'end': 1026, 'text': '(Hameed et al., 2008;', 'ref_id': 'BIBREF19'}, {'start': 1027, 'end': 1053, 'text': 'Jefferson and Arnold, 2009', 'ref_id': 'BIBREF24'}], 'ref_spans': [], 'section': 'Benefits and Disadvantages of E-Learning'}, {'text': 'During the lockdown of the universities the expectation was that most of the young students will not have any difficulty in switching to online teaching, which is indeed confirmed by actual findings (e.g., Kamarianos et al., 2020) . Shah et al. (2020) point out the numerous and immediately apparent benefits of transferring learning to the virtual world: free exchange of information, access to lectures and presentations at conferences that used to involve considerable travel costs, webinars and online discussions, reduction of time inefficiency associated with travel and increased commitment. Owusu-Fordjour et al. (2020) identify negative effects, e.g., learning at home can be ineffective because of many distractions, no adequate learning environment, or contact with the teacher. Less problems have been found in switching to online teaching, however, on the negative side, technical obstacles as well as lack of communication and cooperation, difficulties to concentrate, too many screen-time, lack of logistical infrastructure, non-physical presence, more workload and the loss of lab courses and the general restriction of social contact have been pointed out as important during the crisis. To the positive characteristics belong the easy participation in class, time savings, home comfort, the possibility to learn, new competences, attending and learning flexibility.', 'cite_spans': [{'start': 206, 'end': 230, 'text': 'Kamarianos et al., 2020)', 'ref_id': 'BIBREF26'}, {'start': 233, 'end': 251, 'text': 'Shah et al. (2020)', 'ref_id': 'BIBREF51'}, {'start': 599, 'end': 627, 'text': 'Owusu-Fordjour et al. (2020)', 'ref_id': 'BIBREF38'}], 'ref_spans': [], 'section': 'Benefits and Disadvantages of E-Learning'}, {'text': \"We conducted a longitudinal study in four German universities using an online survey to capture students' perceptions of technology-mediated teaching throughout the COVID-19 semesters in 2020. Participants in the study were students from selected courses and programs that have been invited to voluntarily take part in the survey. To identify potential differences between disciplines, we gathered responses from different subjects being taught. We have used from the beginning defined e-mail distribution lists and the group of potential respondents remained the same throughout the study. Students were asked for their agreement to the respective statements on an administered LimeSurvey. One survey was administered at the beginning of the semester in Germany (April), two surveys during the semester (May and June), and a final survey at the end of the semester (July 2020).\", 'cite_spans': [], 'ref_spans': [], 'section': 'Study Design'}, {'text': 'The study focused on two main theoretical constructs: (1) (technology) acceptance of e-learning (see Section \"Technology Acceptance Model\") and (2) the benefits and disadvantages of e-learning compared with face-to-face or blended learning (see Section \"Benefits and Disadvantages of E-Learning\"). We relied on pre-tested scales when possible; however, we had to adopt these scales for our study. Furthermore, we collected demographic data and asked open-ended questions to gain deeper insights into students\\' perceptions over the semester.', 'cite_spans': [], 'ref_spans': [], 'section': 'Measures'}, {'text': 'Concerning the first group of acceptance measurements, we used related items from former studies in a comparable context. We adopted the measurement scales for PU, PEOU, PE, ATT, and BI from Lee et al. (2005) , as the authors had already pre-tested these constructs for e-learning activities and proven their applicability. As in the original constructs, the items were measured using a 7-point Likert scale. Slight modifications were made to fit items to the investigated e-learning context.', 'cite_spans': [{'start': 191, 'end': 208, 'text': 'Lee et al. (2005)', 'ref_id': 'BIBREF28'}], 'ref_spans': [], 'section': 'Measures'}, {'text': 'To address the benefits and disadvantages of e-learning, the identified factors (see Section \"Benefits and Disadvantages of E-Learning\") were operationalized through a combination of previous studies and the authors\\' assessment. As highlighted in the previous chapter, for time flexibility (TF), learning flexibility (LF), and social isolation (SI), the theoretical literature provides several important insights into the factors behind the advantages and disadvantages of technology-mediated teaching environments. Table 2 provides an overview of survey constructs and related measurement items as well as their sources of adoption.', 'cite_spans': [], 'ref_spans': [{'start': 516, 'end': 523, 'text': 'Table 2', 'ref_id': 'TABREF1'}], 'section': 'Measures'}, {'text': \"To identify differences in students' perceptions over time, we surveyed the same student populations four times during the semester. At University 1, we gathered responses from master's students in IS, while at Universities 2, 3, and 4, we surveyed participants involved in courses that are part of the music and arts curriculum (bachelor, M&A).\", 'cite_spans': [], 'ref_spans': [], 'section': 'Procedure'}, {'text': 'We sent a link to the questionnaire throughout the semester and gathered 875 responses, of which 246 (28%) came from IS students and 629 (72%) from M&A students. We gathered 147 responses in April, 319 in May, 269 in June, and 128 in July. Of the responses, 59% (513) were received from women, 35% (310) came from men, and the remaining 62 (6%) specified another sex or provided no information. ', 'cite_spans': [], 'ref_spans': [], 'section': 'Procedure'}, {'text': \"Data preparation and analysis were conducted in R with the Stats package, version 3.6.1. Incorrect encodings and values were filtered manually. Throughout the survey, no questions were designated as mandatory. For model testing, only constructs for which all related items were answered were used. Regression model analysis was used to test the individual models. Regression models were estimated using the ordinary least square (OLS) method. The survey constructs were calculated based on the mean values of the respective items. Given the focus of our study, we employed the students' subject as the control variable in all model constructs (see the section on the differences between student groups). A binary dummy variable indicating the M&A group was used. Table 3 provides descriptive details for the model constructs. The constructs average values varied. The respondents assessed the ease of using technology-mediated teaching and related technologies as relatively high (avg. 5.2, SD = 1.19) and simultaneously stated that learning with digital technologies did not necessary lead to completely socially isolated work (avg. 3.47, SD = 1.57). The students were almost in agreement regarding the benefits of learning flexibility (avg. 4.92) and time flexibility (avg. 5.01).\", 'cite_spans': [], 'ref_spans': [{'start': 763, 'end': 770, 'text': 'Table 3', 'ref_id': 'TABREF2'}], 'section': 'Data Analysis'}, {'text': \"A comparison of the students' groups revealed that uniformity within the information systems group was larger in almost any of the respective constructs (standard deviation was lower). Moreover, we observed that the agreement was higher for the central model constructs for the group of IS students. Details are discussed in the following sections.\", 'cite_spans': [], 'ref_spans': [], 'section': 'Data Analysis'}, {'text': 'To ensure the validity of the measurement constructs, two approaches were used. For the new items regarding the benefits and disadvantages of technology-mediated teaching and learning, we first employed an explorative factor analysis (EFA) to assess their suitability to measure related aspects. Apart from the developed items, we assessed the internal validity for all constructs in the model.', 'cite_spans': [], 'ref_spans': [], 'section': 'Measurement Validity'}, {'text': \"Explorative factor analysis has been applied for the constructs related to technology-mediated teaching and learning validity and reliability. A principal component factor analysis with a maximal likelihood estimation rotation was performed on the collected items. The related nine items were employed in a factor analysis, resulting in three constructs. Factor 1 (time flexibility) comprised two items reported on a 7-point Likert scale that explained 30% of the variance with factor loadings from 0.652 to 0.997. Factor 2 (learning flexibility) comprised two items (instead of the three expected, compare Table 4 for the item deleted after the EFA) reported on a 7-point Likert scale that explained 12% of the variance with factor loadings from 0.573 to 0.678. Factor 3 (social isolation) comprised three items reported on a 7-point Likert scale that explained 26% of the variance, with factor loadings from 0.758 to 0.929. Following the results of the EFA, the factors social isolation and time flexibility matched our developed items for each construct. Concerning learning flexibility, the item related to the video lectures (c.f. Table 4 ) did not match to a significant extent (0.351) and was dropped accordingly. Lastly, the internal validity was assessed for all constructs. The established group of technology acceptance constructs was only tested for their internal validity through Cronbach's alphas. Table 4 provides an overview of the survey constructs internal validity and the survey items used. Apart from the PU and \", 'cite_spans': [], 'ref_spans': [{'start': 607, 'end': 614, 'text': 'Table 4', 'ref_id': 'TABREF3'}, {'start': 1136, 'end': 1143, 'text': 'Table 4', 'ref_id': 'TABREF3'}, {'start': 1413, 'end': 1420, 'text': 'Table 4', 'ref_id': 'TABREF3'}], 'section': 'Measurement Validity'}, {'text': 'The overall results of the structural model test are shown in Figure 2 . The model accounts for 65% of the variance in ATT and 54% of the variance in BI. For all the model constructs, the significant factors were identified with the survey data. Table 5 provides an overview of the hypotheses and the related results. With the exception of H1 (PEOU -> PU), all TAM hypotheses could be verified in our sample.', 'cite_spans': [], 'ref_spans': [{'start': 62, 'end': 70, 'text': 'Figure 2', 'ref_id': None}, {'start': 246, 'end': 253, 'text': 'Table 5', 'ref_id': 'TABREF4'}], 'section': 'RESULTS'}, {'text': \"Two of the items in PU directly address the perception of the benefits or advantages of technology-mediated teaching. The third deals with the direct output of learning, which is related to its perceived effectiveness (cf . Table 4 ). Thus, we analyzed the data in view of the potential relations between the perceived benefits and disadvantages of technology-mediated teaching and PU. Based on our empirical results, we were interested in identifying the sentiments underlying students' perceptions of the usefulness of technology-mediated teaching. We therefore extended the TAM core model with the three new factors influencing PU, as presented in Figure 3 .\", 'cite_spans': [], 'ref_spans': [{'start': 222, 'end': 231, 'text': '. Table 4', 'ref_id': 'TABREF3'}, {'start': 651, 'end': 659, 'text': 'Figure 3', 'ref_id': 'FIGREF1'}], 'section': 'Effects of Benefits and Disadvantages of E-Learning on PU'}, {'text': 'Furthermore, we conducted a regression analysis of PU over time, as illustrated in Table 6 . The effects of TF, LF, and SI explained 34% of the variance in PU in the model test (Figure 3) , as well as up to 35% of the variance in PU over time (Table 6) , with a very low explanation rate in May, which was also the only month when SI had a significant effect on PU. ', 'cite_spans': [], 'ref_spans': [{'start': 83, 'end': 90, 'text': 'Table 6', 'ref_id': 'TABREF6'}, {'start': 177, 'end': 187, 'text': '(Figure 3)', 'ref_id': 'FIGREF1'}, {'start': 243, 'end': 252, 'text': '(Table 6)', 'ref_id': 'TABREF6'}], 'section': 'Effects of Benefits and Disadvantages of E-Learning on PU'}, {'text': \"To identify the differences between the two student groups, a Kruskal-Wallis test was performed. As a non-parametric test, the approach allowed us to identify differences among our subsamples of different sizes. Overall, all central model constructs vary between the student's subject. Moreover, in general compared with IS students, M&A students have more negative perceptions of almost all model constructs.\", 'cite_spans': [], 'ref_spans': [], 'section': 'Differences in the Perceptions of IS and M&A Students'}, {'text': 'The differences in the central model constructs were analyzed in terms of variations over time and between subject groups. Figure 3 shows the results for BI over time and between subject groups as generally higher for IS students and indicates further differences over time. For IS students, the analysis results reveal increased BI over time toward the end of the semester. For the FIGURE 2 | TAM test results, including LF, TF, and SI as influencing variables. ** Significant at the 0.01-level and *** significant at the 0.001-level.', 'cite_spans': [], 'ref_spans': [{'start': 123, 'end': 131, 'text': 'Figure 3', 'ref_id': 'FIGREF1'}], 'section': 'Differences in Acceptance Over Time'}, {'text': 'Frontiers in Psychology | www.frontiersin.org M&A group, we found similar increased BI over time; a slight decline was identified at the end of the semester.', 'cite_spans': [], 'ref_spans': [], 'section': 'Differences in Acceptance Over Time'}, {'text': 'The same tendency in development over time and in significant (see Table 7 ) differences between the subject groups was observed with regard to PU, PEOU, and PE (visualized in Figures 4-6, respectively) .', 'cite_spans': [], 'ref_spans': [{'start': 67, 'end': 74, 'text': 'Table 7', 'ref_id': 'TABREF5'}, {'start': 176, 'end': 202, 'text': 'Figures 4-6, respectively)', 'ref_id': 'FIGREF2'}], 'section': 'Differences in Acceptance Over Time'}, {'text': 'As shown in Table 8 , the model explains up to 59% of the variance in BI for IS students and up to 52% for M&A students. The effect of PU was not significant for both student groups at the beginning and at the end of semester and remained constantly non-significant for IS students. For M&A students, PU was very significant in the middle of the semester. The effect of ATT was significant in the beginning and the middle of the semester (June) for IS students but weakened over time. For M&A students, the effect of ATT also varied during the semester, being significant in the second month and at the end of the semester. The strongest and most constant significant effect was found for PE in both groups.', 'cite_spans': [], 'ref_spans': [{'start': 12, 'end': 19, 'text': 'Table 8', 'ref_id': 'TABREF8'}], 'section': 'Differences in Acceptance Over Time'}, {'text': \"In this study, we identified differences in the perceptions of the investigated subject groups and over time. The first research question (RQ1) could be answered positively: For all constructs of our model, the results show significant differences toward completely technology-mediated teaching depending on the discipline of study. In general, for all constructs, M&A students answer more negatively than IS, which leads to the conclusion that they will not accept (complete) technology-mediated teaching to the same extent as IS students. This supports, inter alia, our theoretical findings, especially the findings of Pike et al. (2012) , which emphasized that students' academic majors were significantly related to levels of engagement, which is influenced by their acceptance and learning outcomes. IS students in our study furthermore enjoyed the technology-mediated teaching more, although social isolation was the most negatively indicated by both groups. Neumann (2001) emphasizes a strong influence of disciplines on students' learning and behavior, and Nelson et al. (2011) point out differences in facets of digital literacy and competency. Our findings empirically support disciplinary differences in acceptance of technical-mediated teaching between M&A and IS students. We assume a higher acceptance of IS to be a result of the appropriateness of the medium for the subjects' content and the confidence that the content of their lecture can be conveyed technologically, as well as based on general openness toward technology-mediated teaching. The higher acceptance of virtual classroom format might also be a result of the general tendency for people to adopt familiar formats more easily (cf. Janssen et al., 2009) ; that is, in the present case, IS students were more familiar with technologies and virtual environments than M&A students, and, thus, possibly influencing the corresponding acceptance.\", 'cite_spans': [{'start': 621, 'end': 639, 'text': 'Pike et al. (2012)', 'ref_id': 'BIBREF40'}, {'start': 1065, 'end': 1085, 'text': 'Nelson et al. (2011)', 'ref_id': 'BIBREF33'}, {'start': 1711, 'end': 1732, 'text': 'Janssen et al., 2009)', 'ref_id': 'BIBREF23'}], 'ref_spans': [], 'section': 'DISCUSSION OF THE RESULTS'}, {'text': \"To answer the second research question (RQ2), we analyzed differences over time and between the two groups. The results show that this research question was also positively answered: The students' attitudes toward completely technology-mediated teaching changed over time during the COVID-19 semester. Especially in the last month of the semester, a decline in all constructs was apparent for the M&A group. One reason for this finding may be that at this time, the loosening of social isolation had begun, and face-to-face teaching was possible again, clearly demonstrating its advantages for this group compared with completely technology-mediated teaching. A reason for M&A students' perception of technology-mediated teaching as much less suitable for conveying their learning content could be the lack of opportunities for laboratories and studios, audience response (in music and theater), and practical work in technology-mediated teaching, which are a main focus of their curriculum. We assume that the type of knowledge imparted in the curriculum is also responsible for these differences.\", 'cite_spans': [], 'ref_spans': [], 'section': 'DISCUSSION OF THE RESULTS'}, {'text': \"Further, in the context of RQ2, we measured the effect of PE, ATT, and PU on BI separately for both groups using a regression analysis. Even if both groups did not rate the PU as high, the usefulness of technology-mediated teaching did not significantly affect the intentional behavior for any of the months of the survey. PU seemed to be important only for M&A students in the middle of the semester. This could be explained by the fact that at this time, M&A students had gained enough experience and recognized that the contents of their study cannot be transferred properly enough in a technology-mediated teaching environment. The intrinsic factor -enjoyment -however, has a decisive importance, with the remaining strong influencing effect for both groups. Further, the results show that PE was much lower for M&A students. This should be an object of further investigation focusing on variables influencing enjoyment of technology-mediated teaching. To address the special situation during this empirical study, the attitude toward technologymediated teaching was placed in a close relation to the COVID-19 crisis. The effects on BI over time should therefore also be discussed in the context of the crisis. In the middle of the semester, the BI of both groups was significantly affected by the perception of the students regarding the influence of the crisis on the future digitalization of learning processes as well as on the current semester. At the end of the semester, however, IS and M&A students' responses developed in different directionsthe experiences of IS students reduced this significant effect, although for the second group, the effect remained significant at the end. For this group, the lessons learned during the crisis are also more negative.\", 'cite_spans': [], 'ref_spans': [], 'section': 'DISCUSSION OF THE RESULTS'}, {'text': 'Besides the results related to RQ1 and RQ2, we provided results with regard to the TAM, which are in alignment with the results of our main theoretical underlying basis, Lee et al. (2005) as well as Venkatesh and Davis (2000) . Significant effects could be confirmed in TAM core constructs. We identified in contrast to prior research an inverse effect of PEOU on PU. This might be explained by the fact that this was conducted during the COVID-19 situation, not voluntary, and we did not question the use of a specific technology, but rather technology-mediated teaching in general.', 'cite_spans': [{'start': 170, 'end': 187, 'text': 'Lee et al. (2005)', 'ref_id': 'BIBREF28'}, {'start': 199, 'end': 225, 'text': 'Venkatesh and Davis (2000)', 'ref_id': 'BIBREF55'}], 'ref_spans': [], 'section': 'DISCUSSION OF THE RESULTS'}, {'text': \"We identified a change of acceptance over time. Shehzadi et al. (2020) investigated the influence of e-learning of Pakistani public and private university students on their satisfaction in the context of the pandemic. Therein, a positive dependence of students' satisfaction with information and communication technologies, e-service quality, and e-information quality as influencing factors of students' e-learning experience was identified. This implies that specific technologies, the service quality, which is, for example, technological smoothness and a high degree of usability, as well as teacher and teaching characteristics, might also be decisive factors for consideration when (re)designing technology-mediated teaching and learning and, thus, addressing student acceptance.\", 'cite_spans': [{'start': 48, 'end': 70, 'text': 'Shehzadi et al. (2020)', 'ref_id': 'BIBREF52'}], 'ref_spans': [], 'section': 'DISCUSSION OF THE RESULTS'}, {'text': 'We extended prior research introducing the new variables LF, TF, and SI to TAM and showed how they influence the PU of technology-mediated teaching learning. The possibilities to learn from home, save travel time, and access (video-recorded) lectures independently of time and place are universal benefits of technology-mediated teaching and learning that have gained importance under the special conditions of the lockdown period. Thus, it is not surprising that LF and TF were positively related to PU. The effect of LF was identified as significant in June ( Table 6) . TF had a strong effect during the whole lockdown period. Regarding the perceived disadvantages of technologymediated teaching, our results show that SI had a surprisingly positive effect on PU. This could be explained by the situation of the complete lockdown, without alternatives to learning and direct exchange. There is evidence that the willingness to perceive technology-mediated teaching and learning as equivalent to faceto-face teaching and learning is greatest when offered without alternatives (Mehra and Omidian, 2011) . The impact of SI on PU was strongest in the second month of the lockdown. This may be the result of the overall phase characteristics: during the second time, it became clear that the crisis would last longer, but the frustration about the social isolation was not yet too great by comparison.', 'cite_spans': [{'start': 1078, 'end': 1103, 'text': '(Mehra and Omidian, 2011)', 'ref_id': 'BIBREF30'}], 'ref_spans': [{'start': 562, 'end': 570, 'text': 'Table 6)', 'ref_id': 'TABREF6'}], 'section': 'DISCUSSION OF THE RESULTS'}, {'text': 'The results of this study on technology acceptance during the virtual COVID-19 semester in Germany are important in both the short and the long term. We point out three areas of implications: teaching practice and organization, educational technology, and research.', 'cite_spans': [], 'ref_spans': [], 'section': 'IMPLICATIONS FOR TEACHING PRACTICE, EDUCATIONAL TECHNOLOGY AND FURTHER RESEARCH'}, {'text': 'Our study was conducted in a situation of immediate switch from physical presence to technology-mediated teaching. The extreme circumstances were a big challenge; however, they provided important evidence about technology-mediated teaching at universities. In the current course of the pandemic, the fallwinter 20/21 semester is equally or at least partially technologymediated. In this respect, the findings can help improve teaching directly, especially regarding the differences in the perceptions of the subjects of study.', 'cite_spans': [], 'ref_spans': [], 'section': 'Teaching Practice and Organization'}, {'text': \"The differences between the student groups need to be taken into consideration by the teachers when designing virtual teaching and learning environments and conducting teaching. For example, different formats, such as breakout sessions in smaller groups, could be used. Furthermore, specific sensitization to the advantages or necessity of the formats can be applied or the degree of interactivity within the sessions adjusted. To this end, teachers should develop competencies, not only regarding the use of technical tools but also new didactic and methodological skills. Further, the overlap of technological, pedagogical and content knowledge leads to new kinds of interrelated knowledge (Mishra and Koehler, 2006; Archambault and Crippen, 2009; Schmid et al., 2020) , which are gaining importance in the context of teachers' education and professional development. The transfer of knowledge through teaching must not occur in such a way that a single technique implies innovation. It is much more challenging for lecturers to demonstrate their methodological and professional competencies through the use of media in the same way as in face-to-face teaching. The initial experiences during the COVID-19 lockdown have shown both possibilities and limitations. The students' direct feedback is all the more important to better exploit the potential of technology-mediated teaching in the future.\", 'cite_spans': [{'start': 692, 'end': 718, 'text': '(Mishra and Koehler, 2006;', 'ref_id': 'BIBREF31'}, {'start': 719, 'end': 749, 'text': 'Archambault and Crippen, 2009;', 'ref_id': 'BIBREF4'}, {'start': 750, 'end': 770, 'text': 'Schmid et al., 2020)', 'ref_id': 'BIBREF49'}], 'ref_spans': [], 'section': 'Teaching Practice and Organization'}, {'text': 'In the long term, not only direct teaching practices but also the organization of the teaching processes at the universities as a whole should be taken into consideration. Customized approaches, which differ in respective share of online and offline teaching and learning formats, should be considered for students of different subjects. Whereas, for example, IS students are more familiar with virtual environments, it is assumed that they are more likely to accept and manage the switch to fully virtual learning formats. By contrast, M&A students who are generally assumed to be less familiar with virtual environments may show less acceptance of related formats. Moreover, the appropriateness of virtual teaching and learning may also generally vary among subjects. The acceptance of virtual learning formats should not be considered as similar for all students simply referring to their age/generation. We argue for a consideration of their familiarity and competences with related technologies as well as their technological affinity, which varies among subjects. Moreover, we surmise that personal interaction may not be fully substituted through virtual formats. Hybrid teaching forms seem to become most promising for the future of learning and teaching at universities (Vladova et al., 2020) . Therefore, administrative and organizational changes and reorganization of (well established) practices become necessary. These will involve adjustment and further development of the curriculum, stable and trustful technological infrastructure, organization of learning results assessment, as well as the development of a new culture of technology-mediated teaching, including netiquette, behavioral norms, and standards.', 'cite_spans': [{'start': 1279, 'end': 1301, 'text': '(Vladova et al., 2020)', 'ref_id': 'BIBREF58'}], 'ref_spans': [], 'section': 'Teaching Practice and Organization'}, {'text': 'The differences between the student groups clearly show that the use of technologies and the design of technology-mediated teaching offerings should address the specific needs of different study subjects. At the time of the study, communication platforms such as Zoom, Cisco Webex, or Big Blue Button were mainly used for teaching, as well as Moodle as a learning platform for organization of the teaching process. Against this background, the direct user feedback in our study includes important hints for educational technology (EdTech) companies. Currently, these companies mostly focus on the development of learning courses for individual use, pointing out the role of artificial intelligence (AI) and learning analytics. However, the results show the immense importance of the differences in the field of study during the transfer of knowledge in an academic environment. This can be addressed by short-and long-term solutions and may lead to innovative concepts and products, whereby the role of the teacher remains central for the transfer of specific study content. However, students can acquire different content in a completely self-directed and self-organized way. The curriculum of the two groups in our study can be used, among other things, to identify the subject-specific needs of the students.', 'cite_spans': [], 'ref_spans': [], 'section': 'Educational Technology'}, {'text': \"In the long term, the effects of LF, TF, and SI should be empirically tested and investigated by further research in a COVID-19 neutral situation. Furthermore, the changes in the TAM constructs over time refer to the influence of experience within the acceptance model in education. Thus, future research should investigate whether this experience can influence students' habits and, through this, their acceptance of face-to-face teaching. This is relevant for the phase of returning to direct face-to-face teaching after the crisis, but much more in the long term as university teaching becomes increasingly technology-mediated.\", 'cite_spans': [], 'ref_spans': [], 'section': 'Research'}, {'text': 'We also identified implications for further research in the context of knowledge management. The results of the study indicate a relationship between the nature of knowledge transferred during the teaching process and the acceptance of technology-mediated teaching. When the shift to the technologymediated learning environment is considered, the nature of knowledge and how it is transferred comes to the forefront (Vladova et al., 2020) . The knowledge management literature points out the critical distinction between tacit knowledge (person-bound) and explicit knowledge (not person-bound) (Polanyi, 1966) . Whereas explicit knowledge can be transferred in the context of communication processes with the help of numbers, pictures, or language, tacit knowledge is personal and context-specific (Nonaka and Takeuchi, 1995) . Therefore, tacit knowledge is difficult to communicate (Nonaka and Takeuchi, 1995) and can be transferred only partly and by common application and practice. For example, Polanyi (1958, p. 92) posits: \"Although the expert (. . .) can indicate their clues and formulate their maxims, they know many more things than they can tell, knowing them only in practice, as instrumental particulars, and not explicitly, as objects.\"', 'cite_spans': [{'start': 416, 'end': 438, 'text': '(Vladova et al., 2020)', 'ref_id': 'BIBREF58'}, {'start': 594, 'end': 609, 'text': '(Polanyi, 1966)', 'ref_id': 'BIBREF43'}, {'start': 798, 'end': 825, 'text': '(Nonaka and Takeuchi, 1995)', 'ref_id': 'BIBREF36'}, {'start': 883, 'end': 910, 'text': '(Nonaka and Takeuchi, 1995)', 'ref_id': 'BIBREF36'}, {'start': 999, 'end': 1020, 'text': 'Polanyi (1958, p. 92)', 'ref_id': None}], 'ref_spans': [], 'section': 'Research'}, {'text': 'Next, during our data analysis, we found some implications for research on the topic of innovation diffusion (Rogers, 2010) , as IS students can probably be described as early adaptors and M&A students as the late majority. IS-students can thus be used as a test audience as well as ambassadors for a new learning technology solution. Thus, they would have a trendsetting role within universities. Thanks to their high acceptance, new technologies can be tried out without fear of resistance and their advantages can be recognized.', 'cite_spans': [{'start': 109, 'end': 123, 'text': '(Rogers, 2010)', 'ref_id': 'BIBREF48'}], 'ref_spans': [], 'section': 'Research'}, {'text': 'We also believe that our study could be of interest in the interdisciplinary research field, especially in the context of digital-mediated team, net, and project work. At this point, the experiences and needs of M&A students are especially important to explore. Experiments as well as surveys on these types of teamwork in the university context can provide necessary information on how technology-mediated teaching should be appropriately designed for this user group. This necessitates scientific collaboration between work psychologists, computer scientists and educators.', 'cite_spans': [], 'ref_spans': [], 'section': 'Research'}, {'text': 'Although a study of this scale cannot be wholly representative of the entire higher education sector, it has provided views from two different disciplines, that is, M&A as well as IS, on the acceptance of technology-mediated teaching and learning in four universities in Germany. Motivated by the need to understand the underlying drivers of student adoption of digital-mediated learning during the COVID-19 semester, we applied the TAM in a longitudinal study and incorporated three new variables (LF, TF, and SI) influencing PU into the TAM. Furthermore, we identified differences between the subject groups regarding their perceived acceptance of digital-mediated teaching and showed the changes in BI over time for both student groups. We used a validated construct for acceptance. However, as we were aware of the specifics of the situation -social isolation and no alternative to the use of technology -we first tested the hypotheses using our sample.', 'cite_spans': [], 'ref_spans': [], 'section': 'CONCLUSION'}, {'text': \"Our study also has some limitations. First, it was conducted under the special circumstances of complete social isolation in every area of life, which has an influence on the results. Furthermore, we summarized the M&A group in the evaluation without consideration for the differences within it (e.g., music, theater, architecture, visual communication). Given the urgency and the circumstances of the situation of our empirical research context, we furthermore did not have the opportunity to directly examine the organizational situation at the participating universities. However, we included questions about digital platforms and tolls, as well as open-ended questions about students' perceptions of the performance of their teachers. Thus, we addressed organizational and technical issues and their impact on student acceptance. The answers to these questions are not the focus of this paper; however, they will help us to place the model in connection with the specific framework conditions at the universities and to analyze the answers more in depth.\", 'cite_spans': [], 'ref_spans': [], 'section': 'CONCLUSION'}, {'text': \"In following up on our data analysis, our future research will especially address the changes on the individual level over time, further data collection in the current semester (fall-winter 20/21), and the analysis of the gathered qualitative data of the answers to the open-ended questions. These efforts will allow us to gain further information on students' perceptions of technologymediated teaching during the semester.\", 'cite_spans': [], 'ref_spans': [], 'section': 'CONCLUSION'}, {'text': 'The raw data supporting the conclusions of this article will be made available by the authors, without undue reservation.', 'cite_spans': [], 'ref_spans': [], 'section': 'DATA AVAILABILITY STATEMENT'}, {'text': 'Ethical approval was not provided for this study on human participants because this was an anonymous survey, we used the own server for data administration. The participants provided their informed consent to participate in this study.', 'cite_spans': [], 'ref_spans': [], 'section': 'ETHICS STATEMENT'}, {'text': 'GV developed the idea for this empirical research and was involved in all steps of the study and the manuscript preparation. GV and AU prepared the instrument applied in the empirical study. Both prepared a large part of the introduction, theory, and discussion of the results. GV was mainly responsible for the implications, AU for the conclusion. BB carried out the data analysis and described its procedure and results. NG was actively involved in the implementation of the survey and was responsible for the internal review process. All authors contributed to the article and approved the submitted version.', 'cite_spans': [], 'ref_spans': [], 'section': 'AUTHOR CONTRIBUTIONS'}, {'text': 'This work has been partly funded by the Federal Ministry of Education and Research of Germany (BMBF) under grant no. 16DII127 (\"Deutsches Internet-Institut\").', 'cite_spans': [], 'ref_spans': [], 'section': 'FUNDING'}], 'bib_entries': {'BIBREF0': {'ref_id': 'b0', 'title': 'Measuring the acceptance and adoption of E-Learning by academic staff', 'authors': [{'first': 'B', 'middle': ['A'], 'last': 'Al-Alak', 'suffix': ''}, {'first': 'Alnawas', 'middle': [], 'last': '', 'suffix': ''}, {'first': 'I', 'middle': ['A M'], 'last': '', 'suffix': ''}], 'year': 2011, 'venue': 'Knowl. Manage. E-Learn. Int. J', 'volume': '3', 'issn': '', 'pages': '201--221', 'other_ids': {'DOI': ['10.34105/j.kmel.2011.03.016']}}, 'BIBREF1': {'ref_id': 'b1', 'title': 'Investigating the effect of learning styles in a blended e-learning system: an extension of the technology acceptance model (TAM)', 'authors': [{'first': 'A', 'middle': [], 'last': 'Al-Azawei', 'suffix': ''}, {'first': 'P', 'middle': [], 'last': 'Parslow', 'suffix': ''}, {'first': 'K', 'middle': [], 'last': 'Lundqvist', 'suffix': ''}], 'year': 2017, 'venue': 'Austr. J. Educ. Technol', 'volume': '33', 'issn': '2', 'pages': '', 'other_ids': {'DOI': ['10.14742/ajet.2741']}}, 'BIBREF2': {'ref_id': 'b2', 'title': 'e-Learning in the Saudi tertiary education: potential and challenges', 'authors': [{'first': 'K', 'middle': ['A'], 'last': 'Al-Harbi', 'suffix': ''}, {'first': '-S', 'middle': [], 'last': '', 'suffix': ''}], 'year': 2011, 'venue': 'Appl. Comput. Inform', 'volume': '9', 'issn': '', 'pages': '31--46', 'other_ids': {'DOI': ['10.1016/j.aci.2010.03.002']}}, 'BIBREF3': {'ref_id': 'b3', 'title': \"Effects of traditional, blended and e-learning on students' achievement in higher education\", 'authors': [{'first': 'A', 'middle': ['A'], 'last': 'Al-Qahtani', 'suffix': ''}, {'first': 'S', 'middle': ['E'], 'last': 'Higgins', 'suffix': ''}], 'year': 2013, 'venue': 'J. Comput. Assist. Learn', 'volume': '29', 'issn': '', 'pages': '220--234', 'other_ids': {'DOI': ['10.1111/j.1365-2729.2012.00490.x']}}, 'BIBREF4': {'ref_id': 'b4', 'title': 'Examining TPACK among K-12 online distance educators in the United States', 'authors': [{'first': 'L', 'middle': [], 'last': 'Archambault', 'suffix': ''}, {'first': 'K', 'middle': [], 'last': 'Crippen', 'suffix': ''}], 'year': 2009, 'venue': 'Contemp. Issues Technol. Teacher Educ', 'volume': '9', 'issn': '', 'pages': '71--88', 'other_ids': {}}, 'BIBREF5': {'ref_id': 'b5', 'title': 'A learner perspective on barriers to e-learning', 'authors': [{'first': 'K', 'middle': [], 'last': 'Becker', 'suffix': ''}, {'first': 'C', 'middle': [], 'last': 'Newton', 'suffix': ''}, {'first': 'S', 'middle': [], 'last': 'Sawang', 'suffix': ''}], 'year': 2013, 'venue': 'Austr. J. Adult Learn', 'volume': '53', 'issn': '', 'pages': '', 'other_ids': {}}, 'BIBREF6': {'ref_id': 'b6', 'title': 'Implementing and sustaining e-learning in the workplace', 'authors': [{'first': 'Z', 'middle': ['L'], 'last': 'Berge', 'suffix': ''}, {'first': 'Giles', 'middle': [], 'last': '', 'suffix': ''}, {'first': 'L', 'middle': [], 'last': '', 'suffix': ''}], 'year': 2006, 'venue': 'Int. J. Inform. Commun. Technol. Educ. (IJICTE)', 'volume': '2', 'issn': '', 'pages': '64--75', 'other_ids': {'DOI': ['10.4018/jicte.2006100106']}}, 'BIBREF7': {'ref_id': 'b7', 'title': 'Multimedia teaching with video clips: TV, movies, Youtube, and mtvU in the college classroom', 'authors': [{'first': 'R', 'middle': ['A'], 'last': 'Berk', 'suffix': ''}], 'year': 2009, 'venue': 'J. Technol. Teach. Learn', 'volume': '5', 'issn': '', 'pages': '1--21', 'other_ids': {}}, 'BIBREF8': {'ref_id': 'b8', 'title': 'The characteristics of subject matter in different academic areas', 'authors': [{'first': 'A', 'middle': [], 'last': 'Biglan', 'suffix': ''}], 'year': 1973, 'venue': 'J. Appl. Psychol', 'volume': '57', 'issn': '', 'pages': '195--203', 'other_ids': {'DOI': ['10.1037/h0034701']}}, 'BIBREF9': {'ref_id': 'b9', 'title': 'Corporate eLearning: human resource development implications for large and small organizations', 'authors': [{'first': 'L', 'middle': [], 'last': 'Brown', 'suffix': ''}, {'first': 'E', 'middle': [], 'last': 'Murphy', 'suffix': ''}, {'first': 'V', 'middle': [], 'last': 'Wade', 'suffix': ''}], 'year': 2006, 'venue': 'Hum. Resour. Dev. Int', 'volume': '9', 'issn': '', 'pages': '415--427', 'other_ids': {'DOI': ['10.1080/13678860600893607']}}, 'BIBREF10': {'ref_id': 'b10', 'title': 'How learning designs, teaching methods and activities differ by discipline in Australian universities', 'authors': [{'first': 'L', 'middle': [], 'last': 'Cameron', 'suffix': ''}], 'year': 2017, 'venue': 'J. Learn. Design', 'volume': '10', 'issn': '', 'pages': '69--84', 'other_ids': {'DOI': ['10.5204/jld.v10i2.289']}}, 'BIBREF11': {'ref_id': 'b11', 'title': 'Strategic dialogic communication through digital media during COVID-19 crisis', 'authors': [{'first': 'M', 'middle': ['A'], 'last': 'Camilleri', 'suffix': ''}], 'year': 2020, 'venue': 'Strategic Corporate Communication in the Digital Age', 'volume': '', 'issn': '', 'pages': '', 'other_ids': {}}, 'BIBREF12': {'ref_id': 'b12', 'title': 'The net generation in the classroom', 'authors': [{'first': 'S', 'middle': [], 'last': 'Carlson', 'suffix': ''}], 'year': 2005, 'venue': 'Chronicle Higher Educ', 'volume': '52', 'issn': '', 'pages': '34--37', 'other_ids': {}}, 'BIBREF13': {'ref_id': 'b13', 'title': \"Disciplinary differences in what is taught and in students' perceptions of what they learn and of how they are taught\", 'authors': [{'first': 'W', 'middle': ['E'], 'last': 'Cashin', 'suffix': ''}, {'first': 'R', 'middle': ['G'], 'last': 'Downey', 'suffix': ''}], 'year': 1995, 'venue': 'Disciplinary Differences in Teaching and Learning: Implications for Practice', 'volume': '', 'issn': '', 'pages': '81--92', 'other_ids': {'DOI': ['10.1002/tl.37219956412']}}, 'BIBREF14': {'ref_id': 'b14', 'title': \"COVID-19: 20 countries' higher education intra-period digital pedagogy responses\", 'authors': [{'first': 'J', 'middle': [], 'last': 'Crawford', 'suffix': ''}, {'first': 'K', 'middle': [], 'last': 'Butler-Henderson', 'suffix': ''}, {'first': 'J', 'middle': [], 'last': 'Rudolph', 'suffix': ''}, {'first': 'B', 'middle': [], 'last': 'Malkawi', 'suffix': ''}, {'first': 'M', 'middle': [], 'last': 'Glowatz', 'suffix': ''}, {'first': 'R', 'middle': [], 'last': 'Burton', 'suffix': ''}], 'year': 2020, 'venue': 'J. Appl. Learn. Teach', 'volume': '3', 'issn': '', 'pages': '1--20', 'other_ids': {'DOI': ['10.1080/1475939x.2020.1866654']}}, 'BIBREF15': {'ref_id': 'b15', 'title': 'User acceptance of computer technology: a comparison of two theoretical models', 'authors': [{'first': 'F', 'middle': ['D'], 'last': 'Davis', 'suffix': ''}, {'first': 'R', 'middle': ['P'], 'last': 'Bagozzi', 'suffix': ''}, {'first': 'P', 'middle': ['R'], 'last': 'Warshaw', 'suffix': ''}], 'year': 1989, 'venue': 'Manage. Sci', 'volume': '35', 'issn': '', 'pages': '982--1003', 'other_ids': {'DOI': ['10.1287/mnsc.35.8.982']}}, 'BIBREF16': {'ref_id': 'b16', 'title': 'Conceptualizing and measuring the optimal experience of the eLearning environment *', 'authors': [{'first': 'R', 'middle': [], 'last': 'Davis', 'suffix': ''}, {'first': 'D', 'middle': [], 'last': 'Wong', 'suffix': ''}], 'year': 2007, 'venue': 'Decis. Sci. J. Innovat. Educ', 'volume': '5', 'issn': '', 'pages': '97--126', 'other_ids': {'DOI': ['10.1111/j.1540-4609.2007.00129.x']}}, 'BIBREF17': {'ref_id': 'b17', 'title': 'E-learning in organizations', 'authors': [{'first': 'R', 'middle': ['E'], 'last': 'Derouin', 'suffix': ''}, {'first': 'B', 'middle': ['A'], 'last': 'Fritzsche', 'suffix': ''}, {'first': 'E', 'middle': [], 'last': 'Salas', 'suffix': ''}], 'year': 2005, 'venue': 'J. Manage', 'volume': '31', 'issn': '', 'pages': '920--940', 'other_ids': {'DOI': ['10.1177/0149206305279815']}}, 'BIBREF18': {'ref_id': 'b18', 'title': 'E-learning: your flexible development friend?', 'authors': [{'first': 'A', 'middle': [], 'last': 'Gimson', 'suffix': ''}, {'first': 'J', 'middle': [], 'last': 'Bell', 'suffix': ''}], 'year': 2007, 'venue': 'Dev. Learn. Organ. Int. J', 'volume': '21', 'issn': '', 'pages': '7--9', 'other_ids': {'DOI': ['10.1108/14777280710828558']}}, 'BIBREF19': {'ref_id': 'b19', 'title': 'Effective e-learning integration with traditional learning in a blended learning environment', 'authors': [{'first': 'S', 'middle': [], 'last': 'Hameed', 'suffix': ''}, {'first': 'A', 'middle': [], 'last': 'Badii', 'suffix': ''}, {'first': 'A', 'middle': ['J'], 'last': 'Cullen', 'suffix': ''}], 'year': 2008, 'venue': 'Proceedings of the European and Mediterranean Conference on Information Systems', 'volume': '', 'issn': '', 'pages': '25--26', 'other_ids': {}}, 'BIBREF20': {'ref_id': 'b20', 'title': 'Comparing apples and oranges: toward a typology for assessing e-learning effectiveness', 'authors': [{'first': 'N', 'middle': ['S'], 'last': 'Hill', 'suffix': ''}, {'first': 'K', 'middle': [], 'last': 'Wouters', 'suffix': ''}], 'year': 2010, 'venue': 'Res. Pers. Hum. Resour. Manage', 'volume': '29', 'issn': '', 'pages': '', 'other_ids': {'DOI': ['10.1108/s0742-7301(2010)0000029008']}}, 'BIBREF21': {'ref_id': 'b21', 'title': 'Millennials Rising: The Next Great Generation', 'authors': [{'first': 'N', 'middle': [], 'last': 'Howe', 'suffix': ''}], 'year': 2000, 'venue': '', 'volume': '', 'issn': '', 'pages': '', 'other_ids': {}}, 'BIBREF22': {'ref_id': 'b22', 'title': 'Examining the technology acceptance model using physician acceptance of telemedicine technology', 'authors': [{'first': 'P', 'middle': ['J'], 'last': 'Hu', 'suffix': ''}, {'first': 'P', 'middle': ['Y'], 'last': 'Chau', 'suffix': ''}, {'first': 'O', 'middle': ['R L'], 'last': 'Sheng', 'suffix': ''}, {'first': 'K', 'middle': ['Y'], 'last': 'Tam', 'suffix': ''}], 'year': 1999, 'venue': 'J. Manage. Inform. Syst', 'volume': '16', 'issn': '', 'pages': '91--112', 'other_ids': {'DOI': ['10.1080/07421222.1999.11518247']}}, 'BIBREF23': {'ref_id': 'b23', 'title': 'Influence of group member familiarity on online collaborative learning', 'authors': [{'first': 'J', 'middle': [], 'last': 'Janssen', 'suffix': ''}, {'first': 'G', 'middle': [], 'last': 'Erkens', 'suffix': ''}, {'first': 'P', 'middle': ['A'], 'last': 'Kirschner', 'suffix': ''}, {'first': 'G', 'middle': [], 'last': 'Kanselaar', 'suffix': ''}], 'year': 2009, 'venue': 'Comput. Hum. Behav', 'volume': '25', 'issn': '', 'pages': '161--170', 'other_ids': {'DOI': ['10.1016/j.chb.2008.08.010']}}, 'BIBREF24': {'ref_id': 'b24', 'title': 'Effects of virtual education on academic culture: perceived advantages and disadvantages', 'authors': [{'first': 'R', 'middle': ['N'], 'last': 'Jefferson', 'suffix': ''}, {'first': 'Arnold', 'middle': [], 'last': '', 'suffix': ''}, {'first': 'L', 'middle': ['W'], 'last': '', 'suffix': ''}], 'year': 2009, 'venue': 'Online Subm', 'volume': '6', 'issn': '', 'pages': '61--66', 'other_ids': {}}, 'BIBREF25': {'ref_id': 'b25', 'title': 'Net generation or digital natives: is there a distinct new generation entering university?', 'authors': [{'first': 'C', 'middle': [], 'last': 'Jones', 'suffix': ''}, {'first': 'R', 'middle': [], 'last': 'Ramanau', 'suffix': ''}, {'first': 'S', 'middle': [], 'last': 'Cross', 'suffix': ''}, {'first': 'G', 'middle': [], 'last': 'Healing', 'suffix': ''}], 'year': 2010, 'venue': 'Comput. Educ', 'volume': '54', 'issn': '', 'pages': '722--732', 'other_ids': {'DOI': ['10.1016/j.compedu.2009.09.022']}}, 'BIBREF26': {'ref_id': 'b26', 'title': \"Towards an understanding of university students' response in times of pandemic crisis (COVID-19)\", 'authors': [{'first': 'I', 'middle': [], 'last': 'Kamarianos', 'suffix': ''}, {'first': 'A', 'middle': [], 'last': 'Adamopoulou', 'suffix': ''}, {'first': 'H', 'middle': [], 'last': 'Lambropoulos', 'suffix': ''}, {'first': 'G', 'middle': [], 'last': 'Stamelos', 'suffix': ''}], 'year': 2020, 'venue': 'Eur. J. Educ. Stud', 'volume': '7', 'issn': '', 'pages': '', 'other_ids': {'DOI': ['10.46827/ejes.v7i7.3149']}}, 'BIBREF27': {'ref_id': 'b27', 'title': 'Teaching at the times of COVID-19: inferences and implications for higher education pedagogy', 'authors': [{'first': 'T', 'middle': [], 'last': 'Karalis', 'suffix': ''}, {'first': 'N', 'middle': [], 'last': 'Raikou', 'suffix': ''}], 'year': 2020, 'venue': 'Int. J. Acad. Res. Bus. Soc. Sci', 'volume': '10', 'issn': '', 'pages': '', 'other_ids': {'DOI': ['10.6007/IJARBSS/v10-i5/7219']}}, 'BIBREF28': {'ref_id': 'b28', 'title': 'Acceptance of internet-based learning medium: the role of extrinsic and intrinsic motivation', 'authors': [{'first': 'M', 'middle': ['K'], 'last': 'Lee', 'suffix': ''}, {'first': 'C', 'middle': ['M'], 'last': 'Cheung', 'suffix': ''}, {'first': 'Chen', 'middle': [], 'last': '', 'suffix': ''}, {'first': 'Z', 'middle': [], 'last': '', 'suffix': ''}], 'year': 2005, 'venue': 'Inform. Manage', 'volume': '42', 'issn': '', 'pages': '1095--1104', 'other_ids': {'DOI': ['10.1016/j.im.2003.10.007']}}, 'BIBREF29': {'ref_id': 'b29', 'title': \"Applying the technology acceptance model and flow theory to online e-learning users' acceptance behaviour\", 'authors': [{'first': 'S.-H', 'middle': [], 'last': 'Liu', 'suffix': ''}, {'first': 'H.-L', 'middle': [], 'last': 'Liao', 'suffix': ''}, {'first': 'C.-J', 'middle': [], 'last': 'Peng', 'suffix': ''}], 'year': 2005, 'venue': 'Issues Inform. Syst', 'volume': '2', 'issn': '', 'pages': '', 'other_ids': {}}, 'BIBREF30': {'ref_id': 'b30', 'title': \"Examining students' attitudes towards E-learning: a case from India\", 'authors': [{'first': 'V', 'middle': [], 'last': 'Mehra', 'suffix': ''}, {'first': 'F', 'middle': [], 'last': 'Omidian', 'suffix': ''}], 'year': 2011, 'venue': 'Malays. J. Educ. Technol', 'volume': '11', 'issn': '2', 'pages': '', 'other_ids': {}}, 'BIBREF31': {'ref_id': 'b31', 'title': 'Technological pedagogical content knowledge: a framework for teacher knowledge. Teachers College Rec', 'authors': [{'first': 'P', 'middle': [], 'last': 'Mishra', 'suffix': ''}, {'first': 'M', 'middle': ['J'], 'last': 'Koehler', 'suffix': ''}], 'year': 2006, 'venue': '', 'volume': '108', 'issn': '', 'pages': '1017--1054', 'other_ids': {'DOI': ['10.1111/j.1467-9620.2006.00684.x']}}, 'BIBREF32': {'ref_id': 'b32', 'title': \"Investigating users' perspectives on e-learning: an integration of TAM and IS success model\", 'authors': [{'first': 'H', 'middle': [], 'last': 'Mohammadi', 'suffix': ''}], 'year': 2015, 'venue': 'Comput. Hum. Behav', 'volume': '45', 'issn': '', 'pages': '359--374', 'other_ids': {'DOI': ['10.1016/j.chb.2014.07.044']}}, 'BIBREF33': {'ref_id': 'b33', 'title': 'An investigation of digital literacy needs of students', 'authors': [{'first': 'K', 'middle': [], 'last': 'Nelson', 'suffix': ''}, {'first': 'M', 'middle': [], 'last': 'Courier', 'suffix': ''}, {'first': 'Joseph', 'middle': [], 'last': '', 'suffix': ''}, {'first': 'G', 'middle': ['W'], 'last': '', 'suffix': ''}], 'year': 2011, 'venue': 'J. Inform. Syst. Educ', 'volume': '22', 'issn': '', 'pages': '95--110', 'other_ids': {}}, 'BIBREF34': {'ref_id': 'b34', 'title': 'Disciplinary differences and university teaching', 'authors': [{'first': 'R', 'middle': [], 'last': 'Neumann', 'suffix': ''}], 'year': 2001, 'venue': 'Stud. High. Educ', 'volume': '26', 'issn': '', 'pages': '135--146', 'other_ids': {'DOI': ['10.1080/03075070120052071']}}, 'BIBREF35': {'ref_id': 'b35', 'title': 'Teaching and learning in their disciplinary contexts: a conceptual analysis', 'authors': [{'first': 'R', 'middle': [], 'last': 'Neumann', 'suffix': ''}, {'first': 'S', 'middle': [], 'last': 'Parry', 'suffix': ''}, {'first': 'T', 'middle': [], 'last': 'Becher', 'suffix': ''}], 'year': 2002, 'venue': 'Stud. High. Educ', 'volume': '27', 'issn': '', 'pages': '405--417', 'other_ids': {'DOI': ['10.1080/0307507022000011525']}}, 'BIBREF36': {'ref_id': 'b36', 'title': 'The Knowledge Creating Company -How Japanese Companies Create the Dynamic Innovation', 'authors': [{'first': 'I', 'middle': [], 'last': 'Nonaka', 'suffix': ''}, {'first': 'H', 'middle': [], 'last': 'Takeuchi', 'suffix': ''}], 'year': 1995, 'venue': '', 'volume': '', 'issn': '', 'pages': '', 'other_ids': {}}, 'BIBREF37': {'ref_id': 'b37', 'title': 'The digital/technological connection with COVID-19: an unprecedented challenge in University teaching', 'authors': [{'first': 'S', 'middle': [], 'last': 'Nuere', 'suffix': ''}, {'first': 'L', 'middle': [], 'last': 'De Miguel', 'suffix': ''}], 'year': 2020, 'venue': 'Technol. Knowl. Learn', 'volume': '', 'issn': '', 'pages': '', 'other_ids': {'DOI': ['10.1007/s10758-020-09454-6']}}, 'BIBREF38': {'ref_id': 'b38', 'title': 'The impact of Covid-19 on learning-the perspective of the Ghanaian student', 'authors': [{'first': 'C', 'middle': [], 'last': 'Owusu-Fordjour', 'suffix': ''}, {'first': 'C', 'middle': ['K'], 'last': 'Koomson', 'suffix': ''}, {'first': 'Hanson', 'middle': [], 'last': '', 'suffix': ''}, {'first': 'D', 'middle': [], 'last': '', 'suffix': ''}], 'year': 2020, 'venue': 'Eur. J. Educ. Stud', 'volume': '7', 'issn': '', 'pages': '88--101', 'other_ids': {}}, 'BIBREF39': {'ref_id': 'b39', 'title': \"An analysis of the technology acceptance model in understanding University students' behavioral intention to use e-Learning\", 'authors': [{'first': 'S', 'middle': ['Y'], 'last': 'Park', 'suffix': ''}], 'year': 2009, 'venue': 'J. Educ. Technol. Society', 'volume': '12', 'issn': '', 'pages': '150--162', 'other_ids': {}}, 'BIBREF40': {'ref_id': 'b40', 'title': \"The mediating effects of student engagement on the relationships between academic disciplines and learning outcomes: an extension of Holland's theory\", 'authors': [{'first': 'G', 'middle': ['R'], 'last': 'Pike', 'suffix': ''}, {'first': 'J', 'middle': ['C'], 'last': 'Smart', 'suffix': ''}, {'first': 'C', 'middle': ['A'], 'last': 'Ethington', 'suffix': ''}], 'year': 2012, 'venue': 'Res. High. Educ', 'volume': '53', 'issn': '', 'pages': '550--575', 'other_ids': {'DOI': ['10.1007/s11162-011-9239-y']}}, 'BIBREF41': {'ref_id': 'b41', 'title': 'The influence of system characteristics on e-learning use', 'authors': [{'first': 'K', 'middle': ['A'], 'last': 'Pituch', 'suffix': ''}, {'first': 'Y', 'middle': [], 'last': 'Lee', 'suffix': ''}], 'year': 2006, 'venue': 'Comput. Educ', 'volume': '47', 'issn': '', 'pages': '222--244', 'other_ids': {'DOI': ['10.1016/j.compedu.2004.10.007']}}, 'BIBREF42': {'ref_id': 'b42', 'title': 'Personal Knowledge: Towards a Post-Critical Philosophy', 'authors': [{'first': 'M', 'middle': [], 'last': 'Polanyi', 'suffix': ''}], 'year': 1958, 'venue': '', 'volume': '1', 'issn': '', 'pages': '', 'other_ids': {}}, 'BIBREF43': {'ref_id': 'b43', 'title': 'The Tacit Dimension', 'authors': [{'first': 'M', 'middle': [], 'last': 'Polanyi', 'suffix': ''}], 'year': 1966, 'venue': '', 'volume': '', 'issn': '', 'pages': '', 'other_ids': {}}, 'BIBREF44': {'ref_id': 'b44', 'title': \"Predicting secondary school teachers' acceptance and use of a digital learning environment: a cross-sectional study\", 'authors': [{'first': 'B', 'middle': [], 'last': 'Pynoo', 'suffix': ''}, {'first': 'P', 'middle': [], 'last': 'Devolder', 'suffix': ''}, {'first': 'J', 'middle': [], 'last': 'Tondeur', 'suffix': ''}, {'first': 'J', 'middle': [], 'last': 'Van Braak', 'suffix': ''}, {'first': 'W', 'middle': [], 'last': 'Duyck', 'suffix': ''}, {'first': 'P', 'middle': [], 'last': 'Duyck', 'suffix': ''}], 'year': 2011, 'venue': 'Comput. Hum. Behav', 'volume': '27', 'issn': '', 'pages': '568--575', 'other_ids': {'DOI': ['10.1016/j.chb.2010.10.005']}}, 'BIBREF45': {'ref_id': 'b45', 'title': 'Data mining and analysis of scientific research data records on Covid-19 mortality, immunity, and vaccine development-In the first wave of the Covid-19 pandemic', 'authors': [{'first': 'P', 'middle': [], 'last': 'Radanliev', 'suffix': ''}, {'first': 'D', 'middle': [], 'last': 'De Roure', 'suffix': ''}, {'first': 'Walton', 'middle': [], 'last': '', 'suffix': ''}, {'first': 'R', 'middle': [], 'last': '', 'suffix': ''}], 'year': 2020, 'venue': 'Diabetes Metab. Syndr. Clin. Res. Rev', 'volume': '14', 'issn': '', 'pages': '1121--1132', 'other_ids': {'DOI': ['10.1016/j.dsx.2020.06.063']}}, 'BIBREF46': {'ref_id': 'b46', 'title': 'COVID-19 what have we learned? The rise of social machines and connected devices in pandemic management following the concepts of predictive, preventive and personalized medicine', 'authors': [{'first': 'P', 'middle': [], 'last': 'Radanliev', 'suffix': ''}, {'first': 'D', 'middle': [], 'last': 'De Roure', 'suffix': ''}, {'first': 'R', 'middle': [], 'last': 'Walton', 'suffix': ''}, {'first': 'M', 'middle': [], 'last': 'Van Kleek', 'suffix': ''}, {'first': 'R', 'middle': ['M'], 'last': 'Montalvo', 'suffix': ''}, {'first': 'O', 'middle': [], 'last': 'Santos', 'suffix': ''}], 'year': 2020, 'venue': 'EPMA J', 'volume': '11', 'issn': '', 'pages': '311--332', 'other_ids': {'DOI': ['10.1007/s13167-020-00218-x']}}, 'BIBREF47': {'ref_id': 'b47', 'title': 'The real versus the possible: closing the gaps in engagement and learning', 'authors': [{'first': 'J', 'middle': ['A'], 'last': 'Ramaley', 'suffix': ''}, {'first': 'Zia', 'middle': [], 'last': '', 'suffix': ''}, {'first': 'L', 'middle': [], 'last': '', 'suffix': ''}], 'year': 2005, 'venue': '', 'volume': '', 'issn': '', 'pages': '', 'other_ids': {}}, 'BIBREF48': {'ref_id': 'b48', 'title': 'Diffusion of Innovations', 'authors': [{'first': 'E', 'middle': ['M'], 'last': 'Rogers', 'suffix': ''}], 'year': 2010, 'venue': '', 'volume': '', 'issn': '', 'pages': '', 'other_ids': {}}, 'BIBREF49': {'ref_id': 'b49', 'title': 'Developing a short assessment instrument for technological pedagogical content knowledge (TPACK. xs) and comparing the factor structure of an integrative and a transformative model', 'authors': [{'first': 'M', 'middle': [], 'last': 'Schmid', 'suffix': ''}, {'first': 'E', 'middle': [], 'last': 'Brianza', 'suffix': ''}, {'first': 'D', 'middle': [], 'last': 'Petko', 'suffix': ''}], 'year': 2020, 'venue': 'Comput. Educ', 'volume': '157', 'issn': '', 'pages': '', 'other_ids': {'DOI': ['10.1016/j.compedu.2020.103967']}}, 'BIBREF50': {'ref_id': 'b50', 'title': 'An empirical investigation of student acceptance of course websites', 'authors': [{'first': 'H', 'middle': ['M'], 'last': 'Selim', 'suffix': ''}], 'year': 2003, 'venue': 'Comput. Educ', 'volume': '40', 'issn': '', 'pages': '343--360', 'other_ids': {'DOI': ['10.1016/S0360-1315(02)00142-2']}}, 'BIBREF51': {'ref_id': 'b51', 'title': 'The technological impact of COVID-19 on the future of education and health care delivery', 'authors': [{'first': 'S', 'middle': [], 'last': 'Shah', 'suffix': ''}, {'first': 'S', 'middle': [], 'last': 'Diwan', 'suffix': ''}, {'first': 'L', 'middle': [], 'last': 'Kohan', 'suffix': ''}, {'first': 'D', 'middle': [], 'last': 'Rosenblum', 'suffix': ''}, {'first': '', 'middle': [], 'last': 'Gharibo', 'suffix': ''}, {'first': '', 'middle': [], 'last': 'Ch', 'suffix': ''}, {'first': 'A', 'middle': [], 'last': 'Soin', 'suffix': ''}], 'year': 2020, 'venue': 'Pain Physician', 'volume': '23', 'issn': '', 'pages': '367--380', 'other_ids': {}}, 'BIBREF52': {'ref_id': 'b52', 'title': \"The role of digital learning toward students' satisfaction and university brand image at educational institutes of Pakistan: a post-effect of COVID-19\", 'authors': [{'first': 'S', 'middle': [], 'last': 'Shehzadi', 'suffix': ''}, {'first': 'Q', 'middle': ['A'], 'last': 'Nisar', 'suffix': ''}, {'first': 'M', 'middle': ['S'], 'last': 'Hussain', 'suffix': ''}, {'first': 'M', 'middle': ['F'], 'last': 'Basheer', 'suffix': ''}, {'first': 'W', 'middle': ['U'], 'last': 'Hameed', 'suffix': ''}, {'first': 'N', 'middle': ['I'], 'last': 'Chaudhry', 'suffix': ''}], 'year': 2020, 'venue': 'Asian Educ. Dev. Stud', 'volume': '', 'issn': '', 'pages': '', 'other_ids': {'DOI': ['10.1108/AEDS-04-2020-0063']}}, 'BIBREF53': {'ref_id': 'b53', 'title': 'A meta-analysis of e-learning technology acceptance: the role of user types and e-learning technology types', 'authors': [{'first': 'B', 'middle': [], 'last': 'Šumak', 'suffix': ''}, {'first': 'M', 'middle': [], 'last': 'Heričko', 'suffix': ''}, {'first': 'M', 'middle': [], 'last': 'Pušnik', 'suffix': ''}], 'year': 2011, 'venue': 'Comput. Hum. Behav', 'volume': '27', 'issn': '', 'pages': '2067--2077', 'other_ids': {'DOI': ['10.1016/j.chb.2011.08.005']}}, 'BIBREF54': {'ref_id': 'b54', 'title': \"Extending the TAM model to empirically investigate the students' behavioural intention to use e-learning in developing countries\", 'authors': [{'first': 'A', 'middle': [], 'last': 'Tarhini', 'suffix': ''}, {'first': 'K', 'middle': [], 'last': 'Hone', 'suffix': ''}, {'first': 'X', 'middle': [], 'last': 'Liu', 'suffix': ''}], 'year': 2013, 'venue': 'Sci. Inform. Conf', 'volume': '', 'issn': '', 'pages': '732--737', 'other_ids': {}}, 'BIBREF55': {'ref_id': 'b55', 'title': 'A theoretical extension of the technology acceptance model: four longitudinal field studies', 'authors': [{'first': 'V', 'middle': [], 'last': 'Venkatesh', 'suffix': ''}, {'first': 'F', 'middle': ['D'], 'last': 'Davis', 'suffix': ''}], 'year': 2000, 'venue': 'Manage. Sci', 'volume': '46', 'issn': '', 'pages': '186--204', 'other_ids': {'DOI': ['10.1287/mnsc.46.2.186.11926']}}, 'BIBREF56': {'ref_id': 'b56', 'title': 'User acceptance of information technology: toward a unified view', 'authors': [{'first': 'V', 'middle': [], 'last': 'Venkatesh', 'suffix': ''}, {'first': 'M', 'middle': ['G'], 'last': 'Morris', 'suffix': ''}, {'first': 'G', 'middle': ['B'], 'last': 'Davis', 'suffix': ''}, {'first': 'F', 'middle': ['D'], 'last': 'Davis', 'suffix': ''}], 'year': 2003, 'venue': 'MIS Q', 'volume': '27', 'issn': '', 'pages': '425--478', 'other_ids': {'DOI': ['10.2307/30036540']}}, 'BIBREF57': {'ref_id': 'b57', 'title': 'Consumer acceptance and use of information technology: extending the unified theory of acceptance and use of technology', 'authors': [{'first': 'V', 'middle': [], 'last': 'Venkatesh', 'suffix': ''}, {'first': 'J', 'middle': ['Y'], 'last': 'Thong', 'suffix': ''}, {'first': 'X', 'middle': [], 'last': 'Xu', 'suffix': ''}], 'year': 2012, 'venue': 'MIS Q', 'volume': '36', 'issn': '', 'pages': '157--178', 'other_ids': {'DOI': ['10.2307/41410412']}}, 'BIBREF58': {'ref_id': 'b58', 'title': 'A critical review of the COVID-19 semester', 'authors': [{'first': 'G', 'middle': [], 'last': 'Vladova', 'suffix': ''}, {'first': 'A', 'middle': [], 'last': 'Ullrich', 'suffix': ''}, {'first': 'B', 'middle': [], 'last': 'Bender', 'suffix': ''}, {'first': 'N', 'middle': [], 'last': 'Gronau', 'suffix': ''}], 'year': 2020, 'venue': 'Proceedings of the TECH-EDU Conference Series', 'volume': '', 'issn': '', 'pages': '', 'other_ids': {}}, 'BIBREF59': {'ref_id': 'b59', 'title': \"Students' performance in blended learning: disciplinary difference and instructional design factors\", 'authors': [{'first': 'M', 'middle': ['H'], 'last': 'Vo', 'suffix': ''}, {'first': 'C', 'middle': [], 'last': 'Zhu', 'suffix': ''}, {'first': 'A', 'middle': ['N'], 'last': 'Diep', 'suffix': ''}], 'year': 2020, 'venue': 'J. Comput. Educ', 'volume': '7', 'issn': '', 'pages': '487--510', 'other_ids': {'DOI': ['10.1007/s40692-020-00164-7']}}, 'BIBREF60': {'ref_id': 'b60', 'title': 'COVID-19 and digital disruption in UK universities: afflictions and affordances of emergency online migration', 'authors': [{'first': 'R', 'middle': [], 'last': 'Watermeyer', 'suffix': ''}, {'first': 'T', 'middle': [], 'last': 'Crick', 'suffix': ''}, {'first': 'C', 'middle': [], 'last': 'Knight', 'suffix': ''}, {'first': 'J', 'middle': [], 'last': 'Goodall', 'suffix': ''}], 'year': 2020, 'venue': '', 'volume': '', 'issn': '', 'pages': '', 'other_ids': {'DOI': ['10.1007/s10734-020-00561-y']}}, 'BIBREF61': {'ref_id': 'b61', 'title': 'Elearning: emerging uses, empirical results and future directions', 'authors': [{'first': 'E', 'middle': ['T'], 'last': 'Welsh', 'suffix': ''}, {'first': 'C', 'middle': ['R'], 'last': 'Wanberg', 'suffix': ''}, {'first': 'K', 'middle': ['G'], 'last': 'Brown', 'suffix': ''}, {'first': 'M', 'middle': ['J'], 'last': 'Simmering', 'suffix': ''}], 'year': 2003, 'venue': 'Int. J. Train. Dev', 'volume': '7', 'issn': '', 'pages': '245--258', 'other_ids': {'DOI': ['10.1046/j.1360-3736.2003.00184.x']}}, 'BIBREF62': {'ref_id': 'b62', 'title': 'Performance gaps between online and face-to-face courses: differences across types of students and academic subject areas', 'authors': [{'first': 'D', 'middle': [], 'last': 'Xu', 'suffix': ''}, {'first': 'S', 'middle': ['S'], 'last': 'Jaggars', 'suffix': ''}], 'year': 2014, 'venue': 'J. High. Educ', 'volume': '85', 'issn': '', 'pages': '633--659', 'other_ids': {'DOI': ['10.1080/00221546.2014.11777343']}}, 'BIBREF63': {'ref_id': 'b63', 'title': \"Students' technology acceptance, motivation and self-efficacy towards the eSchoolbag: an exploratory study\", 'authors': [{'first': 'J', 'middle': [], 'last': 'Zheng', 'suffix': ''}, {'first': 'S', 'middle': [], 'last': 'Li', 'suffix': ''}, {'first': 'Y', 'middle': [], 'last': 'Zheng', 'suffix': ''}], 'year': 2017, 'venue': 'Int. J. Infonomics', 'volume': '10', 'issn': '', 'pages': '1350--1358', 'other_ids': {'DOI': ['10.20533/iji.1742.4712.2017.0165']}}, 'BIBREF64': {'ref_id': 'b64', 'title': 'Conflict of Interest: The authors declare that the research was conducted in the absence of any commercial or financial relationships that could be construed as a potential conflict of interest', 'authors': [], 'year': None, 'venue': '', 'volume': '', 'issn': '', 'pages': '', 'other_ids': {}}, 'BIBREF65': {'ref_id': 'b65', 'title': 'This is an open-access article distributed under the terms of the Creative Commons Attribution License (CC BY). The use, distribution or reproduction in other forums is permitted, provided the original author(s) and the copyright owner(s) are credited and that the original publication in this journal is cited', 'authors': [{'first': 'Ullrich', 'middle': [], 'last': 'Vladova', 'suffix': ''}, {'first': 'Gronau', 'middle': [], 'last': 'Bender', 'suffix': ''}], 'year': None, 'venue': 'Copyright © 2021', 'volume': '', 'issn': '', 'pages': '', 'other_ids': {}}}, 'ref_entries': {'FIGREF0': {'text': 'Research model (adapted fromLee et al., 2005).', 'latex': None, 'type': 'figure'}, 'FIGREF1': {'text': 'Behavioral intention between subject groups and over time.', 'latex': None, 'type': 'figure'}, 'FIGREF2': {'text': 'Perceived usefulness of technology-mediated teaching over time.Frontiers in Psychology | www.frontiersin.org', 'latex': None, 'type': 'figure'}, 'FIGREF3': {'text': 'Perceived ease of use of technology-mediated teaching over time.', 'latex': None, 'type': 'figure'}, 'FIGREF4': {'text': 'Perceived enjoyment of technology-mediated teaching over time.', 'latex': None, 'type': 'figure'}, 'TABREF0': {'text': 'Previous research related to TAM in e-learning.', 'latex': None, 'type': 'table'}, 'TABREF1': {'text': 'Measurement scale.', 'latex': None, 'type': 'table'}, 'TABREF2': {'text': 'Descriptive information on model constructs.', 'latex': None, 'type': 'table'}, 'TABREF3': {'text': 'Assessment of construct reliability.', 'latex': None, 'type': 'table'}, 'TABREF4': {'text': 'Summary of hypothesis tests.', 'latex': None, 'type': 'table'}, 'TABREF5': {'text': 'depicts the test results for the model constructs.', 'latex': None, 'type': 'table'}, 'TABREF6': {'text': 'TAM regression explaining perceived usefulness.', 'latex': None, 'type': 'table'}, 'TABREF7': {'text': 'Identified differences in the perception between the students.', 'latex': None, 'type': 'table'}, 'TABREF8': {'text': 'TAM regression results explaining BI.', 'latex': None, 'type': 'table'}}, 'back_matter': [{'text': 'The authors would like to thank Professor Sascha Friesike, Dr. Olga Abramova and Dr. André Renz for their helpful feedback and comments during the preparation of the study and the manuscript. The authors, however, bear full responsibility for the paper.', 'cite_spans': [], 'ref_spans': [], 'section': 'ACKNOWLEDGMENTS'}, {'text': 'ATTACHMENT 1 H1: There is a positive relationship between perceived ease of use and perceived usefulness. H2: There is a positive relationship between perceived ease of use and attitude. H3: There is a positive relationship between perceived usefulness and attitude. H4: There is a positive relationship between perceived enjoyment and attitude. H5: There is a positive relationship between perceived ease of use and perceived enjoyment. H6: There is a positive relationship between attitude and behavioral intention. H7: There is a positive relationship between perceived enjoyment and behavioral intention. H8: There is a positive relationship between perceived usefulness and behavioral intention.', 'cite_spans': [], 'ref_spans': [], 'section': 'annex'}]}\n"
     ]
    }
   ],
   "source": [
    "with open(all_json_pdf[0]) as f:\n",
    "    content = json.load(f)\n",
    "print(content)"
   ]
  },
  {
   "cell_type": "code",
   "execution_count": 22,
   "id": "e1bfd9ee",
   "metadata": {
    "id": "e1bfd9ee"
   },
   "outputs": [],
   "source": [
    "#Class to extract paper id, abstract and body from research papers\n",
    "class FileReader:\n",
    "    def __init__(self, file_path):\n",
    "        with open(file_path) as file:\n",
    "            content = json.load(file)\n",
    "            self.paper_id = content['paper_id']\n",
    "            self.abstract = \"$$$\".join([each['text']  for each in content.get('abstract', [])])\n",
    "            self.body_text = \"$$$\".join([each['text']  for each in content['body_text']])\n",
    "    def __repr__(self):\n",
    "        return f'{self.paper_id}:\\nabstract:  {self.abstract[:200]}\\nbody:  {self.body_text[:200]}...'"
   ]
  },
  {
   "cell_type": "code",
   "execution_count": 23,
   "id": "d2539a02",
   "metadata": {
    "id": "d2539a02",
    "outputId": "6eabc3e0-6cd7-4290-9002-7849e72020e4"
   },
   "outputs": [
    {
     "name": "stdout",
     "output_type": "stream",
     "text": [
      "261a1408be03a4ba06ce2fef3c6775fecb60e167:\n",
      "abstract:  In response to the impending spread of COVID-19, universities worldwide abruptly stopped face-to-face teaching and switched to technology-mediated teaching. As a result, the use of technology in the l\n",
      "body:  Digital technologies have provided support in diverse policy, business, and societal application areas in the COVID-19 outbreak, such as pandemic management (Radanliev et al., 2020b) , corporate commu...\n"
     ]
    }
   ],
   "source": [
    "#showing a sample research paper from pdf json folder\n",
    "first_row = FileReader(all_json_pdf[0])\n",
    "print(first_row)"
   ]
  },
  {
   "cell_type": "code",
   "execution_count": 24,
   "id": "e66e4bd7",
   "metadata": {
    "id": "e66e4bd7",
    "outputId": "146b7762-1063-4d7f-af4c-7b8213f6432c"
   },
   "outputs": [
    {
     "name": "stderr",
     "output_type": "stream",
     "text": [
      "296378it [08:22, 589.97it/s] \n"
     ]
    },
    {
     "name": "stdout",
     "output_type": "stream",
     "text": [
      "502.6207449436188\n"
     ]
    }
   ],
   "source": [
    "#Create a dictionary of all research papers from pdf json\n",
    "#dict_ = {'paper_id': [], 'abstract': [],'body_text': []}\n",
    "t1 = time.time()\n",
    "for idx, entry in tqdm(enumerate(all_json_pdf)):\n",
    "    content = FileReader(entry)\n",
    "    dict_['paper_id'].append(content.paper_id)\n",
    "    dict_['abstract'].append(content.abstract)\n",
    "    dict_['body_text'].append(content.body_text)\n",
    "print(time.time() - t1)"
   ]
  },
  {
   "cell_type": "code",
   "execution_count": 26,
   "id": "50301fe1",
   "metadata": {
    "id": "50301fe1",
    "outputId": "9e3408a5-ea50-4f2a-8fb6-67480cdd13d1"
   },
   "outputs": [
    {
     "data": {
      "text/html": [
       "<div>\n",
       "<style scoped>\n",
       "    .dataframe tbody tr th:only-of-type {\n",
       "        vertical-align: middle;\n",
       "    }\n",
       "\n",
       "    .dataframe tbody tr th {\n",
       "        vertical-align: top;\n",
       "    }\n",
       "\n",
       "    .dataframe thead th {\n",
       "        text-align: right;\n",
       "    }\n",
       "</style>\n",
       "<table border=\"1\" class=\"dataframe\">\n",
       "  <thead>\n",
       "    <tr style=\"text-align: right;\">\n",
       "      <th></th>\n",
       "      <th>paper_id</th>\n",
       "      <th>abstract</th>\n",
       "      <th>body_text</th>\n",
       "    </tr>\n",
       "  </thead>\n",
       "  <tbody>\n",
       "    <tr>\n",
       "      <th>0</th>\n",
       "      <td>261a1408be03a4ba06ce2fef3c6775fecb60e167</td>\n",
       "      <td>In response to the impending spread of COVID-1...</td>\n",
       "      <td>Digital technologies have provided support in ...</td>\n",
       "    </tr>\n",
       "    <tr>\n",
       "      <th>1</th>\n",
       "      <td>efe13333c69a364cb5d4463ba93815e6fc2d91c6</td>\n",
       "      <td>Background</td>\n",
       "      <td>a1111111111 a1111111111 a1111111111 a111111111...</td>\n",
       "    </tr>\n",
       "    <tr>\n",
       "      <th>2</th>\n",
       "      <td>4fcb95cc0c4ea6d1fa4137a4a087715ed6b68cea</td>\n",
       "      <td>Abnormal levels of end-tidal carbon dioxide (E...</td>\n",
       "      <td>Improvements in neonatal intensive care have r...</td>\n",
       "    </tr>\n",
       "    <tr>\n",
       "      <th>3</th>\n",
       "      <td>94310f437664763acbb472df37158b9694a3bf3a</td>\n",
       "      <td>This study aimed to develop risk scores based ...</td>\n",
       "      <td>The coronavirus disease 2019 (COVID- 19) is an...</td>\n",
       "    </tr>\n",
       "    <tr>\n",
       "      <th>4</th>\n",
       "      <td>7893b2eacabd217e5740331425371336afb9a575</td>\n",
       "      <td>The article describes the algorithm for creati...</td>\n",
       "      <td>Currently, one of the main tasks of 3D modelli...</td>\n",
       "    </tr>\n",
       "  </tbody>\n",
       "</table>\n",
       "</div>"
      ],
      "text/plain": [
       "                                   paper_id  \\\n",
       "0  261a1408be03a4ba06ce2fef3c6775fecb60e167   \n",
       "1  efe13333c69a364cb5d4463ba93815e6fc2d91c6   \n",
       "2  4fcb95cc0c4ea6d1fa4137a4a087715ed6b68cea   \n",
       "3  94310f437664763acbb472df37158b9694a3bf3a   \n",
       "4  7893b2eacabd217e5740331425371336afb9a575   \n",
       "\n",
       "                                            abstract  \\\n",
       "0  In response to the impending spread of COVID-1...   \n",
       "1                                         Background   \n",
       "2  Abnormal levels of end-tidal carbon dioxide (E...   \n",
       "3  This study aimed to develop risk scores based ...   \n",
       "4  The article describes the algorithm for creati...   \n",
       "\n",
       "                                           body_text  \n",
       "0  Digital technologies have provided support in ...  \n",
       "1  a1111111111 a1111111111 a1111111111 a111111111...  \n",
       "2  Improvements in neonatal intensive care have r...  \n",
       "3  The coronavirus disease 2019 (COVID- 19) is an...  \n",
       "4  Currently, one of the main tasks of 3D modelli...  "
      ]
     },
     "execution_count": 26,
     "metadata": {},
     "output_type": "execute_result"
    }
   ],
   "source": [
    "#Creating a dataframe of all research papers from pdf json\n",
    "df_json_pdf = pd.DataFrame(dict_, columns=['paper_id', 'abstract','body_text'])\n",
    "df_json_pdf.head()"
   ]
  },
  {
   "cell_type": "code",
   "execution_count": 27,
   "id": "2199f9a4",
   "metadata": {
    "id": "2199f9a4",
    "outputId": "f642e0c3-a9bc-4177-f6a9-789ffacc0473"
   },
   "outputs": [
    {
     "name": "stderr",
     "output_type": "stream",
     "text": [
      "228979it [03:47, 1004.58it/s]"
     ]
    },
    {
     "name": "stdout",
     "output_type": "stream",
     "text": [
      "227.9409110546112\n"
     ]
    },
    {
     "name": "stderr",
     "output_type": "stream",
     "text": [
      "\n"
     ]
    }
   ],
   "source": [
    "#Create a dictionary of all research papers from pmc json\n",
    "dict_ = {'paper_id': [],'body_text': []}\n",
    "t1 = time.time()\n",
    "for idx, entry in tqdm(enumerate(all_json_pmc)):\n",
    "    content = FileReader(entry)\n",
    "    dict_['paper_id'].append(content.paper_id)\n",
    "    dict_['body_text'].append(content.body_text)\n",
    "print(time.time() - t1)"
   ]
  },
  {
   "cell_type": "code",
   "execution_count": 33,
   "id": "881f7057",
   "metadata": {
    "id": "881f7057",
    "outputId": "9fe448cd-349e-4be7-87f4-1936b6abf9e5"
   },
   "outputs": [
    {
     "data": {
      "text/html": [
       "<div>\n",
       "<style scoped>\n",
       "    .dataframe tbody tr th:only-of-type {\n",
       "        vertical-align: middle;\n",
       "    }\n",
       "\n",
       "    .dataframe tbody tr th {\n",
       "        vertical-align: top;\n",
       "    }\n",
       "\n",
       "    .dataframe thead th {\n",
       "        text-align: right;\n",
       "    }\n",
       "</style>\n",
       "<table border=\"1\" class=\"dataframe\">\n",
       "  <thead>\n",
       "    <tr style=\"text-align: right;\">\n",
       "      <th></th>\n",
       "      <th>paper_id</th>\n",
       "      <th>body_text</th>\n",
       "    </tr>\n",
       "  </thead>\n",
       "  <tbody>\n",
       "    <tr>\n",
       "      <th>0</th>\n",
       "      <td>PMC7940615</td>\n",
       "      <td>A large part of the current therapeutic discov...</td>\n",
       "    </tr>\n",
       "    <tr>\n",
       "      <th>1</th>\n",
       "      <td>PMC7405720</td>\n",
       "      <td>COVID-19 can be transmitted through airborne r...</td>\n",
       "    </tr>\n",
       "    <tr>\n",
       "      <th>2</th>\n",
       "      <td>PMC7670963</td>\n",
       "      <td>\\nASymptomatic treatment onlyBRefer to physica...</td>\n",
       "    </tr>\n",
       "    <tr>\n",
       "      <th>3</th>\n",
       "      <td>PMC7463272</td>\n",
       "      <td>Return to sport after meniscal surgery, as aft...</td>\n",
       "    </tr>\n",
       "    <tr>\n",
       "      <th>4</th>\n",
       "      <td>PMC8013949</td>\n",
       "      <td>“Essentialism is not about how to get more thi...</td>\n",
       "    </tr>\n",
       "  </tbody>\n",
       "</table>\n",
       "</div>"
      ],
      "text/plain": [
       "     paper_id                                          body_text\n",
       "0  PMC7940615  A large part of the current therapeutic discov...\n",
       "1  PMC7405720  COVID-19 can be transmitted through airborne r...\n",
       "2  PMC7670963  \\nASymptomatic treatment onlyBRefer to physica...\n",
       "3  PMC7463272  Return to sport after meniscal surgery, as aft...\n",
       "4  PMC8013949  “Essentialism is not about how to get more thi..."
      ]
     },
     "execution_count": 33,
     "metadata": {},
     "output_type": "execute_result"
    }
   ],
   "source": [
    "#Creating a dataframe of all research papers from pmc json\n",
    "df_json_pmc = pd.DataFrame(dict_, columns=['paper_id','body_text'])\n",
    "df_json_pmc.head()"
   ]
  },
  {
   "cell_type": "code",
   "execution_count": 34,
   "id": "77aa8c41",
   "metadata": {},
   "outputs": [
    {
     "data": {
      "text/plain": [
       "['A large part of the current therapeutic discovery effort against the severe acute respiratory syndrome coronavirus 2 (SARS-CoV)-2 is focused on drug repurposing1. Of such agents, only remdesivir has thus far shown clinical evidence of antiviral effect2, while several others have not met their primary endpoints in various clinical studies3,4. Recently, famotidine has gained attention as a therapeutic option against SARS-CoV-2, initially based on anecdotal evidence of its positive effects in COVID-19 patients in China. Famotidine (PEPCID®), a histamine-2 receptor (H2R) antagonist, is an FDA approved drug for the treatment of gastroesophageal reflux disease (GERD) and gastric ulcers5.$$$Earlier reports of the beneficial effect of famotidine in China were recently supported by a retrospective clinical study involving 1620 patients in the U.S., which noted that hospitalized COVID-19 patients receiving a total median dose of 136 mg famotidine, in oral or IV formulation once daily, for 6 days had a reduced risk of death or intubation6. Another study involving 10 non-hospitalized patients linked the use of high-dose oral famotidine (240 mg per day for a median of 11 days) with patient-reported improvements in symptoms such as shortness of breath and cough7. These two reports conclude that the use of high-dose famotidine may be associated with improvements in both mild and severe symptoms of COVID-19. While a large, multi-center clinical trial to confirm these observations is in progress, the mechanism by which famotidine purportedly improves the clinical outcomes in COVID-19 patients is unknown. In silico modeling and molecular docking studies have separately suggested either of the two SARS-CoV-2 proteases as potential targets of famotidine activity8,9. In one computational study, Wu et. al. docked a library of approved drugs on to the available X-ray crystal structure of the 3-chymotrypsin-like protease (3CLpro) of SARS-CoV-2, identifying famotidine as one of the drugs likely to act on the protease8. Other computational reports have predicted famotidine as an inhibitor of the Papain-like protease (PLpro), a second SARS-CoV-2 protease9. Together, these studies have raised the prospect of a direct antiviral effect of famotidine on SARS-CoV-2 replication. While both proteins are attractive targets for SARS-CoV-2 drug development10–19, there are at present no clinical-stage or approved drugs targeting either protein. The possibility of famotidine, an approved drug, acting on SARS-CoV-2 proteases is of significant clinical interest. In this in-vitro study, we performed an array of biochemical, biophysical, and antiviral experiments to test if famotidine is an effector of SARS-CoV-2 proteases and whether it inhibits virus replication in cultured cells.$$$Processing of the SARS-CoV-2 polyprotein is critical to the generation of a functional virus replication complex11,18,20. To carry out this essential proteolytic function, the SARS-CoV-2 genome encodes two cysteine proteases, called PLpro and 3CLpro18. Due to their critical roles in viral polyprotein processing and virus proliferation, both proteases are considered attractive targets for drug discovery10,11,13–17,21. Since in silico docking studies have predicted these proteases as putative molecular targets of famotidine6,8,9, we methodically investigated the effect of famotidine on the catalytic functions of each protease.$$$First, we developed an in-vitro activity assay of PLpro. PLpro is a protease domain found within the large multi-domain nsp3 protein encoded by SARS-CoV-2. While many coronaviruses encode two papain-like proteases, SARS-CoV, MERS-CoV and SARS-CoV-2 possess only one PLpro, which processes the amino-terminal end of the viral polyprotein liberating nsp1, nsp2 and nsp319,21. Additionally, PLpro deubiquitinates host cell proteins by cleaving the consensus motif of LXGG18,19 and is known to efficiently hydrolyze both diubiquitin and synthetic peptide substrates19. We leveraged the deubiquitinating property of PLpro to set up a functional activity assay using ubiquitin-AMC, a fluorogenic substrate cleavable by PLpro. Upon incubation with PLpro, the ubiquitin is recognized and cleaved at the C-terminus to liberate the AMC (amido-4-methylcoumarin) fluorophore which results in increased fluorescence that is read using excitation and emission wavelengths of 355/460 nm. We assessed the ability of famotidine to inhibit the proteolytic activity of PLpro at a broad range of drug concentrations vis-à-vis compound 6, a previously reported inhibitor of PLpro activity21. Experimental conditions including protein and substrate concentrations, buffer composition, and assay kinetics were optimized using compound 6. While compound 6 inhibited PLpro activity with the expected low single-digit μM IC50 values, famotidine showed no reduction in PLpro activity in the titrated range of 0.01–200 μM (Fig. 1a).$$$We next tested whether famotidine can inhibit the enzymatic activity of 3CLpro, the second protease encoded by the SARS-CoV-2 genome. This protein, also referred to as the main protease (Mpro) or nsp5, cleaves the viral polyprotein at 11 unique sites11. This proteolytic activity generates multiple individual functional proteins required for the assembly of the SARS-CoV-2 replication/transcription complex, which drives viral genome replication20. Owing to its central role in the coronavirus life cycle, 3CLpro has received significant attention as a drug target resulting in the discovery of several potent inhibitors 10,14,15,17. Native 3CLpro exists as a homodimer and requires dimerization for its proteolytic activity11. The catalytic mechanism of 3CLpro activity is typical of cysteine proteases, where the Cys-His catalytic dyad drives site-specific cleavage of substrates. We evaluated the enzymatic activity of 3CLpro using a FRET-peptide substrate that quenched fluorescence in its intact form, however, cleavage of the peptide substrate by 3CLpro produced fluorescence that could be measured at the excitation/emission wavelengths of 490/535 nm. The inclusion of ML188, a previously reported 3CLpro inhibitor served as a control, also aiding assay setup and optimization. Results of the FRET assay for various ML188 and famotidine concentrations are shown in Fig. 1b. Both compounds were tested between a range of 0.01–200 μM. While ML188 produced a dose-dependent inhibition of 3CLpro activity with an expected IC50 of 2.4 μM, famotidine did not inhibit 3CLpro activity.$$$When tested alone, neither famotidine nor the other tested compounds produced autofluorescence at the 355/460 nm and 490/535 nm wavelengths, respectively. These two experiments indicate that famotidine does not interfere with the catalytic activity of either of the two SARS-CoV-2 proteases.$$$The function of many enzymes, such as proteases and kinases, can extend beyond their catalytic roles and includes a wide spectrum of non-catalytic activities such as allosteric regulation, scaffolding, protein–protein interactions, and protein-DNA interactions22. To rule out whether famotidine could bind away from the active site of the two viral proteases, and exert an effect through interference with non-proteolytic functions, we asked if famotidine is able to bind directly with either of the two SARS-CoV-2 proteases. For this, we employed two distinct biophysical techniques i.e. surface plasmon resonance (SPR) and differential scanning fluorimetry (DSF), that are routinely used to probe drug-protein engagement.$$$For our SPR studies, the biotinylated viral proteases were captured to a high density on sensor chips via neutravidin, permitting real-time detection of small-molecule binding to the target viral proteases. Engagement of the small-molecule compounds was recorded as an increase in dose-dependent response units (RU) during the assay. Experimental conditions including buffer composition and temperature were optimized using the control compounds prior to conducting the famotidine studies. The equilibrium dissociation constant (Kd) values were determined using both a kinetic analysis and fit to a binding isotherm of the dose response data (Fig. 2). The observed Kd values for the known 3CLpro and PLpro inhibitors (Supplementary Information Table S1) were consistent with the published IC50 data14,21 indicating the robustness of our assay methodology. Under these optimized conditions, famotidine was not found to interact with either of the two viral proteases at concentration ranges of up to 100 uM.$$$To validate the results obtained from our SPR analysis, we employed an orthogonal DSF assay. DSF is a fluorescence-monitored thermal denaturing technique in which the melting temperature (Tm) of a protein is tracked via fluorescence as the sample temperature is incrementally raised in the presence of a hydrophobic dye. Drug binding to its target protein is known to stabilize (or destabilize) protein structure resulting in a variation of Tm profiles in the absence or presence of a drug. DSF provides definitive confirmation of target engagement as the increase in thermal unfolding temperature (ΔTm) is only achieved when the compounds bind to the folded state of the protein. The ΔTm is proportional to the Kd of the interaction and concentration of the compound. We tested the ability of famotidine and the control inhibitors to alter the thermal stability profiles of PLpro and 3CLpro. An optimal signal profile was obtained with 7 μM PLpro or 3CLpro. Both proteins were tested separately in the presence of DMSO (-ve control), their respective control inhibitors, and famotidine at concentrations of 1, 2.5 and 5 mM. In agreement with the SPR data, the control inhibitors produced a quantitative increase in observed Tm (Fig. 3). While compound 6, the known PLpro inhibitor, stabilized PLpro by a Tm shift of 6.6 °C (Fig. 3a), and ML188, the 3CLpro inhibitor, produced a Tm shift of 5.3 °C (Fig. 3b), famotidine did not alter the Tm of either of the two viral proteases. Taken together, the biophysical data decisively rules out the possibility of famotidine exerting its effect on PLpro or 3CLpro through interference with catalytic or non-catalytic protein functions as it is unable to bind with either of the two proteases.$$$Having established that famotidine does not inhibit SARS-CoV-2 proteases, we investigated the ability of famotidine to block virus replication in cell culture. For this, we infected Vero E6 cells, a commonly used cell model of SARS-CoV-2 infection derived from the African green monkey kidney. Infection efficiency was quantified through multiple, orthogonal readouts, including quantitative real-time PCR (qRT-PCR), plaque formation, and immunofluorescence. Remdesivir inhibited viral replication with an estimated half-maximum inhibitory concentration (IC50) value of 3.3 μM, as determined by immunofluorescence (Fig. 4a). In contrast, famotidine did not produce any measurable inhibition at concentrations of up to 200 μM at 72 h post infection. Similar results were obtained when viral replication was examined by infectious virion production using plaque formation assays or by quantifying viral RNA copy numbers in the cell culture medium using qRT-PCR (Supplementary Figures S1 and S2).$$$To confirm these results in a more physiologically relevant cell model of SARS-CoV-2 infection, we assessed the antiviral activity of famotidine in human lung A549 cells. These cells were engineered to express essential SARS-CoV-2 entry factors, ACE2 and TMPRSS223. The cells were infected with SARS-CoV-2 and cultured in the absence or presence of the control or test compounds. Virus replication (infection) efficiency was measured and reported as a function of compound concentration (Fig. 4). While remdesivir strongly inhibited virus replication in a dose-dependent manner with an IC50 value of 0.43 µM, famotidine had no measurable effect (Fig. 4b). Our results are consistent with previously reported studies in which remdesivir exerted a greater antiviral effect in human lung A549 cells than in Vero E6 cells24. The fact that famotidine does not inhibit SARS-CoV-2 replication in the A549 cells which possess the serine protease TMPRSS2 also likely points to it having no effect on host proteases involved in viral entry.$$$In-parallel cytotoxicity assays, carried out in both Vero E6 and A549 cells, showed that famotidine was not toxic up to the highest tested concentrations of 200 μM (Fig. 4). Remdesivir, on the other hand, exhibited dose-dependent cytotoxicity at higher concentrations, well above its IC50. Together, these results show that famotidine does not inhibit SARS-CoV-2 replication in cultured cells and that its purported clinical benefit may be due to an alternative mechanism of action.$$$Two in silico studies have separately predicted the 3CLpro or PLpro of SARS-CoV-2 as potential molecular targets of famotidine8,9, implying that famotidine associated improvement in COVID-19 patients may be due to a direct antiviral mechanism of action6. Despite recent advances in computational techniques, there are several challenges associated with the use of molecular docking to predict protein–ligand interactions accurately. Some of these challenges arise from the flexibility of the target protein, lack of prior knowledge of drug-binding sites, and protonation states of target amino acids25. While results obtained from molecular docking can serve as a basis for new hypotheses, experimental validation is needed. Our ligand-binding experiments using SPR and DSF did not support previous in silico predictions of direct binding between famotidine and SARS-CoV-2 proteases. We further used an array of experimental approaches to show that famotidine had no effect on SARS-CoV-2 protease function or generally on viral replication. It must be noted that since the clinical studies correlated putative clinical benefit with the use of higher doses of famotidine, we tested famotidine at significantly higher in-vitro concentrations than the peak plasma concentrations (0.5–2 µM) achieved in the blood of patients in both clinical studies6,7. Our data strongly suggest that the probable clinical benefit of famotidine likely arises independently of an antiviral mechanism of action.$$$COVID-19 complications are associated with a severe pro-inflammatory response in the lungs of infected patients26. The “cytokine storm” as a result of inflammation is a key pathognomonic feature of COVID-19 and the main contributor to respiratory failure and mortality27. Severe COVID-19 cases are characterized by pulmonary infiltration and extensive pulmonary edema, causing exudation of inflammatory cells in the alveolar space, resulting in extensive pulmonary consolidation leading to pneumonia and adult respiratory distress syndrome (ARDS)28–31. The results of the two famotidine-related COVID-19 clinical reports, when taken together6,7, suggest that famotidine likely helps with mitigating moderate to severe respiratory symptoms ranging from shortness of breath to intubation. Our data does not rule out the possibility that famotidine related improvements in COVID-19 patients are through an anti-inflammatory action. For example, the development of the cytokine storm in COVID-19 patients is characterized by elevation of pro-inflammatory type I cytokines, which are secreted from a variety of cells such as polymorphonuclear cells, natural killer cells, and endothelial cells, etc27. It is therefore conceivable that famotidine-related benefit in managing respiratory symptoms may be due to an anti-inflammatory mechanism of action.$$$It is noteworthy that H2R, the established molecular target of famotidine, is involved in the activation of several mediators of the adaptive immune response, such as Th1 lymphocytes, which are implicated in pro-inflammatory cytokine production32. Histamine, the H2R ligand, also regulates bronchoconstriction, airway inflammation, and vasodilation32. Mast cells are a major source of histamine and their activation has been reported following viral infections of the respiratory tract33–35. Therefore, Mast cells may represent an underappreciated source of pro-inflammatory cytokine release in COVID-19 patients33. A better understanding of the role of the H2R pathway in COVID-19 will help elucidate the molecular details of how famotidine reduces the disease severity.$$$Our in-vitro study redirects the mechanism behind the potential beneficial effect of famotidine, away from an antiviral effect to likely an anti-inflammatory action in COVID-19 patients. Given that there is an ongoing randomized clinical trial (NCT04370262), our results may assist the investigators in reshaping their interventional study to include inflammation-related outcomes. Also, it should be noted that while famotidine is one of the relatively safer drugs, its use is not without risk36–38, especially in elderly patients (a high-risk population for COVID-19), in which famotidine use has been associated with CNS complications39. Provided the ongoing clinical trial yields promising results, further investigation of famotidine and its safety profile in different age brackets will be needed before the drug can be used, most likely as part of a combination therapy, for COVID-19 disease management.$$$Famotidine was acquired from Sigma Aldrich (Missouri, USA; cat. No. F6889). Compound 6, a previously reported inhibitor of SARS-CoV-2 PLpro function21 was acquired from MedChem Express, Inc. (New Jersey, USA; cat no. HY-17542). ML188, a compound with known 3CLpro inhibitory activity15 was also acquired from MedChem Express, Inc. (cat. no HY-136259). Similarly, remdesivir. (cat. No HY-104077) an inhibitor of SARS-CoV-2 replication2 was purchased from the same vendor. All compounds were dissolved in 100% DMSO at 100 mM.$$$The complete sequences encoding 3CLpro and residues 746–1060 of PLpro (Wuhan-Hu-1 isolate, GenBank accession NC_045512) were cloned into a charge modified SUMO fusion expression vector, generated in-house. The fusion protein was expressed for 24 h in Rosetta-2 (DE3) pLysS at 18 °C in ZYP-5052 autoinducing media. Harvested cells were resuspended in 50 mM Hepes pH 7.5, containing 150 mM NaCl and lysed by sonication. The clarified supernatant was loaded onto a HiTrap HP SP column (Cytiva, Massachusetts, USA; cat no. 17115201) and the target fusion protein was captured in a cation-exchange chromatography step and eluted using a NaCl gradient. SUMO hydrolase was added to the pooled fractions to liberate the target protein and the sample dialyzed against 20 mM Tris, 10% v/v glycerol, 5 mM DTT pH 7.0 overnight at 4 °C. The protein was reloaded on the HiTrap HP SP column to remove the SUMO protein and hydrolase in a subtractive step. The flow-through, containing 3CLpro or PLpro was further purified by anion exchange chromatography using a HiTrap HP Q column (Cytiva; cat. no. 17115401) employing a NaCl gradient to elute the protein. Pooled fractions were further purified by size exclusion chromatography in 20 mM Tris pH 7.4, 150 mM NaCl and 5 mM DTT. The final protein was concentrated to 4 mg/mL for PLpro and 5 mg/mL for 3CLpro and flash frozen in aliquots.$$$PLpro activity was measured in a 384 well plate format (Corning #3574) in a kinetic assay using the fluorogenic substrate Ubiquitin-AMC (Boston Biochem, Inc. Massachusetts, USA; cat. No. U-550) with excitation and emission wavelengths of Ex355nm/Em:460 nm. The protocol followed previously reported conditions with minor modifications13,16. Fluorescence was monitored at 25 °C, every 5 min for 50 min in a Victor X5 (Perkin Elmer) multimode plate reader. Optimal enzyme and substrate concentrations were found to be 550 nM PLpro titrating the substrate in the range of 0.2 – 3 μM. The assay buffer (20 μL) contained 25 mM HEPES pH 7.5, 100 mM NaCl, 0.1 mg/ml BSA, and 550 nM PLpro. The test inhibitor, famotidine and the PLpro control inhibitor (compound 6) were both titrated in the concentration range of 0.01 μM – 200 μM. Compounds were incubated with the enzyme in the plate for 30 min at 25 °C before the reaction was started by the addition of 1 μM Ub-AMC. All samples were run in triplicates and their initial slopes were converted from relative fluorescence units (RFU)/ min to μmol AMC/min using an AMC standard curve and plotted against compound concentrations tested.$$$3CLpro activity was assayed in a 384 well plate using the 3CLpro FRET substrate (AnaSpec, Inc. California, USA; cat. no. AS-65599) with excitation and emission wavelengths of Ex: 490 nm/Em: 535 nm. A previously reported protocol was used with some modifications12,17. The kinetics of fluorescence change were monitored every minute for 25 min. Optimal concentrations for 3CLpro and substrate were 150 nM and 600 nM respectively. A previously reported 3CLpro inhibitor14, ML188, was used as a positive control for inhibition, both control and test compounds were titrated in the concentration range of 0.01 μM – 200 μM. Initial slopes of RFU/min were converted to μM hydrolyzed substrate/ min using a standard curve of HiLyte Fluor488 amine, TFA salt.$$$After subtraction of background fluorescence readings, values of Km and EC50 were obtained by fitting the experimental data with the Michaelis–Menten (y = (Vmax*x)/(Km + x)) and the four parameters logistic (4PL) equations (y = min + (max–min)/(1 + (x/EC50)^Hillslope)) respectively, using GraphPad Prism 8.$$$Thermal unfolding of proteins was monitored in a 20 uL volume in Micro-Amp EnduraPlate Optical 384-well Clear Reaction Plates (ThermoFisher: cat no. 4483285 ). Reactions contained 50 mM HEPES pH 7.5, 62.5 mM NaCl, 7 μM 3CLpro or PLpro, 5% DMSO, and 4 × SYPRO-orange protein gel stain (ThermoFisher Scientific, Massachusetts, USA; cat no. S6651). Famotidine and the positive controls ML188 and compound 6 for 3CLpro and PLpro, respectively, were incubated with the protein for 15 min before the addition of SYPRO orange. Plates were covered with Micro-Amp Optical Adhesive Film (ThermoFisher Scientific, Massachusetts, USA; cat no. 4360954) and run on Applied Biosystems 7900HT (California, USA) real time PCR instrument. Samples were incubated at 25 °C for 2 min followed by an increase in temperature of 1 °C/min up to 95 °C. Fluorescence was monitored continuously. Each sample was run in triplicate and compounds were tested at 1 mM, 2.5 mM, and 5 mM. The melting temperature (Tm) was obtained from the first derivative of the raw thermal denaturing data were determined and smoothed to calculate melting temperature (Tm) values40.$$$SPR studies were performed on a Biacore 3000 instrument (Cytiva, Massachusetts, USA) at 10 °C. The PLpro and 3CLpro proteins were biotinylated by minimal biotinylation approach with the EZ-LINK Sulfo-NHS-LC-LC-biotin reagent (ThermoFisher Scientific, Massachusetts, USA; cat no. A35358) and immobilized on a neutravidin coated CM5 sensor chip to a level of 4000 response units (RU). The protein used during immobilization was at 1 μM for PLpro and 1 μM for 3CLpro. During the course of the assay different concentrations of compounds were injected. The Compounds were serially diluted (twofold) in a running buffer of 25 mM HEPES pH 7.0, 200 mM NaCl, 2 mM TCEP, 0.005% P20 and 1% DMSO. Famotidine, and the control inhibitors, compound 6 and the ML188 were tested up to a maximal dose of 100 μM, 50 μM and 5 μM, respectively. The final response was obtained by subtracting the blank channel (without protein) and a buffer injection across the sample channel. Raw data were analyzed in the Scrubber2 program (BioLogic Software) by fitting the data to a simple 1:1 equilibrium and kinetic model.$$$Virus infectivity assays were carried out using the 2019-nCoV/USA-WA1/2020 isolate of SARS-CoV-2 (NCBI accession number: MN985325), obtained from the Centers for Disease Control and Prevention and BEI Resources (Virginia, USA). The virus stock was propagated in Vero E6 cells and virus titers determined using plaque formation assays, as described previously41.$$$Human lung A549 cells expressing SARS-CoV-2 entry factors and African Green Monkey kidney Vero E6 cells were maintained in DMEM supplemented with 10% fetal bovine serum (FBS). The cells were seeded into poly-L-lysine-coated 96-well plates at a density of 15,000 cells per well. The cells were then treated for 4 h with five-fold serial dilutions of famotidine, ranging between 0.32 µM and 200 µM. DMSO served as a negative control, while fivefold serial dilutions of remdesivir, ranging between 0.1 µM and 62.5 µM, served as a positive control. The cells were then infected with SARS-CoV-2 at a multiplicity of infection (MOI) of 0.1. To infect cells, the compound-containing medium was removed, and the cells were incubated with the virus for 1 h at 37ºC. The virus inoculum was then removed, and the cell monolayer was rinsed twice with 1X PBS. The compounds were added back followed by incubation for 72 h, after which the cell culture medium was harvested for quantitative real-time PCR (qRT-PCR) and plaque assays, while the cells were fixed with 4% paraformaldehyde for immunofluorescence microscopy.$$$RNA was isolated from the cell culture supernatant of SARS-CoV-2-infected cells using the Quick-RNA Viral Kit (Zymo, California, USA cat no. R1035) according to the manufacturer’s instructions. Viral RNA was quantified using single-step RT-quantitative real-time PCR using the qScript One-Step RT-qPCR Kit (Quantabio, Massachusetts, USA; cat no. 95058) with primers and Taqman probes targeting the SARS-CoV-2 E gene as previously described42. Data were acquired using a Quantstudio3 Real-Time PCR System (Applied Biosystems) using the following conditions: 55 °C for 10 min, denaturation at 94 °C for 3 min, 45 cycles of denaturation at 94 °C for 15 s, and annealing at 58 °C for 30 s. The primers and probe used were as follow: E_Sarbeco_Forward: ACAGGTACGTTAATAGTTAATAGCGT; E_Sarbeco_Probe: FAM-ACACTAGCCATCCTTACTGCGCTTCG-BBQ; E_Sarbeco_Reverse: ATATTGCAGCAGTACGCACACA. For absolute quantification of viral RNA, a 389 bp fragment from the SARS-CoV-2 E gene was cloned onto pIDTBlue plasmid under an SP6 promoter using NEB PCR cloning kit (New England Biosciences, Massachusetts, USA; cat no. E1202S). The cloned fragment was then in-vitro transcribed using the mMessage mMachine SP6 transcription kit (ThermoFisher, Massachusetts, USA; cat no. AM1340) to generate the qRT-PCR standard.$$$Virus-infected cells were fixed with 4% paraformaldehyde for 30 min. The fixative was removed, and the cell monolayer washed twice with 1X PBS. The cells were then permeabilized and stained with an anti-SARS-CoV Nucleocapsid (N) antibody (Rockland Inc., Pennsylvania, USA; cat. no. 200–401-A50; 1:2,000 dilution). Incubation with the primary antibody was performed overnight at 4ºC. The cells were then washed 5 times with 1X PBS and stained with Alexa 568-conjugated anti-rabbit antibody (1:1000 dilution) in the dark at room temperature for 1 h and counterstained with DAPI. Images were captured using EVOS M5000 Imaging System (ThermoFisher Scientific, Massachusetts, USA). Quantitation and analysis of the fixed cell images was carried out using the MuviCyte Live-Cell Imaging System (PerkinElmer, Massachusetts, USA). At least 7–10 microscopic fields were imaged per well using a 10X objective lens, the number of cells positive for the SARS-CoV-2 N protein and the nuclear DAPI stain, were counted. For each image, the percentage of DAPI-positive cells expressing the viral N protein were calculated, and the mean ± SD of multiple images for each condition was plotted.$$$The CellTiter-Glo Luminescent Cell Viability Assay (Promega, Wisconsin, USA; cat no. G7570) was used to determine the cytotoxic effects of the compounds. Briefly, the cells were incubated with five-fold serial dilutions of famotidine or remdesivir for 72 h, after which the CellTiter-Glo Reagent was added to each well in a volume equal to the volume of the culture medium. The contents were mixed by shaking the plate on an orbital shaker for 2 min, followed by a 10 min incubation at room temperature. Luminescence was recorded using a Varioskan LUX multimode plate reader (ThermoFisher Scientific, Massachusetts, USA).',\n",
       " 'COVID-19 can be transmitted through airborne respiratory droplets, ejected as a result of coughing or sneezing through human contact with contaminated surfaces (Yang and Wang 2020; Gralinski and Menachery 2020). Recent studies by the National Institute of Allergy and Infectious Diseases (USA) have shown that the virus can infect fomites made of metals, polymers and recycled paper for days (Van Doremalen et al. 2020).$$$Superhydrophobic surfaces have recently gained popularity in the biomedical sector due to their ability to possess blood repellency characteristics and reduce bacterial/viral adhesion to surfaces and their antifouling properties (Falde et al. 2016; Shin et al. 2016; Jaggessar et al. 2017). Earlier studies have shown that personal protective equipment (PPE) that have high contact angles (CA) and low sliding angles (SA) can significantly reduce a virus’s carryover potential and provide antimicrobial properties (Katoh et al. 2019; Tomšič et al. 2008; Yeerken et al. 2019).$$$In Part I, we demonstrated the potential in creating superhydrophobic coatings and monoliths that are capable to combating the transmission and spread of COVID-19. However, one of the main challenges that restricts the widespread utilization of superhydrophobic coatings in real applications is their durability (Ellinas et al. 2017; Jeevahan et al. 2018). Specifically, thermal and chemical stability as well as mechanical strength. Elevated temperatures can lead to the thermal degradation of hydrocarbon coatings (Cha et al. 2013) or thermal desorption of the hydrophobic material (Saleema and Farzaneh 2008), which result in the loss of surface superhydrophobicity. Additionally, some polymeric superhydrophobic surfaces cannot withstand elevated temperatures and are not recommended to operate above their glass transition temperature (Ellinas et al. 2017).$$$Similarly, chemical attack due to exposure to acidic or alkaline solutions can result in severe deterioration of the superhydrophobicity of the treated surfaces (BaratiDarband et al. 2020). For instance, highly alkaline or acidic solutions can result in dissolving the hydrophobic functional groups (Zhao et al. 2017; Ishizaki et al. 2010) and cause chemical desorption of the hydrophobic material (Cui et al. 2015).$$$Mechanical wear is considered one of the main performance degradation mechanisms of superhydrophobic surfaces (Milionis et al. 2016). Indeed, numerous studies and tests have been conducted to evaluate the influence of abrasion tests on the mechanical durability of these surfaces (Ellinas et al. 2017; Mortazavi and Khonsari 2017). Superhydrophobic surfaces generally suffer from weak mechanical durability due to the fragility of their nano/micro-hierarchical surface structure (Mortazavi and Khonsari 2017; Zhang et al. 2013). Additionally, polymeric materials involved in fabricating superhydrophobic surfaces usually suffer from poor mechanical stability and robustness (Ellinas et al. 2017). In our previous work (Elzaabalawy et al. 2019), we demonstrated that high external compressive loads can also lead to permanent plastic deformation of the surface hierarchical structure and the embedment of the hydrophobic nanoparticles, which ultimately cause a complete loss of superhydrophobicity.$$$COVID-19 spreads mainly through droplet transmission or via contacting fomites. We believe that surfaces coated with or created from a superhydrophobic nanocomposite has the potential of combating virus transmission and spread through a 3-step strategy discussed in Part I. The superhydrophobic nanocomposites acquire their protection characteristics through chemical modification as well as a hierarchical nano/microstructure of the modified surface. However, typical surfaces are subjected to elevated temperatures, chemical attacks and mechanical damage during service. As a result, the surface repellency characteristics may be altered and the effectiveness and the potential of the surface to encapsulate and suppress the virus might be lost. For nanocomposite superhydrophobic surfaces, utilizing different polymeric materials can be used to vary the flexibility and durability of the developed surfaces. For instance, silicone polymers can be used when flexibility is sought, and epoxy can be employed to meet the requirements of harsh mechanical environments. The durability of the nanocomposite can also be enhanced and tailored by selecting constituent materials that possess high thermal and chemical stability. Moreover, superhydrophobic monoliths with regenerative capabilities can be employed in severe service conditions to accommodate mechanical damage. Since these monoliths acquire water repellency features throughout the entire bulk of the material, surfaces can be regenerated by removing the damaged layer and exposing a new superhydrophobic layer. In this case, superhydrophobicity can be maintained as long as the monolith’s thickness can accommodate a layer removal.$$$The aim of Part II is to assess the ability of the superhydrophobic coating and monoliths discussed in Part I to resist thermal degradation, chemical attacks, and mechanical damage. Three aspects of the work were accordingly examined. The first was concerned with thermal stability tests in which the superhydrophobic surfaces were subjected to elevated temperatures approaching 350 °C for silicone-based nanocomposites and 150 °C for epoxy-based nanocomposites. The second was concerned with subjecting the surfaces to alkaline and acidic environments with PH values ranging between 1 and 13. Finally, the mechanical durability of the surface of epoxy-based nanocomposite coating was assessed using abrasion tests, while the regenerative capability of the silicone-based nanocomposite monoliths was evaluated using compressive loading. Given below is a summary of the approach adopted and the outcomes of our research.$$$In this research program, superhydrophobic coatings and monoliths were developed using epoxy and silicone nanocomposites. We demonstrated the ability of these coatings to modify the surface characteristics of different substrate materials, as shown in Fig. 1. We have also succeeded in fabricating a bulk that is entirely superhydrophobic. In order to assess the thermal, chemical, and mechanical stability of these surfaces, multiple tests were conducted.$$$Since superhydrophobic surfaces are characterized by CA above 150° and SA below 10°, the superhydrophobicity in these tests was assessed by measuring the contact and sliding angles. Contact angles were measured using an OCA 15EC contact angle analyzer (DataPhysics Instruments, Fig. 2), while sliding angles were measured using an in-house apparatus with controlled surface tilting until droplets roll off is achieved.$$$As organic polymers, epoxy thermosets will degrade under thermo-oxidative conditions, and this degradation typically initiates at the surface. It is therefore necessary to conduct thermal stability tests for the superhydrophobic surface to ensure that water repellency is maintained after being subjected to surges of elevated temperatures. Unlike organic polymers, silicone is characterized by its higher thermal resistance due to the high stability of its siloxane backbone.$$$In order to examine the thermal durability, coated samples and monoliths were placed in an oven for 3 h. Tests were conducted for different temperatures and the maximum temperature was selected based on the polymer’s auto-ignition temperature. Upon completing the test, samples were left to cool down, and then the contact and sliding angles were re-evaluated to assess their superhydrophobicity characteristics.$$$For epoxy-based nanocomposites, thermal durability tests were conducted for temperatures between 75 and 150 °C in 25 °C increments. As depicted in Fig. 3, no variation was observed to the values of CA (~ 165°) or SA (~ 3°) for all of the tested temperatures. These results verify that the coated samples maintained their superhydrophobicity and the siloxane-modification process (Part I) succeeded in enhancing the water repellency of epoxy without compromising its durability.$$$Silicone-based nanocomposites were tested for temperatures between 150 °C and 350 °C in 50 °C increments. As shown in Fig. 4, the coated samples and monoliths maintained high CA (~ 167° for monoliths and ~ 163° for coatings) and low SA (6° for monoliths and 5° for coatings) throughout the entire temperature range. These results further demonstrate the capability of the strong siloxane backbone within the polymer chemical structure to withstand elevated temperatures and maintain the superhydrophobicity of the nanocomposite.$$$Chemical attacks or short-term immersion in corrosive solutions can result in severe degradation of the surface characteristics. To assess the chemical stability of the developed superhydrophobic nanocomposites, samples were immersed in acidic and alkaline solutions for 3 h at room temperature in a fume hood, as depicted in Fig. 5. Solutions were prepared using sulphuric acid or sodium hydroxide, which were diluted using distilled water to achieve pH values between 1 and 13. Following the immersion, water repellency of the samples was again evaluated by measuring the contact and sliding angles.$$$Following the immersion tests, samples were observed to check their reflective appearance in the solution, which indicates a stable Cassie-Baxter wetting state, and to be completely dry upon removal. Furthermore, following the immersion, the CA and SA were measured for the epoxy-based and silicone-based nanocomposites, as depicted in Figs. 6 and 7, respectively. The measurements revealed that the nanocomposites are capable of maintaining their excellent superhydrophobicity for the entire range of pH values tested. Accordingly, these nanocomposites can operate and effectively maintain their performance in harsh service conditions that are subjected to acidic or alkaline chemical attacks.$$$Abrasion is considered the most widely test used to evaluate the mechanical properties of superhydrophobic coatings (Milionis et al. 2016). Since silicone-based coatings are sought to provide flexibility rather than mechanical strength, abrasion tests were only conducted to evaluate the strength and durability of epoxy-based nanocomposite coatings. As schematically shown in Fig. 8, the samples were placed face down on silicon carbide coarse sandpaper (320 grit) under a calibrated weight pressure of ~ 1 kPa. Abrasion cycles (10 cm of linear displacement) were performed in alternating directions. Following each interval of cycles, debris were removed, and the contact and sliding angles were measured.$$$The contact and sliding angles measurements following abrasion cycle intervals are demonstrated in Fig. 9. After 120 abrasion cycles, the coating was only able to maintain its high contact angle (> 150°), while the sliding angle increased above 10°. In order to examine the degradation caused to the nano/microstructure of the surface, SEM images were obtained,$$$Figure 10 the results indicate that excessive abrasion cycles induce damage to the surface’s hierarchical structure (Fig. 9b) compared to the original superhydrophobic untouched coating (Fig. 9a). However, the nanocomposite coating was able to superbly sustain its superhydrophobicity after 90 abrasion cycles, which is attributed to the excellent adhesion strength and mechanical properties of epoxy polymers.$$$Although the epoxy-based nanocomposite coating demonstrated excellent mechanical durability characteristics, service conditions can sometimes be harsher than a coating can handle. In those situations, a silicone-based nanocomposite monolith that is entirely superhydrophobic is an excellent replacement. Under harsh mechanical environment, the superhydrophobic surface’s hierarchical structure would be damaged. To obviate this damage, the surface can overcome that damage by the regeneration of a fresh superhydrophobic layer under controlled abrasion. In order to demonstrate these regenerative capabilities, monoliths were exposed to compressive stresses ranging between 1 and 10 MPa with the aid of a uniaxial electrohydraulic servo-controlled testing machine (Instron 5965). Samples with a square cross-section (20 mm × 20 mm) were placed between two flat metallic plates, and then the loading was applied at a displacement rate of 1 mm/min until the desired load was obtained. The compressive load was then maintained for 5 min before the samples were unloaded. Subsequently, CA and SA were measured after unloading and after samples were regenerated. The test set up is depicted in Fig. 11.$$$The compression test results (Fig. 12) revealed that the monolith can withstand stresses up to 1 MPa without affecting its superhydrophobicity, in which CA and SA are maintained at ~ 167° and 6° respectively. For increased compressive stresses (3 and 5 MPa), gradual decrease in the CA and increase in SA were noticed. At a compressive stress of 10 MPa, CA reached ~ 149° and droplets were pinned to the surface and did not roll off even when applying a finite inclination angle. As shown in Fig. 13, SEM images indicated that this deterioration was caused by the plastic deformation in the surface’s hierarchical structure as a result of the high compressive stresses. Remarkably, the surface’s superhydrophobicity was fully restored upon the removal of the damaged layer through abrasion, and the respective CA and SA were fully recovered to ~ 167° and 6°, as depicted in Fig. 12. As observed, the regeneration process was successful for all values of destructive stresses (3–10 MPa).$$$In this work, we examined the durability of the newly developed superhydrophobic surfaces proposed in Part I to potentially combat the transmission and spread of COVID-19. Thermal degradation, chemical attack and mechanical abrasion tests were conducted, and the superhydrophobic surface characteristics were re-tested and re-evaluated. Our extensive test results revealed that the developed epoxy-based and silicone-based nanocomposites can maintain their superhydrophobicity after being subjected for 3 h to elevated temperatures of 150 °C and 350 °C, respectively. The developed surfaces also preserved their characteristics after being immersed in alkaline and acidic solutions (pH values 1–13) for 3 h. In order to assess the mechanical durability of epoxy-based nanocomposites, samples were subjected to abrasion tests, and they were capable of maintaining their superhydrophobicity for 90 abrasion cycles. Moreover, the regeneration capabilities of the silicone-based nanocomposites were demonstrated by subjecting the monoliths to destructive compressive loads (up to 10 MPa), and then the high CA and low SA were easily restored through abrasion. These results verify the ability of these surfaces to survive harsh service conditions and their potential use to combat the transmission and spread of infected surfaces. It is important to note that we have neither examined the combined effect of these parameters upon the surface characteristics of the developed superhydrophobic surfaces nor the prolonged exposure to these conditions (aging), which are considered beyond the scope of the current study.']"
      ]
     },
     "execution_count": 34,
     "metadata": {},
     "output_type": "execute_result"
    }
   ],
   "source": [
    "dict_[\"body_text\"][:2]"
   ]
  },
  {
   "cell_type": "markdown",
   "id": "5801f264",
   "metadata": {
    "id": "5801f264"
   },
   "source": [
    "# Sampling & Saving Course Dataset"
   ]
  },
  {
   "cell_type": "raw",
   "id": "9aeb860c",
   "metadata": {
    "id": "9aeb860c"
   },
   "source": [
    "Now we have 3 dataframes:\n",
    "        1. metadata - contains all the meta info of avaialable research papers\n",
    "        2. df_json_pdf - contains the paper_id, abstract and body of all pdf research papers available\n",
    "        3. df_json_pmc - contains the paper_id and body of all the pmc reasearch papers available"
   ]
  },
  {
   "cell_type": "code",
   "execution_count": 35,
   "id": "d1e5bdd2",
   "metadata": {
    "id": "d1e5bdd2"
   },
   "outputs": [],
   "source": [
    "#drop rows from the metadata where the corresponding research text doesn't exist in pdf json\n",
    "metadata.dropna(subset=['pdf_json_files'], inplace=True)"
   ]
  },
  {
   "cell_type": "code",
   "execution_count": 36,
   "id": "ebea6546",
   "metadata": {
    "id": "ebea6546",
    "outputId": "2ffdbdcd-0480-4533-b125-3f387604725e"
   },
   "outputs": [
    {
     "data": {
      "text/html": [
       "<div>\n",
       "<style scoped>\n",
       "    .dataframe tbody tr th:only-of-type {\n",
       "        vertical-align: middle;\n",
       "    }\n",
       "\n",
       "    .dataframe tbody tr th {\n",
       "        vertical-align: top;\n",
       "    }\n",
       "\n",
       "    .dataframe thead th {\n",
       "        text-align: right;\n",
       "    }\n",
       "</style>\n",
       "<table border=\"1\" class=\"dataframe\">\n",
       "  <thead>\n",
       "    <tr style=\"text-align: right;\">\n",
       "      <th></th>\n",
       "      <th>cord_uid</th>\n",
       "      <th>sha</th>\n",
       "      <th>source_x</th>\n",
       "      <th>title</th>\n",
       "      <th>doi</th>\n",
       "      <th>pmcid</th>\n",
       "      <th>pubmed_id</th>\n",
       "      <th>license</th>\n",
       "      <th>abstract</th>\n",
       "      <th>publish_time</th>\n",
       "      <th>authors</th>\n",
       "      <th>journal</th>\n",
       "      <th>mag_id</th>\n",
       "      <th>who_covidence_id</th>\n",
       "      <th>arxiv_id</th>\n",
       "      <th>pdf_json_files</th>\n",
       "      <th>pmc_json_files</th>\n",
       "      <th>url</th>\n",
       "      <th>s2_id</th>\n",
       "    </tr>\n",
       "  </thead>\n",
       "  <tbody>\n",
       "    <tr>\n",
       "      <th>0</th>\n",
       "      <td>ug7v899j</td>\n",
       "      <td>d1aafb70c066a2068b02786f8929fd9c900897fb</td>\n",
       "      <td>PMC</td>\n",
       "      <td>Clinical features of culture-proven Mycoplasma...</td>\n",
       "      <td>10.1186/1471-2334-1-6</td>\n",
       "      <td>PMC35282</td>\n",
       "      <td>11472636</td>\n",
       "      <td>no-cc</td>\n",
       "      <td>OBJECTIVE: This retrospective chart review des...</td>\n",
       "      <td>2001-07-04</td>\n",
       "      <td>Madani, Tariq A; Al-Ghamdi, Aisha A</td>\n",
       "      <td>BMC Infect Dis</td>\n",
       "      <td>NaN</td>\n",
       "      <td>NaN</td>\n",
       "      <td>NaN</td>\n",
       "      <td>document_parses/pdf_json/d1aafb70c066a2068b027...</td>\n",
       "      <td>document_parses/pmc_json/PMC35282.xml.json</td>\n",
       "      <td>https://www.ncbi.nlm.nih.gov/pmc/articles/PMC3...</td>\n",
       "      <td>NaN</td>\n",
       "    </tr>\n",
       "    <tr>\n",
       "      <th>1</th>\n",
       "      <td>02tnwd4m</td>\n",
       "      <td>6b0567729c2143a66d737eb0a2f63f2dce2e5a7d</td>\n",
       "      <td>PMC</td>\n",
       "      <td>Nitric oxide: a pro-inflammatory mediator in l...</td>\n",
       "      <td>10.1186/rr14</td>\n",
       "      <td>PMC59543</td>\n",
       "      <td>11667967</td>\n",
       "      <td>no-cc</td>\n",
       "      <td>Inflammatory diseases of the respiratory tract...</td>\n",
       "      <td>2000-08-15</td>\n",
       "      <td>Vliet, Albert van der; Eiserich, Jason P; Cros...</td>\n",
       "      <td>Respir Res</td>\n",
       "      <td>NaN</td>\n",
       "      <td>NaN</td>\n",
       "      <td>NaN</td>\n",
       "      <td>document_parses/pdf_json/6b0567729c2143a66d737...</td>\n",
       "      <td>document_parses/pmc_json/PMC59543.xml.json</td>\n",
       "      <td>https://www.ncbi.nlm.nih.gov/pmc/articles/PMC5...</td>\n",
       "      <td>NaN</td>\n",
       "    </tr>\n",
       "    <tr>\n",
       "      <th>2</th>\n",
       "      <td>ejv2xln0</td>\n",
       "      <td>06ced00a5fc04215949aa72528f2eeaae1d58927</td>\n",
       "      <td>PMC</td>\n",
       "      <td>Surfactant protein-D and pulmonary host defense</td>\n",
       "      <td>10.1186/rr19</td>\n",
       "      <td>PMC59549</td>\n",
       "      <td>11667972</td>\n",
       "      <td>no-cc</td>\n",
       "      <td>Surfactant protein-D (SP-D) participates in th...</td>\n",
       "      <td>2000-08-25</td>\n",
       "      <td>Crouch, Erika C</td>\n",
       "      <td>Respir Res</td>\n",
       "      <td>NaN</td>\n",
       "      <td>NaN</td>\n",
       "      <td>NaN</td>\n",
       "      <td>document_parses/pdf_json/06ced00a5fc04215949aa...</td>\n",
       "      <td>document_parses/pmc_json/PMC59549.xml.json</td>\n",
       "      <td>https://www.ncbi.nlm.nih.gov/pmc/articles/PMC5...</td>\n",
       "      <td>NaN</td>\n",
       "    </tr>\n",
       "  </tbody>\n",
       "</table>\n",
       "</div>"
      ],
      "text/plain": [
       "   cord_uid                                       sha source_x  \\\n",
       "0  ug7v899j  d1aafb70c066a2068b02786f8929fd9c900897fb      PMC   \n",
       "1  02tnwd4m  6b0567729c2143a66d737eb0a2f63f2dce2e5a7d      PMC   \n",
       "2  ejv2xln0  06ced00a5fc04215949aa72528f2eeaae1d58927      PMC   \n",
       "\n",
       "                                               title                    doi  \\\n",
       "0  Clinical features of culture-proven Mycoplasma...  10.1186/1471-2334-1-6   \n",
       "1  Nitric oxide: a pro-inflammatory mediator in l...           10.1186/rr14   \n",
       "2    Surfactant protein-D and pulmonary host defense           10.1186/rr19   \n",
       "\n",
       "      pmcid pubmed_id license  \\\n",
       "0  PMC35282  11472636   no-cc   \n",
       "1  PMC59543  11667967   no-cc   \n",
       "2  PMC59549  11667972   no-cc   \n",
       "\n",
       "                                            abstract publish_time  \\\n",
       "0  OBJECTIVE: This retrospective chart review des...   2001-07-04   \n",
       "1  Inflammatory diseases of the respiratory tract...   2000-08-15   \n",
       "2  Surfactant protein-D (SP-D) participates in th...   2000-08-25   \n",
       "\n",
       "                                             authors         journal  mag_id  \\\n",
       "0                Madani, Tariq A; Al-Ghamdi, Aisha A  BMC Infect Dis     NaN   \n",
       "1  Vliet, Albert van der; Eiserich, Jason P; Cros...      Respir Res     NaN   \n",
       "2                                    Crouch, Erika C      Respir Res     NaN   \n",
       "\n",
       "  who_covidence_id arxiv_id  \\\n",
       "0              NaN      NaN   \n",
       "1              NaN      NaN   \n",
       "2              NaN      NaN   \n",
       "\n",
       "                                      pdf_json_files  \\\n",
       "0  document_parses/pdf_json/d1aafb70c066a2068b027...   \n",
       "1  document_parses/pdf_json/6b0567729c2143a66d737...   \n",
       "2  document_parses/pdf_json/06ced00a5fc04215949aa...   \n",
       "\n",
       "                               pmc_json_files  \\\n",
       "0  document_parses/pmc_json/PMC35282.xml.json   \n",
       "1  document_parses/pmc_json/PMC59543.xml.json   \n",
       "2  document_parses/pmc_json/PMC59549.xml.json   \n",
       "\n",
       "                                                 url  s2_id  \n",
       "0  https://www.ncbi.nlm.nih.gov/pmc/articles/PMC3...    NaN  \n",
       "1  https://www.ncbi.nlm.nih.gov/pmc/articles/PMC5...    NaN  \n",
       "2  https://www.ncbi.nlm.nih.gov/pmc/articles/PMC5...    NaN  "
      ]
     },
     "execution_count": 36,
     "metadata": {},
     "output_type": "execute_result"
    }
   ],
   "source": [
    "metadata.head(3)"
   ]
  },
  {
   "cell_type": "code",
   "execution_count": 31,
   "id": "dc5e43e6",
   "metadata": {
    "id": "dc5e43e6"
   },
   "outputs": [],
   "source": [
    "#Taking 25000 randmly sampled records from metadata\n",
    "sub_metadata = metadata.sample(25000)"
   ]
  },
  {
   "cell_type": "code",
   "execution_count": 37,
   "id": "d000e2f2",
   "metadata": {
    "id": "d000e2f2"
   },
   "outputs": [],
   "source": [
    "#Sample the both pdf and pmc research paper table based on the sampled metadata table\n",
    "sub_df_json_pdf = df_json_pdf[df_json_pdf['paper_id'].isin(sub_metadata['sha'])]\n",
    "sub_df_json_pmc = df_json_pmc[df_json_pmc['paper_id'].isin(sub_metadata['pmcid'])]"
   ]
  },
  {
   "cell_type": "code",
   "execution_count": 38,
   "id": "13991f84",
   "metadata": {
    "id": "13991f84"
   },
   "outputs": [],
   "source": [
    "#storing the sample data (used for our course)\n",
    "sub_metadata.to_pickle('metadata_sample.pickle')\n",
    "sub_df_json_pdf.to_pickle('json_pdf_sample.pickle')\n",
    "sub_df_json_pmc.to_pickle('json_pmc_sample.pickle')"
   ]
  },
  {
   "cell_type": "code",
   "execution_count": null,
   "id": "d7df2035",
   "metadata": {},
   "outputs": [],
   "source": []
  }
 ],
 "metadata": {
  "colab": {
   "name": "deepl-learn-exp2.ipynb",
   "provenance": []
  },
  "kernelspec": {
   "display_name": "Python 3 (ipykernel)",
   "language": "python",
   "name": "python3"
  },
  "language_info": {
   "codemirror_mode": {
    "name": "ipython",
    "version": 3
   },
   "file_extension": ".py",
   "mimetype": "text/x-python",
   "name": "python",
   "nbconvert_exporter": "python",
   "pygments_lexer": "ipython3",
   "version": "3.9.13"
  }
 },
 "nbformat": 4,
 "nbformat_minor": 5
}
